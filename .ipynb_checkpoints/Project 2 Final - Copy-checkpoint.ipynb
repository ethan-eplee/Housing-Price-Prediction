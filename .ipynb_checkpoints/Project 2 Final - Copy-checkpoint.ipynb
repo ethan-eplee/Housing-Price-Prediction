{
 "cells": [
  {
   "cell_type": "markdown",
   "id": "a9314ab1",
   "metadata": {},
   "source": [
    "<img src=\"http://imgur.com/1ZcRyrc.png\" style=\"float: left; margin: 20px; height: 55px\">\n",
    "\n",
    "# Project 2: Ames Housing Prediction"
   ]
  },
  {
   "cell_type": "markdown",
   "id": "96fe09ab",
   "metadata": {},
   "source": [
    "## Contents:\n",
    "1. [Problem Statement](#Problem-Statement)\n",
    "2. [Import Libraries](#Import-Libraries)\n",
    "3. [Data Dictionary](#Data-Dictionary)\n",
    "4. [Exploratory Data Analysis](#Exploratory-Data-Analysis)\n",
    "    - Step 0. Import data\n",
    "    - Step 1. Find features with strong correlation to saleprice\n",
    "    - Step 2. Drop off specific skewed features\n",
    "    - Step 3. Fill null values\n",
    "    - Step 4. Feature engineering, get rid of multicollinearity\n",
    "    - Step 5. Dealing with outliers\n",
    "5. [Get Dummies on Categorical columns](#Get-Dummies)\n",
    "6. [Model Preparation](#Model-Preparation)\n",
    "    - Create features matrix (X) and target vector (Y)\n",
    "    - Train/test split\n",
    "    - Standard Scaler\n",
    "    - Check skewness\n",
    "6. [Model Fitting](#Model-Fitting)\n",
    "    - Linear Regression (Base model)\n",
    "    - GridSearch (LR, Ridge, Lasso, ElasticNet)\n",
    "    - Evaluating the best model\n",
    "    - Visualisations to infer results\n",
    "7. [Kaggle Submission](#Kaggle-Submission)"
   ]
  },
  {
   "cell_type": "markdown",
   "id": "902340ff",
   "metadata": {},
   "source": [
    "## Problem Statement\n",
    "*Back to [Contents](#Contents:)*"
   ]
  },
  {
   "cell_type": "markdown",
   "id": "8798e109",
   "metadata": {},
   "source": [
    "We are a general insurance company based in Ames, Iowa specializing in home insurance. Customers typically come to us for home valuation services.\n",
    "\n",
    "We have noticed through feedback forms that customers find our application forms:\n",
    "- Tedious and overly complicated\n",
    "- Usually take more than an hour for customers to fill up (total of 80 questions)\n",
    "- Customers do not want to spend more than 10 mins\n",
    "\n",
    "Due to the high dropout rates, management is concerned with the loss of revenue and share of customers to our competitors, who offer quicker and more accurate processing times.\n",
    "\n",
    "As a group of data scientists within the firm, we have been tasked to simplify the application process through automating this process using machine learning models.\n",
    "\n",
    "These predictive underwriting models will help to:\n",
    "- Effectively predict the valuation of the property\n",
    "- Improve efficiencies and the overall customer end-to-end experience\n",
    "- Increasing take-up rate due to straight through processing"
   ]
  },
  {
   "cell_type": "markdown",
   "id": "bf0a6986",
   "metadata": {},
   "source": [
    "### Datasets used in this project\n",
    "* [`train.csv`](./datasets/train.csv): A dataset containing 80 housing features of 2051 residential homes sold in Ames, Iowa from 2006 to 2010. In addition, the sale prices are given for all 2051 of these houses.\n",
    "* [`test.csv`](./datasets/test.csv): A dataset containing the same housing features as above of 878 homes."
   ]
  },
  {
   "cell_type": "markdown",
   "id": "8707824c",
   "metadata": {},
   "source": [
    "## Import Libraries\n",
    "*Back to [Contents](#Contents:)*"
   ]
  },
  {
   "cell_type": "code",
   "execution_count": 1,
   "id": "460852bd",
   "metadata": {},
   "outputs": [],
   "source": [
    "import numpy as np\n",
    "import pandas as pd\n",
    "import matplotlib.pyplot as plt\n",
    "import seaborn as sns\n",
    "import missingno as msno\n",
    "import warnings\n",
    "warnings.filterwarnings('ignore')\n",
    "\n",
    "from sklearn.linear_model import LinearRegression, Ridge, Lasso, ElasticNet\n",
    "from sklearn.linear_model import ElasticNetCV\n",
    "from sklearn.preprocessing import StandardScaler, PolynomialFeatures, MinMaxScaler\n",
    "from sklearn.model_selection import train_test_split, cross_val_score, GridSearchCV\n",
    "from sklearn.metrics import mean_squared_error\n",
    "from sklearn.pipeline import Pipeline\n",
    "\n",
    "from statsmodels.stats.outliers_influence import variance_inflation_factor\n",
    "from scipy.stats import norm"
   ]
  },
  {
   "cell_type": "markdown",
   "id": "0dc9310f",
   "metadata": {},
   "source": [
    "## Data Dictionary\n",
    "*Back to [Contents](#Contents:)*"
   ]
  },
  {
   "cell_type": "markdown",
   "id": "9538bd54",
   "metadata": {},
   "source": [
    "**Data Dictionary to be used for both Train and Test dataframes**\n",
    "\n",
    "| Feature         | Type    | Description                                                            |\n",
    "|-----------------|---------|------------------------------------------------------------------------|\n",
    "| id              | int64   | ID of sale transaction                                                 |\n",
    "| pid             | int64   | Property ID                                                            |\n",
    "| ms_subclass     | int64   | Building class                                                         |\n",
    "| ms_zoning       | object  | Identifies the general zoning classification of the sale               |\n",
    "| lot_frontage    | float64 | Linear feet of street connected to property                            |\n",
    "| lot_area        | int64   | Lot size in square feet                                                |\n",
    "| street          | object  | Type of road access to property                                        |\n",
    "| alley           | object  | Type of alley access to property                                       |\n",
    "| lot_shape       | object  | General shape of property                                              |\n",
    "| land_contour    | object  | Flatness of the property                                               |\n",
    "| utilities       | object  | Type of utilities available                                            |\n",
    "| lot_config      | object  | Lot configuration                                                      |\n",
    "| land_slope      | object  | Slope of property                                                      |\n",
    "| neighborhood    | object  | Physical locations within Ames city limits                             |\n",
    "| condition_1     | object  | Proximity to main road or railroad                                     |\n",
    "| condition_2     | object  | Proximity to main road or railroad (if a second is present)            |\n",
    "| bldg_type       | object  | Type of dwelling                                                       |\n",
    "| house_style     | object  | Style of dwelling                                                      |\n",
    "| overall_qual    | int64   | Overall material and finish quality                                    |\n",
    "| overall_cond    | int64   | Overall condition rating                                               |\n",
    "| year_built      | int64   | Original construction date                                             |\n",
    "| year_remod/add  | int64   | Remodel date (same as construction date if no remodeling or additions) |\n",
    "| roof_style      | object  | Type of roof                                                           |\n",
    "| roof_matl       | object  | Roof material                                                          |\n",
    "| exterior_1st    | object  | Exterior covering on house                                             |\n",
    "| exterior_2nd    | object  | Exterior covering on house (if more than one material)                 |\n",
    "| mas_vnr_type    | object  | Masonry veneer type                                                    |\n",
    "| mas_vnr_area    | float64 | Masonry veneer area in square feet                                     |\n",
    "| exter_qual      | object  | Exterior material quality                                              |\n",
    "| exter_cond      | object  | Present condition of the material on the exterior                      |\n",
    "| foundation      | object  | Type of foundation                                                     |\n",
    "| bsmt_qual       | object  | Height of the basement                                                 |\n",
    "| bsmt_cond       | object  | General condition of the basement                                      |\n",
    "| bsmt_exposure   | object  | Walkout or garden level basement walls                                 |\n",
    "| bsmtfin_type_1  | object  | Quality of basement finished area                                      |\n",
    "| bsmtfin_sf_1    | float64 | Type 1 finished square feet                                            |\n",
    "| bsmtfin_type_2  | object  | Quality of second finished area (if present)                           |\n",
    "| bsmtfin_sf_2    | float64 | Type 2 finished square feet                                            |\n",
    "| bsmt_unf_sf     | float64 | Unfinished square feet of basement area                                |\n",
    "| total_bsmt_sf   | float64 | Total square feet of basement area                                     |\n",
    "| heating         | object  | Type of heating                                                        |\n",
    "| heating_qc      | object  | Heating quality and condition                                          |\n",
    "| central_air     | object  | Central air conditioning                                               |\n",
    "| electrical      | object  | Electrical system                                                      |\n",
    "| 1st_flr_sf      | int64   | First Floor square feet                                                |\n",
    "| 2nd_flr_sf      | int64   | Second floor square feet                                               |\n",
    "| low_qual_fin_sf | int64   | Low quality finished square feet (all floors)                          |\n",
    "| gr_liv_area     | int64   | Above grade (ground) living area square feet                           |\n",
    "| bsmt_full_bath  | float64 | Basement full bathrooms                                                |\n",
    "| bsmt_half_bath  | float64 | Basement half bathrooms                                                |\n",
    "| full_bath       | int64   | Full bathrooms above grade                                             |\n",
    "| half_bath       | int64   | Half baths above grade                                                 |\n",
    "| bedroom_abvgr   | int64   | Number of bedrooms above basement level                                |\n",
    "| kitchen_abvgr   | int64   | Number of kitchens                                                     |\n",
    "| kitchen_qual    | object  | Kitchen quality                                                        |\n",
    "| totrms_abvgrd   | int64   | Total rooms above grade (does not include bathrooms)                   |\n",
    "| functional      | object  | Home functionality rating                                              |\n",
    "| fireplaces      | int64   | Number of fireplaces                                                   |\n",
    "| fireplace_qu    | object  | Fireplace quality                                                      |\n",
    "| garage_type     | object  | Garage location                                                        |\n",
    "| garage_yr_blt   | float64 | Year garage was built                                                  |\n",
    "| garage_finish   | object  | Interior finish of the garage                                          |\n",
    "| garage_cars     | float64 | Size of garage in car capacity                                         |\n",
    "| garage_area     | float64 | Size of garage in square feet                                          |\n",
    "| garage_qual     | object  | Garage quality                                                         |\n",
    "| garage_cond     | object  | Garage condition                                                       |\n",
    "| paved_drive     | object  | Paved driveway                                                         |\n",
    "| wood_deck_sf    | int64   | Wood deck area in square feet                                          |\n",
    "| open_porch_sf   | int64   | Open porch area in square feet                                         |\n",
    "| enclosed_porch  | int64   | Enclosed porch area in square feet                                     |\n",
    "| 3ssn_porch      | int64   | Three season porch area in square feet                                 |\n",
    "| screen_porch    | int64   | Screen porch area in square feet                                       |\n",
    "| pool_area       | int64   | Pool area in square feet                                               |\n",
    "| pool_qc         | object  | Pool quality                                                           |\n",
    "| fence           | object  | Fence quality                                                          |\n",
    "| misc_feature    | object  | Miscellaneous feature not covered in other categories                  |\n",
    "| misc_val        | int64   | $Value of miscellaneous feature                                        |\n",
    "| mo_sold         | int64   | Month Sold                                                             |\n",
    "| yr_sold         | int64   | Year Sold                                                              |\n",
    "| sale_type       | object  | Type of sale                                                           |\n",
    "| saleprice       | int64   | Sale Price                                                             |\n",
    "\n",
    "*Back to [Data Dictionary](#Data-Dictionary)*"
   ]
  },
  {
   "cell_type": "markdown",
   "id": "a3e0215c",
   "metadata": {},
   "source": [
    "## Exploratory Data Analysis\n",
    "*Back to [Contents](#Contents:)*"
   ]
  },
  {
   "cell_type": "markdown",
   "id": "23baf9eb",
   "metadata": {},
   "source": [
    "### Step 0. Import data\n",
    "- To clean up train and test datasets based on EDA done in previous notebook"
   ]
  },
  {
   "cell_type": "code",
   "execution_count": 2,
   "id": "918439fd",
   "metadata": {},
   "outputs": [],
   "source": [
    "train = pd.read_csv('./datasets/train.csv')\n",
    "test = pd.read_csv('./datasets/test.csv')"
   ]
  },
  {
   "cell_type": "code",
   "execution_count": 3,
   "id": "027f3e3e",
   "metadata": {
    "scrolled": true
   },
   "outputs": [
    {
     "name": "stdout",
     "output_type": "stream",
     "text": [
      "(2051, 81)\n",
      "(878, 80)\n"
     ]
    }
   ],
   "source": [
    "print(train.shape)\n",
    "print(test.shape)"
   ]
  },
  {
   "cell_type": "code",
   "execution_count": 4,
   "id": "354bd3fd",
   "metadata": {},
   "outputs": [],
   "source": [
    "# rename the columns\n",
    "train.columns = train.columns.str.lower()\n",
    "train.columns = train.columns.str.replace(' ','_')"
   ]
  },
  {
   "cell_type": "code",
   "execution_count": 5,
   "id": "8cf479b4",
   "metadata": {
    "scrolled": false
   },
   "outputs": [
    {
     "data": {
      "text/plain": [
       "Index(['1st_flr_sf', '2nd_flr_sf', '3ssn_porch', 'alley', 'bedroom_abvgr',\n",
       "       'bldg_type', 'bsmt_cond', 'bsmt_exposure', 'bsmt_full_bath',\n",
       "       'bsmt_half_bath', 'bsmt_qual', 'bsmt_unf_sf', 'bsmtfin_sf_1',\n",
       "       'bsmtfin_sf_2', 'bsmtfin_type_1', 'bsmtfin_type_2', 'central_air',\n",
       "       'condition_1', 'condition_2', 'electrical', 'enclosed_porch',\n",
       "       'exter_cond', 'exter_qual', 'exterior_1st', 'exterior_2nd', 'fence',\n",
       "       'fireplace_qu', 'fireplaces', 'foundation', 'full_bath', 'functional',\n",
       "       'garage_area', 'garage_cars', 'garage_cond', 'garage_finish',\n",
       "       'garage_qual', 'garage_type', 'garage_yr_blt', 'gr_liv_area',\n",
       "       'half_bath', 'heating', 'heating_qc', 'house_style', 'id',\n",
       "       'kitchen_abvgr', 'kitchen_qual', 'land_contour', 'land_slope',\n",
       "       'lot_area', 'lot_config', 'lot_frontage', 'lot_shape',\n",
       "       'low_qual_fin_sf', 'mas_vnr_area', 'mas_vnr_type', 'misc_feature',\n",
       "       'misc_val', 'mo_sold', 'ms_subclass', 'ms_zoning', 'neighborhood',\n",
       "       'open_porch_sf', 'overall_cond', 'overall_qual', 'paved_drive', 'pid',\n",
       "       'pool_area', 'pool_qc', 'roof_matl', 'roof_style', 'sale_type',\n",
       "       'saleprice', 'screen_porch', 'street', 'total_bsmt_sf', 'totrms_abvgrd',\n",
       "       'utilities', 'wood_deck_sf', 'year_built', 'year_remod/add', 'yr_sold'],\n",
       "      dtype='object')"
      ]
     },
     "execution_count": 5,
     "metadata": {},
     "output_type": "execute_result"
    }
   ],
   "source": [
    "train.columns.sort_values()"
   ]
  },
  {
   "cell_type": "markdown",
   "id": "291bfb92",
   "metadata": {},
   "source": [
    "We see too many features and would need to decide which to keep and which to drop.\n",
    "\n",
    "This will be the thought process:\n",
    "1. Find strong predictors to keep\n",
    "2. Drop skewed columns\n",
    "3. Fill up null values appropriately\n",
    "4. Feature engineering (combine columns or binarize)\n",
    "5. Drop outliers"
   ]
  },
  {
   "cell_type": "markdown",
   "id": "8ffc06af",
   "metadata": {},
   "source": [
    "### Step 1: Checking the correlation of stronger predictors against sale price"
   ]
  },
  {
   "cell_type": "code",
   "execution_count": 6,
   "id": "44446e48",
   "metadata": {
    "scrolled": true
   },
   "outputs": [
    {
     "data": {
      "text/plain": [
       "saleprice        1.000000\n",
       "overall_qual     0.800207\n",
       "gr_liv_area      0.697038\n",
       "garage_area      0.650270\n",
       "garage_cars      0.648220\n",
       "total_bsmt_sf    0.628925\n",
       "1st_flr_sf       0.618486\n",
       "Name: saleprice, dtype: float64"
      ]
     },
     "execution_count": 6,
     "metadata": {},
     "output_type": "execute_result"
    }
   ],
   "source": [
    "corr_table = train.corr()['saleprice']\n",
    "corr_table[abs(corr_table)>0.6].sort_values(ascending=False)"
   ]
  },
  {
   "cell_type": "markdown",
   "id": "bb5aea04",
   "metadata": {},
   "source": [
    "Out of the 39 numerical columns, only 6 of them have a correlation above 0.6. These columns describe the overall quality, the gross living area (includes the basement and first floor) and the size of the garage. We will try to binarize some of the categorical columns and check the correlation again, at the same time drop selected columns with a high single value."
   ]
  },
  {
   "cell_type": "markdown",
   "id": "95b76d13",
   "metadata": {},
   "source": [
    "### Step 2: Drop off specific columns with high % of nulls, zeros or single values"
   ]
  },
  {
   "cell_type": "markdown",
   "id": "d7cee75e",
   "metadata": {},
   "source": [
    "We will drop off as many columns as we can to reduce the number of features, especially those that are not in the above list of possibly good predictors. We can also try to be selective in choosing to keep some columns with features that we think can significantly affect the sales price of a house."
   ]
  },
  {
   "cell_type": "code",
   "execution_count": 7,
   "id": "aeb41992",
   "metadata": {},
   "outputs": [],
   "source": [
    "# write function to find columns with high % of nulls, zeros or single values\n",
    "\n",
    "def skewed_columns(df):\n",
    "    list_of_skewed_cols = []\n",
    "    for col in df.columns:\n",
    "        pct_null = round(df[col].isnull().sum()/len(df[col])*100,2)\n",
    "        \n",
    "        # for categorical columns\n",
    "        if df[col].dtype == np.object:\n",
    "            pct_single_value = round(df[col].value_counts()[0]/len(df)*100,2)\n",
    "            \n",
    "            if pct_single_value > 70 or pct_null >70:\n",
    "                print(f'------{col}------')\n",
    "                print('This variable has high percentage of a single value.')\n",
    "                print(train[col].value_counts())\n",
    "                print('% single value: ', pct_single_value)\n",
    "                print('% nulls: ', pct_null)\n",
    "                print('\\n')\n",
    "                list_of_skewed_cols.append(col)\n",
    "            \n",
    "        # for numerical columns\n",
    "        else:\n",
    "            pct_zeros = round(len(df[df[col]==0])/len(df)*100,2)\n",
    "            featcorr_saleprice = round(df[col].corr(df['saleprice']),2)\n",
    "            \n",
    "            if pct_zeros > 70 or pct_null>70:\n",
    "                print(f'------{col}------')\n",
    "                print('This variable has high percentage of zeros.')\n",
    "                print(train[col].value_counts())\n",
    "                print('% zeros: ', pct_zeros)\n",
    "                print('% nulls: ', pct_null)\n",
    "                print('Correlation with sale price: ', featcorr_saleprice )\n",
    "                print('\\n')\n",
    "                list_of_skewed_cols.append(col)\n",
    "    \n",
    "    return list_of_skewed_cols"
   ]
  },
  {
   "cell_type": "code",
   "execution_count": 8,
   "id": "b6934b0b",
   "metadata": {
    "scrolled": true
   },
   "outputs": [
    {
     "name": "stdout",
     "output_type": "stream",
     "text": [
      "------ms_zoning------\n",
      "This variable has high percentage of a single value.\n",
      "RL         1598\n",
      "RM          316\n",
      "FV          101\n",
      "C (all)      19\n",
      "RH           14\n",
      "A (agr)       2\n",
      "I (all)       1\n",
      "Name: ms_zoning, dtype: int64\n",
      "% single value:  77.91\n",
      "% nulls:  0.0\n",
      "\n",
      "\n",
      "------street------\n",
      "This variable has high percentage of a single value.\n",
      "Pave    2044\n",
      "Grvl       7\n",
      "Name: street, dtype: int64\n",
      "% single value:  99.66\n",
      "% nulls:  0.0\n",
      "\n",
      "\n",
      "------alley------\n",
      "This variable has high percentage of a single value.\n",
      "Grvl    85\n",
      "Pave    55\n",
      "Name: alley, dtype: int64\n",
      "% single value:  4.14\n",
      "% nulls:  93.17\n",
      "\n",
      "\n",
      "------land_contour------\n",
      "This variable has high percentage of a single value.\n",
      "Lvl    1843\n",
      "HLS      85\n",
      "Bnk      80\n",
      "Low      43\n",
      "Name: land_contour, dtype: int64\n",
      "% single value:  89.86\n",
      "% nulls:  0.0\n",
      "\n",
      "\n",
      "------utilities------\n",
      "This variable has high percentage of a single value.\n",
      "AllPub    2049\n",
      "NoSeWa       1\n",
      "NoSewr       1\n",
      "Name: utilities, dtype: int64\n",
      "% single value:  99.9\n",
      "% nulls:  0.0\n",
      "\n",
      "\n",
      "------lot_config------\n",
      "This variable has high percentage of a single value.\n",
      "Inside     1503\n",
      "Corner      348\n",
      "CulDSac     131\n",
      "FR2          60\n",
      "FR3           9\n",
      "Name: lot_config, dtype: int64\n",
      "% single value:  73.28\n",
      "% nulls:  0.0\n",
      "\n",
      "\n",
      "------land_slope------\n",
      "This variable has high percentage of a single value.\n",
      "Gtl    1953\n",
      "Mod      88\n",
      "Sev      10\n",
      "Name: land_slope, dtype: int64\n",
      "% single value:  95.22\n",
      "% nulls:  0.0\n",
      "\n",
      "\n",
      "------condition_1------\n",
      "This variable has high percentage of a single value.\n",
      "Norm      1767\n",
      "Feedr      109\n",
      "Artery      70\n",
      "RRAn        36\n",
      "PosN        27\n",
      "RRAe        21\n",
      "PosA        12\n",
      "RRNn         6\n",
      "RRNe         3\n",
      "Name: condition_1, dtype: int64\n",
      "% single value:  86.15\n",
      "% nulls:  0.0\n",
      "\n",
      "\n",
      "------condition_2------\n",
      "This variable has high percentage of a single value.\n",
      "Norm      2025\n",
      "Feedr       11\n",
      "Artery       5\n",
      "PosA         3\n",
      "PosN         3\n",
      "RRNn         2\n",
      "RRAe         1\n",
      "RRAn         1\n",
      "Name: condition_2, dtype: int64\n",
      "% single value:  98.73\n",
      "% nulls:  0.0\n",
      "\n",
      "\n",
      "------bldg_type------\n",
      "This variable has high percentage of a single value.\n",
      "1Fam      1700\n",
      "TwnhsE     161\n",
      "Duplex      75\n",
      "Twnhs       69\n",
      "2fmCon      46\n",
      "Name: bldg_type, dtype: int64\n",
      "% single value:  82.89\n",
      "% nulls:  0.0\n",
      "\n",
      "\n",
      "------roof_style------\n",
      "This variable has high percentage of a single value.\n",
      "Gable      1619\n",
      "Hip         397\n",
      "Flat         13\n",
      "Gambrel      12\n",
      "Mansard       7\n",
      "Shed          3\n",
      "Name: roof_style, dtype: int64\n",
      "% single value:  78.94\n",
      "% nulls:  0.0\n",
      "\n",
      "\n",
      "------roof_matl------\n",
      "This variable has high percentage of a single value.\n",
      "CompShg    2025\n",
      "Tar&Grv      15\n",
      "WdShngl       5\n",
      "WdShake       4\n",
      "Membran       1\n",
      "ClyTile       1\n",
      "Name: roof_matl, dtype: int64\n",
      "% single value:  98.73\n",
      "% nulls:  0.0\n",
      "\n",
      "\n",
      "------exter_cond------\n",
      "This variable has high percentage of a single value.\n",
      "TA    1778\n",
      "Gd     215\n",
      "Fa      49\n",
      "Ex       7\n",
      "Po       2\n",
      "Name: exter_cond, dtype: int64\n",
      "% single value:  86.69\n",
      "% nulls:  0.0\n",
      "\n",
      "\n",
      "------bsmt_cond------\n",
      "This variable has high percentage of a single value.\n",
      "TA    1834\n",
      "Gd      89\n",
      "Fa      65\n",
      "Po       5\n",
      "Ex       3\n",
      "Name: bsmt_cond, dtype: int64\n",
      "% single value:  89.42\n",
      "% nulls:  2.68\n",
      "\n",
      "\n",
      "------bsmtfin_type_2------\n",
      "This variable has high percentage of a single value.\n",
      "Unf    1749\n",
      "Rec      80\n",
      "LwQ      60\n",
      "BLQ      48\n",
      "ALQ      35\n",
      "GLQ      23\n",
      "Name: bsmtfin_type_2, dtype: int64\n",
      "% single value:  85.28\n",
      "% nulls:  2.73\n",
      "\n",
      "\n",
      "------bsmtfin_sf_2------\n",
      "This variable has high percentage of zeros.\n",
      "0.0       1803\n",
      "294.0        5\n",
      "483.0        3\n",
      "72.0         3\n",
      "180.0        3\n",
      "          ... \n",
      "132.0        1\n",
      "829.0        1\n",
      "1127.0       1\n",
      "435.0        1\n",
      "750.0        1\n",
      "Name: bsmtfin_sf_2, Length: 205, dtype: int64\n",
      "% zeros:  87.91\n",
      "% nulls:  0.05\n",
      "Correlation with sale price:  0.02\n",
      "\n",
      "\n",
      "------heating------\n",
      "This variable has high percentage of a single value.\n",
      "GasA    2018\n",
      "GasW      20\n",
      "Wall       6\n",
      "Grav       5\n",
      "OthW       2\n",
      "Name: heating, dtype: int64\n",
      "% single value:  98.39\n",
      "% nulls:  0.0\n",
      "\n",
      "\n",
      "------central_air------\n",
      "This variable has high percentage of a single value.\n",
      "Y    1910\n",
      "N     141\n",
      "Name: central_air, dtype: int64\n",
      "% single value:  93.13\n",
      "% nulls:  0.0\n",
      "\n",
      "\n",
      "------electrical------\n",
      "This variable has high percentage of a single value.\n",
      "SBrkr    1868\n",
      "FuseA     140\n",
      "FuseF      35\n",
      "FuseP       7\n",
      "Mix         1\n",
      "Name: electrical, dtype: int64\n",
      "% single value:  91.08\n",
      "% nulls:  0.0\n",
      "\n",
      "\n",
      "------low_qual_fin_sf------\n",
      "This variable has high percentage of zeros.\n",
      "0       2018\n",
      "80         3\n",
      "205        2\n",
      "512        1\n",
      "362        1\n",
      "53         1\n",
      "360        1\n",
      "384        1\n",
      "156        1\n",
      "436        1\n",
      "259        1\n",
      "479        1\n",
      "140        1\n",
      "397        1\n",
      "514        1\n",
      "144        1\n",
      "697        1\n",
      "114        1\n",
      "390        1\n",
      "234        1\n",
      "572        1\n",
      "312        1\n",
      "120        1\n",
      "515        1\n",
      "1064       1\n",
      "108        1\n",
      "473        1\n",
      "371        1\n",
      "513        1\n",
      "528        1\n",
      "450        1\n",
      "Name: low_qual_fin_sf, dtype: int64\n",
      "% zeros:  98.39\n",
      "% nulls:  0.0\n",
      "Correlation with sale price:  -0.04\n",
      "\n",
      "\n",
      "------bsmt_half_bath------\n",
      "This variable has high percentage of zeros.\n",
      "0.0    1923\n",
      "1.0     122\n",
      "2.0       4\n",
      "Name: bsmt_half_bath, dtype: int64\n",
      "% zeros:  93.76\n",
      "% nulls:  0.1\n",
      "Correlation with sale price:  -0.05\n",
      "\n",
      "\n",
      "------functional------\n",
      "This variable has high percentage of a single value.\n",
      "Typ     1915\n",
      "Min2      42\n",
      "Min1      42\n",
      "Mod       29\n",
      "Maj1      12\n",
      "Maj2       7\n",
      "Sev        2\n",
      "Sal        2\n",
      "Name: functional, dtype: int64\n",
      "% single value:  93.37\n",
      "% nulls:  0.0\n",
      "\n",
      "\n",
      "------garage_qual------\n",
      "This variable has high percentage of a single value.\n",
      "TA    1832\n",
      "Fa      82\n",
      "Gd      18\n",
      "Ex       3\n",
      "Po       2\n",
      "Name: garage_qual, dtype: int64\n",
      "% single value:  89.32\n",
      "% nulls:  5.56\n",
      "\n",
      "\n",
      "------garage_cond------\n",
      "This variable has high percentage of a single value.\n",
      "TA    1868\n",
      "Fa      47\n",
      "Gd      12\n",
      "Po       8\n",
      "Ex       2\n",
      "Name: garage_cond, dtype: int64\n",
      "% single value:  91.08\n",
      "% nulls:  5.56\n",
      "\n",
      "\n",
      "------paved_drive------\n",
      "This variable has high percentage of a single value.\n",
      "Y    1861\n",
      "N     151\n",
      "P      39\n",
      "Name: paved_drive, dtype: int64\n",
      "% single value:  90.74\n",
      "% nulls:  0.0\n",
      "\n",
      "\n",
      "------enclosed_porch------\n",
      "This variable has high percentage of zeros.\n",
      "0      1724\n",
      "112      13\n",
      "96       10\n",
      "40        6\n",
      "216       6\n",
      "       ... \n",
      "50        1\n",
      "26        1\n",
      "109       1\n",
      "239       1\n",
      "67        1\n",
      "Name: enclosed_porch, Length: 159, dtype: int64\n",
      "% zeros:  84.06\n",
      "% nulls:  0.0\n",
      "Correlation with sale price:  -0.14\n",
      "\n",
      "\n",
      "------3ssn_porch------\n",
      "This variable has high percentage of zeros.\n",
      "0      2025\n",
      "168       3\n",
      "153       3\n",
      "144       2\n",
      "140       1\n",
      "290       1\n",
      "182       1\n",
      "245       1\n",
      "216       1\n",
      "86        1\n",
      "323       1\n",
      "96        1\n",
      "180       1\n",
      "176       1\n",
      "508       1\n",
      "255       1\n",
      "150       1\n",
      "407       1\n",
      "120       1\n",
      "162       1\n",
      "224       1\n",
      "304       1\n",
      "Name: 3ssn_porch, dtype: int64\n",
      "% zeros:  98.73\n",
      "% nulls:  0.0\n",
      "Correlation with sale price:  0.05\n",
      "\n",
      "\n",
      "------screen_porch------\n",
      "This variable has high percentage of zeros.\n",
      "0      1870\n",
      "144       9\n",
      "168       8\n",
      "192       7\n",
      "180       7\n",
      "       ... \n",
      "53        1\n",
      "135       1\n",
      "141       1\n",
      "348       1\n",
      "190       1\n",
      "Name: screen_porch, Length: 100, dtype: int64\n",
      "% zeros:  91.18\n",
      "% nulls:  0.0\n",
      "Correlation with sale price:  0.13\n",
      "\n",
      "\n",
      "------pool_area------\n",
      "This variable has high percentage of zeros.\n",
      "0      2042\n",
      "519       1\n",
      "576       1\n",
      "800       1\n",
      "228       1\n",
      "480       1\n",
      "648       1\n",
      "738       1\n",
      "368       1\n",
      "561       1\n",
      "Name: pool_area, dtype: int64\n",
      "% zeros:  99.56\n",
      "% nulls:  0.0\n",
      "Correlation with sale price:  0.02\n",
      "\n",
      "\n",
      "------pool_qc------\n",
      "This variable has high percentage of a single value.\n",
      "Gd    4\n",
      "Fa    2\n",
      "TA    2\n",
      "Ex    1\n",
      "Name: pool_qc, dtype: int64\n",
      "% single value:  0.2\n",
      "% nulls:  99.56\n",
      "\n",
      "\n",
      "------fence------\n",
      "This variable has high percentage of a single value.\n",
      "MnPrv    227\n",
      "GdPrv     83\n",
      "GdWo      80\n",
      "MnWw      10\n",
      "Name: fence, dtype: int64\n",
      "% single value:  11.07\n",
      "% nulls:  80.5\n",
      "\n",
      "\n",
      "------misc_feature------\n",
      "This variable has high percentage of a single value.\n",
      "Shed    56\n",
      "Gar2     4\n",
      "Othr     3\n",
      "TenC     1\n",
      "Elev     1\n",
      "Name: misc_feature, dtype: int64\n",
      "% single value:  2.73\n",
      "% nulls:  96.83\n",
      "\n",
      "\n",
      "------misc_val------\n",
      "This variable has high percentage of zeros.\n",
      "0        1986\n",
      "400        12\n",
      "500         8\n",
      "600         6\n",
      "450         5\n",
      "2000        5\n",
      "700         4\n",
      "1200        2\n",
      "3000        2\n",
      "2500        2\n",
      "4500        2\n",
      "17000       1\n",
      "1300        1\n",
      "900         1\n",
      "1500        1\n",
      "800         1\n",
      "6500        1\n",
      "54          1\n",
      "3500        1\n",
      "1150        1\n",
      "300         1\n",
      "455         1\n",
      "8300        1\n",
      "460         1\n",
      "12500       1\n",
      "480         1\n",
      "650         1\n",
      "80          1\n",
      "Name: misc_val, dtype: int64\n",
      "% zeros:  96.83\n",
      "% nulls:  0.0\n",
      "Correlation with sale price:  -0.01\n",
      "\n",
      "\n",
      "------sale_type------\n",
      "This variable has high percentage of a single value.\n",
      "WD       1781\n",
      "New       160\n",
      "COD        63\n",
      "ConLD      17\n",
      "CWD        10\n",
      "ConLI       7\n",
      "ConLw       5\n",
      "Con         4\n",
      "Oth         4\n",
      "Name: sale_type, dtype: int64\n",
      "% single value:  86.84\n",
      "% nulls:  0.0\n",
      "\n",
      "\n"
     ]
    },
    {
     "data": {
      "text/plain": [
       "['ms_zoning',\n",
       " 'street',\n",
       " 'alley',\n",
       " 'land_contour',\n",
       " 'utilities',\n",
       " 'lot_config',\n",
       " 'land_slope',\n",
       " 'condition_1',\n",
       " 'condition_2',\n",
       " 'bldg_type',\n",
       " 'roof_style',\n",
       " 'roof_matl',\n",
       " 'exter_cond',\n",
       " 'bsmt_cond',\n",
       " 'bsmtfin_type_2',\n",
       " 'bsmtfin_sf_2',\n",
       " 'heating',\n",
       " 'central_air',\n",
       " 'electrical',\n",
       " 'low_qual_fin_sf',\n",
       " 'bsmt_half_bath',\n",
       " 'functional',\n",
       " 'garage_qual',\n",
       " 'garage_cond',\n",
       " 'paved_drive',\n",
       " 'enclosed_porch',\n",
       " '3ssn_porch',\n",
       " 'screen_porch',\n",
       " 'pool_area',\n",
       " 'pool_qc',\n",
       " 'fence',\n",
       " 'misc_feature',\n",
       " 'misc_val',\n",
       " 'sale_type']"
      ]
     },
     "execution_count": 8,
     "metadata": {},
     "output_type": "execute_result"
    }
   ],
   "source": [
    "# shows all the skewed features with their values\n",
    "skewed_columns(train)"
   ]
  },
  {
   "cell_type": "code",
   "execution_count": 9,
   "id": "122559c2",
   "metadata": {},
   "outputs": [
    {
     "name": "stdout",
     "output_type": "stream",
     "text": [
      "We will drop 22 skewed columns.\n"
     ]
    }
   ],
   "source": [
    "# Select columns to keep\n",
    "# Based on own judgment, these columns are likely to affect sales price significantly\n",
    "# Will combine all the porches features later into a total size of porch and deck feature\n",
    "\n",
    "skewed_cols_tokeep = ['ms_zoning', 'lot_config', 'condition_1', 'bldg_type',\\\n",
    "                      'functional', 'pool_area', 'misc_feature', 'misc_val', 'pool_qc',\\\n",
    "                      'enclosed_porch', '3ssn_porch', 'screen_porch']\n",
    "                      \n",
    "# Since these columns are skewed and correlation with the sale price not so high,\n",
    "# easier to drop to reduce number of features                      \n",
    "skewed_cols_todrop = ['street', 'alley', 'land_contour', 'utilities', 'land_slope',\\\n",
    "                      'condition_2', 'roof_style', 'roof_matl', 'exter_cond', 'bsmt_cond',\\\n",
    "                      'bsmtfin_type_2', 'bsmtfin_sf_2', 'heating', 'central_air', 'electrical',\\\n",
    "                      'low_qual_fin_sf', 'bsmt_half_bath', 'garage_qual', 'garage_cond',\\\n",
    "                      'paved_drive', 'fence', 'sale_type']\n",
    "\n",
    "print(f'We will drop {len(skewed_cols_todrop)} skewed columns.')"
   ]
  },
  {
   "cell_type": "code",
   "execution_count": 10,
   "id": "2df8cd7c",
   "metadata": {
    "scrolled": true
   },
   "outputs": [
    {
     "name": "stdout",
     "output_type": "stream",
     "text": [
      "After dropping, we have 59 columns.\n"
     ]
    }
   ],
   "source": [
    "train = train.drop(skewed_cols_todrop, axis=1)\n",
    "print(f'After dropping, we have {len(train.columns)} columns.')"
   ]
  },
  {
   "cell_type": "markdown",
   "id": "7e3f528d",
   "metadata": {},
   "source": [
    "### Step 3. Check and fill null values"
   ]
  },
  {
   "cell_type": "code",
   "execution_count": 11,
   "id": "36d8e6d0",
   "metadata": {
    "scrolled": true
   },
   "outputs": [
    {
     "name": "stdout",
     "output_type": "stream",
     "text": [
      "(18, 1)\n"
     ]
    },
    {
     "data": {
      "text/html": [
       "<div>\n",
       "<style scoped>\n",
       "    .dataframe tbody tr th:only-of-type {\n",
       "        vertical-align: middle;\n",
       "    }\n",
       "\n",
       "    .dataframe tbody tr th {\n",
       "        vertical-align: top;\n",
       "    }\n",
       "\n",
       "    .dataframe thead th {\n",
       "        text-align: right;\n",
       "    }\n",
       "</style>\n",
       "<table border=\"1\" class=\"dataframe\">\n",
       "  <thead>\n",
       "    <tr style=\"text-align: right;\">\n",
       "      <th></th>\n",
       "      <th>nullcounts</th>\n",
       "    </tr>\n",
       "  </thead>\n",
       "  <tbody>\n",
       "    <tr>\n",
       "      <th>pool_qc</th>\n",
       "      <td>2042</td>\n",
       "    </tr>\n",
       "    <tr>\n",
       "      <th>misc_feature</th>\n",
       "      <td>1986</td>\n",
       "    </tr>\n",
       "    <tr>\n",
       "      <th>fireplace_qu</th>\n",
       "      <td>1000</td>\n",
       "    </tr>\n",
       "    <tr>\n",
       "      <th>lot_frontage</th>\n",
       "      <td>330</td>\n",
       "    </tr>\n",
       "    <tr>\n",
       "      <th>garage_yr_blt</th>\n",
       "      <td>114</td>\n",
       "    </tr>\n",
       "    <tr>\n",
       "      <th>garage_finish</th>\n",
       "      <td>114</td>\n",
       "    </tr>\n",
       "    <tr>\n",
       "      <th>garage_type</th>\n",
       "      <td>113</td>\n",
       "    </tr>\n",
       "    <tr>\n",
       "      <th>bsmt_exposure</th>\n",
       "      <td>58</td>\n",
       "    </tr>\n",
       "    <tr>\n",
       "      <th>bsmtfin_type_1</th>\n",
       "      <td>55</td>\n",
       "    </tr>\n",
       "    <tr>\n",
       "      <th>bsmt_qual</th>\n",
       "      <td>55</td>\n",
       "    </tr>\n",
       "    <tr>\n",
       "      <th>mas_vnr_type</th>\n",
       "      <td>22</td>\n",
       "    </tr>\n",
       "    <tr>\n",
       "      <th>mas_vnr_area</th>\n",
       "      <td>22</td>\n",
       "    </tr>\n",
       "    <tr>\n",
       "      <th>bsmt_full_bath</th>\n",
       "      <td>2</td>\n",
       "    </tr>\n",
       "    <tr>\n",
       "      <th>bsmtfin_sf_1</th>\n",
       "      <td>1</td>\n",
       "    </tr>\n",
       "    <tr>\n",
       "      <th>bsmt_unf_sf</th>\n",
       "      <td>1</td>\n",
       "    </tr>\n",
       "    <tr>\n",
       "      <th>total_bsmt_sf</th>\n",
       "      <td>1</td>\n",
       "    </tr>\n",
       "    <tr>\n",
       "      <th>garage_cars</th>\n",
       "      <td>1</td>\n",
       "    </tr>\n",
       "    <tr>\n",
       "      <th>garage_area</th>\n",
       "      <td>1</td>\n",
       "    </tr>\n",
       "  </tbody>\n",
       "</table>\n",
       "</div>"
      ],
      "text/plain": [
       "                nullcounts\n",
       "pool_qc               2042\n",
       "misc_feature          1986\n",
       "fireplace_qu          1000\n",
       "lot_frontage           330\n",
       "garage_yr_blt          114\n",
       "garage_finish          114\n",
       "garage_type            113\n",
       "bsmt_exposure           58\n",
       "bsmtfin_type_1          55\n",
       "bsmt_qual               55\n",
       "mas_vnr_type            22\n",
       "mas_vnr_area            22\n",
       "bsmt_full_bath           2\n",
       "bsmtfin_sf_1             1\n",
       "bsmt_unf_sf              1\n",
       "total_bsmt_sf            1\n",
       "garage_cars              1\n",
       "garage_area              1"
      ]
     },
     "execution_count": 11,
     "metadata": {},
     "output_type": "execute_result"
    }
   ],
   "source": [
    "#create a null values dataframe\n",
    "dfnull = pd.DataFrame(train.isnull().sum(), columns=['nullcounts'])\n",
    "dfnull = dfnull[dfnull['nullcounts']!=0]\n",
    "print(dfnull.shape)\n",
    "dfnull.sort_values('nullcounts', ascending=False)"
   ]
  },
  {
   "cell_type": "markdown",
   "id": "c662de2b",
   "metadata": {},
   "source": [
    "There are now 18 out of 81 columns with null values, which should be relatively simple to fill in with appropriate values first. At the same time, we will decide if it is worth keeping the column, changing it into something else, dropping it altogether."
   ]
  },
  {
   "cell_type": "code",
   "execution_count": 12,
   "id": "478ab9af",
   "metadata": {},
   "outputs": [
    {
     "name": "stdout",
     "output_type": "stream",
     "text": [
      "lot_frontage\n",
      "60.0     179\n",
      "70.0      96\n",
      "80.0      94\n",
      "50.0      90\n",
      "65.0      71\n",
      "        ... \n",
      "118.0      1\n",
      "137.0      1\n",
      "195.0      1\n",
      "115.0      1\n",
      "135.0      1\n",
      "Name: lot_frontage, Length: 118, dtype: int64\n",
      "No of null values:  330\n",
      "% of null values: 16.09 %\n",
      "\n",
      "\n",
      "mas_vnr_type\n",
      "None       1218\n",
      "BrkFace     630\n",
      "Stone       168\n",
      "BrkCmn       13\n",
      "Name: mas_vnr_type, dtype: int64\n",
      "No of null values:  22\n",
      "% of null values: 1.07 %\n",
      "\n",
      "\n",
      "mas_vnr_area\n",
      "0.0      1216\n",
      "120.0      11\n",
      "176.0      10\n",
      "200.0      10\n",
      "108.0       9\n",
      "         ... \n",
      "142.0       1\n",
      "215.0       1\n",
      "235.0       1\n",
      "233.0       1\n",
      "426.0       1\n",
      "Name: mas_vnr_area, Length: 373, dtype: int64\n",
      "No of null values:  22\n",
      "% of null values: 1.07 %\n",
      "\n",
      "\n",
      "bsmt_qual\n",
      "TA    887\n",
      "Gd    864\n",
      "Ex    184\n",
      "Fa     60\n",
      "Po      1\n",
      "Name: bsmt_qual, dtype: int64\n",
      "No of null values:  55\n",
      "% of null values: 2.68 %\n",
      "\n",
      "\n",
      "bsmt_exposure\n",
      "No    1339\n",
      "Av     288\n",
      "Gd     203\n",
      "Mn     163\n",
      "Name: bsmt_exposure, dtype: int64\n",
      "No of null values:  58\n",
      "% of null values: 2.83 %\n",
      "\n",
      "\n",
      "bsmtfin_type_1\n",
      "GLQ    615\n",
      "Unf    603\n",
      "ALQ    293\n",
      "BLQ    200\n",
      "Rec    183\n",
      "LwQ    102\n",
      "Name: bsmtfin_type_1, dtype: int64\n",
      "No of null values:  55\n",
      "% of null values: 2.68 %\n",
      "\n",
      "\n",
      "bsmtfin_sf_1\n",
      "0.0       657\n",
      "24.0       17\n",
      "16.0       10\n",
      "384.0       7\n",
      "20.0        7\n",
      "         ... \n",
      "380.0       1\n",
      "223.0       1\n",
      "631.0       1\n",
      "1053.0      1\n",
      "155.0       1\n",
      "Name: bsmtfin_sf_1, Length: 821, dtype: int64\n",
      "No of null values:  1\n",
      "% of null values: 0.05 %\n",
      "\n",
      "\n",
      "bsmt_unf_sf\n",
      "0.0      165\n",
      "384.0     14\n",
      "672.0     11\n",
      "728.0     10\n",
      "816.0      9\n",
      "        ... \n",
      "988.0      1\n",
      "42.0       1\n",
      "793.0      1\n",
      "60.0       1\n",
      "994.0      1\n",
      "Name: bsmt_unf_sf, Length: 967, dtype: int64\n",
      "No of null values:  1\n",
      "% of null values: 0.05 %\n",
      "\n",
      "\n",
      "total_bsmt_sf\n",
      "0.0       54\n",
      "864.0     51\n",
      "672.0     20\n",
      "1040.0    20\n",
      "912.0     17\n",
      "          ..\n",
      "1508.0     1\n",
      "1840.0     1\n",
      "423.0      1\n",
      "2461.0     1\n",
      "1932.0     1\n",
      "Name: total_bsmt_sf, Length: 892, dtype: int64\n",
      "No of null values:  1\n",
      "% of null values: 0.05 %\n",
      "\n",
      "\n",
      "bsmt_full_bath\n",
      "0.0    1200\n",
      "1.0     824\n",
      "2.0      23\n",
      "3.0       2\n",
      "Name: bsmt_full_bath, dtype: int64\n",
      "No of null values:  2\n",
      "% of null values: 0.1 %\n",
      "\n",
      "\n",
      "fireplace_qu\n",
      "Gd    523\n",
      "TA    407\n",
      "Fa     59\n",
      "Po     31\n",
      "Ex     31\n",
      "Name: fireplace_qu, dtype: int64\n",
      "No of null values:  1000\n",
      "% of null values: 48.76 %\n",
      "\n",
      "\n",
      "garage_type\n",
      "Attchd     1213\n",
      "Detchd      536\n",
      "BuiltIn     132\n",
      "Basment      27\n",
      "2Types       19\n",
      "CarPort      11\n",
      "Name: garage_type, dtype: int64\n",
      "No of null values:  113\n",
      "% of null values: 5.51 %\n",
      "\n",
      "\n",
      "garage_yr_blt\n",
      "2005.0    105\n",
      "2007.0     84\n",
      "2006.0     80\n",
      "2004.0     72\n",
      "2003.0     66\n",
      "         ... \n",
      "1918.0      1\n",
      "2207.0      1\n",
      "1933.0      1\n",
      "1895.0      1\n",
      "1919.0      1\n",
      "Name: garage_yr_blt, Length: 100, dtype: int64\n",
      "No of null values:  114\n",
      "% of null values: 5.56 %\n",
      "\n",
      "\n",
      "garage_finish\n",
      "Unf    849\n",
      "RFn    579\n",
      "Fin    509\n",
      "Name: garage_finish, dtype: int64\n",
      "No of null values:  114\n",
      "% of null values: 5.56 %\n",
      "\n",
      "\n",
      "garage_cars\n",
      "2.0    1136\n",
      "1.0     524\n",
      "3.0     263\n",
      "0.0     113\n",
      "4.0      13\n",
      "5.0       1\n",
      "Name: garage_cars, dtype: int64\n",
      "No of null values:  1\n",
      "% of null values: 0.05 %\n",
      "\n",
      "\n",
      "garage_area\n",
      "0.0      113\n",
      "440.0     70\n",
      "576.0     69\n",
      "484.0     52\n",
      "528.0     46\n",
      "        ... \n",
      "535.0      1\n",
      "399.0      1\n",
      "859.0      1\n",
      "100.0      1\n",
      "217.0      1\n",
      "Name: garage_area, Length: 514, dtype: int64\n",
      "No of null values:  1\n",
      "% of null values: 0.05 %\n",
      "\n",
      "\n",
      "pool_qc\n",
      "Gd    4\n",
      "Fa    2\n",
      "TA    2\n",
      "Ex    1\n",
      "Name: pool_qc, dtype: int64\n",
      "No of null values:  2042\n",
      "% of null values: 99.56 %\n",
      "\n",
      "\n",
      "misc_feature\n",
      "Shed    56\n",
      "Gar2     4\n",
      "Othr     3\n",
      "TenC     1\n",
      "Elev     1\n",
      "Name: misc_feature, dtype: int64\n",
      "No of null values:  1986\n",
      "% of null values: 96.83 %\n",
      "\n",
      "\n"
     ]
    }
   ],
   "source": [
    "# write for loop to display values of features with null\n",
    "\n",
    "for col in dfnull.index:\n",
    "    print(col)\n",
    "    print(train[col].value_counts())\n",
    "    print('No of null values: ', train[col].isnull().sum())\n",
    "    print('% of null values:', round(train[col].isnull().sum()/len(train[col])*100,2),'%')\n",
    "    print('\\n')"
   ]
  },
  {
   "cell_type": "code",
   "execution_count": 13,
   "id": "93dae074",
   "metadata": {},
   "outputs": [
    {
     "data": {
      "text/plain": [
       "Index(['lot_frontage', 'mas_vnr_type', 'mas_vnr_area', 'bsmt_qual',\n",
       "       'bsmt_exposure', 'bsmtfin_type_1', 'bsmtfin_sf_1', 'bsmt_unf_sf',\n",
       "       'total_bsmt_sf', 'bsmt_full_bath', 'fireplace_qu', 'garage_type',\n",
       "       'garage_yr_blt', 'garage_finish', 'garage_cars', 'garage_area',\n",
       "       'pool_qc', 'misc_feature'],\n",
       "      dtype='object')"
      ]
     },
     "execution_count": 13,
     "metadata": {},
     "output_type": "execute_result"
    }
   ],
   "source": [
    "dfnull.index"
   ]
  },
  {
   "cell_type": "code",
   "execution_count": 14,
   "id": "1fbdcf90",
   "metadata": {},
   "outputs": [],
   "source": [
    "def fillnull(input_df):\n",
    "    \n",
    "    # make copy of the input df\n",
    "    copy_df = input_df.copy()\n",
    "    \n",
    "    # create quality mapping dictionary\n",
    "    qual_dict = {'Ex': 5,\n",
    "                 'Gd': 4,\n",
    "                 'TA': 3,\n",
    "                 'Fa': 2,\n",
    "                 'Po': 1,\n",
    "                 'NA': 0}\n",
    "    \n",
    "    # create basement exposure dictionary\n",
    "    bsmt_exposure_dict = {'NA': 0,\n",
    "                          'No': 1,\n",
    "                          'Mn': 2,\n",
    "                          'Av': 3,\n",
    "                          'Gd': 4}\n",
    "        \n",
    "    # FILL NULL VALUES WITH ZEROS OR NA---------------------------------------------------------\n",
    "    \n",
    "    # lot frontage\n",
    "    copy_df['lot_frontage'].fillna(0.0, inplace=True)\n",
    "    \n",
    "    # masonry veneer type: 4 types(None, BrkFace, Stone, Others)\n",
    "    copy_df['mas_vnr_type'].fillna('None', inplace=True)\n",
    "    \n",
    "    copy_df['mas_vnr_type'] = \\\n",
    "    copy_df['mas_vnr_type'].apply(lambda x: 'Others' if x not in ['None','BrkFace', 'Stone'] else x)\n",
    "    \n",
    "    # masonry veneer\n",
    "    copy_df['mas_vnr_area'].fillna(0.0, inplace=True)\n",
    "    \n",
    "    # basement features - will just keep 4 features, do some feature engineering and drop the rest\n",
    "    \n",
    "    copy_df['bsmt_qual'].fillna('NA', inplace=True)\n",
    "    copy_df['bsmt_qual'] = copy_df['bsmt_qual'].map(qual_dict)\n",
    "    \n",
    "    copy_df['bsmt_exposure'].fillna('NA', inplace=True)\n",
    "    copy_df['bsmt_exposure'] = copy_df['bsmt_exposure'].map(bsmt_exposure_dict)\n",
    "    \n",
    "    copy_df['total_bsmt_sf'].fillna(0.0, inplace=True)\n",
    "    copy_df['bsmt_full_bath'].fillna(0.0, inplace=True)\n",
    "    \n",
    "    copy_df.drop(['bsmtfin_type_1','bsmtfin_sf_1','bsmt_unf_sf'], axis=1, inplace=True)\n",
    "\n",
    "    \n",
    "    # garage features - will fill null and keep area feature only\n",
    "    # garage year built high correlation to house year built, so we can drop\n",
    "    \n",
    "    copy_df['garage_area'].fillna(0.0, inplace=True)\n",
    "    \n",
    "    copy_df.drop(['garage_type', 'garage_yr_blt', 'garage_finish', 'garage_cars'],\\\n",
    "                 axis=1, inplace=True)\n",
    "   \n",
    "    # misc features we will change to categorical, present or not present.\n",
    "    # drop misc value at the same time\n",
    "    \n",
    "    copy_df['misc_feature'].fillna('NA', inplace=True)\n",
    "    copy_df['have_miscfeat'] = copy_df['misc_feature'].apply(lambda x: 1 if x!='NA' else 0)\n",
    "    copy_df.drop(['misc_feature', 'misc_val'], axis=1, inplace=True)\n",
    "    \n",
    "    # fireplace and pool quality - change to presence of these features\n",
    "    copy_df.drop(['fireplace_qu', 'pool_qc'], axis=1, inplace=True)\n",
    " \n",
    "\n",
    "    # FINALLY RETURN THE PROCESSED COPY OF THE DF\n",
    "    return copy_df"
   ]
  },
  {
   "cell_type": "code",
   "execution_count": 15,
   "id": "a2ab3d94",
   "metadata": {
    "scrolled": false
   },
   "outputs": [
    {
     "name": "stdout",
     "output_type": "stream",
     "text": [
      "(0, 1)\n"
     ]
    },
    {
     "data": {
      "text/html": [
       "<div>\n",
       "<style scoped>\n",
       "    .dataframe tbody tr th:only-of-type {\n",
       "        vertical-align: middle;\n",
       "    }\n",
       "\n",
       "    .dataframe tbody tr th {\n",
       "        vertical-align: top;\n",
       "    }\n",
       "\n",
       "    .dataframe thead th {\n",
       "        text-align: right;\n",
       "    }\n",
       "</style>\n",
       "<table border=\"1\" class=\"dataframe\">\n",
       "  <thead>\n",
       "    <tr style=\"text-align: right;\">\n",
       "      <th></th>\n",
       "      <th>nullcounts</th>\n",
       "    </tr>\n",
       "  </thead>\n",
       "  <tbody>\n",
       "  </tbody>\n",
       "</table>\n",
       "</div>"
      ],
      "text/plain": [
       "Empty DataFrame\n",
       "Columns: [nullcounts]\n",
       "Index: []"
      ]
     },
     "execution_count": 15,
     "metadata": {},
     "output_type": "execute_result"
    }
   ],
   "source": [
    "# run df thru fillnull function\n",
    "train_nonull = fillnull(train)\n",
    "\n",
    "# recheck any null values left in df\n",
    "\n",
    "dfnull = pd.DataFrame(train_nonull.isnull().sum(), columns=['nullcounts'])\n",
    "dfnull = dfnull[dfnull['nullcounts']!=0]\n",
    "print(dfnull.shape)\n",
    "dfnull.sort_values('nullcounts', ascending=False)"
   ]
  },
  {
   "cell_type": "markdown",
   "id": "8a9e3a20",
   "metadata": {},
   "source": [
    "All null values have now been filled and we can proceed to do feature engineering on the variables."
   ]
  },
  {
   "cell_type": "markdown",
   "id": "60daf3d1",
   "metadata": {},
   "source": [
    "##  Step 4. Feature engineering\n",
    "\n",
    "- Tackle categorical columns first (either by binarizing or reduce categories in each feature)\n",
    "\n",
    "- Add new columns\n",
    "- Binarize columns (1/0)\n",
    "- Change categorical columns to numerical\n",
    "- Reduce categories per feature\n",
    "- Rename any columns\n",
    "- Change numerical to categorical\n",
    "- Drop selected columns and any improbable/impossible rows"
   ]
  },
  {
   "cell_type": "markdown",
   "id": "1c7c50d4",
   "metadata": {},
   "source": [
    "### For Categorical columns:\n",
    "\n",
    "To reduce categories\n",
    "- ms_zoning\n",
    "- house_style\n",
    "- exterior_1st (renamed: exterior)\n",
    "- foundation\n",
    "\n",
    "To binarize\n",
    "- lot_shape (renamed: is_lotshape_reg)\n",
    "- lot_config (renamed: is_lotconfig_inside)\n",
    "- condition_1 (renamed: is_cond_norm)\n",
    "- bldg_type (renamed: is_bldgtype_1fam)\n",
    "- functional (renamed: is_functional)\n",
    "\n",
    "To change to ordinal ranking\n",
    "- exter_qual\n",
    "- heating_qc\n",
    "- kitchen_qual\n",
    "\n",
    "To remain\n",
    "- neighborhood\n",
    "- mas_vnr_type\n",
    "\n",
    "To drop\n",
    "- exterior_2nd\n",
    "\n",
    "### For Numerical columns:\n",
    "#### We will try to preserve quality, area and age features, but also get rid of likely correlated features to reduce multicollinearity (e.g. room and area features)\n",
    "\n",
    "To change to categorical\n",
    "- ms_subclass\n",
    "\n",
    "To binarize\n",
    "- fireplaces (changed to have_fireplace)\n",
    "- pool_area (changed to have_pool)\n",
    "- year_remod/add (changed to have_remod)\n",
    "\n",
    "To drop irrelevant columns\n",
    "- id\n",
    "- pid\n",
    "\n",
    "To drop poor predictors of saleprice (after running a correlation test against saleprice\n",
    "- lot_frontage, lot_area, is_lotconfig_inside, is_cond_norm, is_bldgtype_1fam, overall_cond, bedroom_abvgr, kitchen_abvgr, is_functional, have_pool\n",
    "\n",
    "To drop multicollinear features\n",
    "- bsmt_qual, bsmt_exposure, heating_qc, kitchen_qual, totrms_abvgrd, 1st_flr_sf, 2nd_flr_sf\n",
    "\n",
    "To be transformed\n",
    "- year_built and yr_sold (changed to age_sold)\n",
    "- wood_deck_sf, open_porch_sf, enclosed_porch, 3ssn_porch, screen_porch (changed to deckporch_area)\n",
    "- total_bsmt_sf, garage_area, deckporch_area (sum up to form a gross non living area column, gr_nliv_area)\n",
    "- bsmt_full_bath, full_bath, half_bath (sum up to form no_of_baths)\n",
    "\n",
    "To remain\n",
    "- have_miscfeat"
   ]
  },
  {
   "cell_type": "code",
   "execution_count": 16,
   "id": "69d99882",
   "metadata": {},
   "outputs": [],
   "source": [
    "# feature engineering/ cleaning/ preprocessing function\n",
    "\n",
    "def cleandata(input_df):  \n",
    "\n",
    "    # make copy of the input df\n",
    "    copy_df = input_df.copy()\n",
    "    \n",
    "    # make function to drop columns later\n",
    "    def drop_column(column_list):\n",
    "        copy_df.drop(column_list, axis=1, inplace=True)\n",
    "        \n",
    "    # REDUCE NUMBER OF CATEGORIES OF FEATURES---------------------------------------------------------\n",
    "    \n",
    "    # ms_zoning: 4 types (RL, RM, FV)\n",
    "    copy_df['ms_zoning'] = \\\n",
    "    copy_df['ms_zoning'].apply(lambda x: 'Others' if x not in ['RL', 'RM', 'FV'] else x)\n",
    "    \n",
    "    # house_style: 3 types (1Story, 2Story, Others)\n",
    "    copy_df['house_style'] = \\\n",
    "    copy_df['house_style'].apply(lambda x: 'Others' if x not in ['1Story', '2Story'] else x)\n",
    "\n",
    "    # exterior: 7 types (Vinyl, Metal, Hardboard, Wood, Cement, Brick, Others)\n",
    "    # create basement exposure dictionary\n",
    "    \n",
    "    exterior_matl = {'VinylSd':'Vinyl',\n",
    "                     'MetalSd':'Metal',\n",
    "                     'HdBoard':'Hardboard',\n",
    "                     'Wd Sdng':'Wood',\n",
    "                     'Plywood':'Wood',\n",
    "                     'CemntBd':'Cement',\n",
    "                     'BrkFace':'Brick',\n",
    "                     'WdShing':'Wood',\n",
    "                     'AsbShng':'Others',\n",
    "                     'Stucco':'Others',\n",
    "                     'BrkComm':'Brick',\n",
    "                     'Stone':'Others',\n",
    "                     'CBlock':'Others',\n",
    "                     'ImStucc':'Others',\n",
    "                     'AsphShn':'Others'}\n",
    "    \n",
    "    copy_df['exterior_1st'] = copy_df['exterior_1st'].map(exterior_matl)\n",
    "    copy_df.rename(columns={'exterior_1st':'exterior'}, inplace=True)\n",
    "    \n",
    "    # foundation: 4 types (PConc, CBlock, BrkTil, Others)\n",
    "    copy_df['foundation'] = \\\n",
    "    copy_df['foundation'].apply(lambda x: 'Others' if x not in ['PConc','CBlock','BrkTil'] else x)     \n",
    "    \n",
    "    # masonry veneer type: 4 types(None, BrkFace, Stone, Others)\n",
    "    copy_df['mas_vnr_type'] = \\\n",
    "    copy_df['mas_vnr_type'].apply(lambda x: 'Others' if x not in ['None','BrkFace', 'Stone'] else x)\n",
    "    \n",
    "    \n",
    "    \n",
    "    # BINARIZE FEATURES---------------------------------------------------------\n",
    "    \n",
    "    # change lot_shape to 1/0 (regular or irregular)\n",
    "    copy_df['lot_shape'] = copy_df['lot_shape'].apply(lambda x: 1 if x=='Reg' else 0)\n",
    "    copy_df.rename(columns={'lot_shape':'is_lotshape_reg'}, inplace=True)\n",
    "    \n",
    "    # change lot_config to 1/0 (inside or others)\n",
    "    copy_df['lot_config'] = copy_df['lot_config'].apply(lambda x: 1 if x=='Inside' else 0)\n",
    "    copy_df.rename(columns={'lot_config':'is_lotconfig_inside'}, inplace=True)\n",
    "    \n",
    "    # change condition_1 to 1/0 (normal or not normal)\n",
    "    copy_df['condition_1'] = copy_df['condition_1'].apply(lambda x: 1 if x=='Norm' else 0)\n",
    "    copy_df.rename(columns={'condition_1':'is_cond_norm'}, inplace=True)\n",
    "    \n",
    "    # change building type to 1/0 (1fam or others)\n",
    "    copy_df['bldg_type'] = copy_df['bldg_type'].apply(lambda x: 1 if x=='1Fam' else 0)\n",
    "    copy_df.rename(columns={'bldg_type':'is_bldgtype_1fam'}, inplace=True)\n",
    "    \n",
    "    # change functional to 1/0 (functional or not)\n",
    "    copy_df['functional'] = copy_df['functional'].apply(lambda x: 1 if x=='Typ' else 0)\n",
    "    copy_df.rename(columns={'functional':'is_functional'}, inplace=True)\n",
    "    \n",
    "    \n",
    "    # change remod/add feature to 1/0 (1 if remod, 0 if no remod)\n",
    "    for index, value in enumerate(copy_df['year_remod/add']):\n",
    "        if value == copy_df.loc[index, 'year_built']: \n",
    "            copy_df.loc[index, 'have_remod'] = 0\n",
    "        else:\n",
    "            copy_df.loc[index, 'have_remod'] = 1\n",
    "    copy_df.drop('year_remod/add', axis=1, inplace=True)        \n",
    "    \n",
    "    \n",
    "    # change fire_places to 1/0 (have fireplace or not)\n",
    "    copy_df['fireplaces'] = copy_df['fireplaces'].apply(lambda x: 1 if x!=0 else 0)\n",
    "    copy_df.rename(columns={'fireplaces':'have_fireplace'}, inplace=True)\n",
    "    \n",
    "    # change pool_area to 1/0 (have pool or not)\n",
    "    copy_df['pool_area'] = copy_df['pool_area'].apply(lambda x: 1 if x!=0 else 0)\n",
    "    copy_df.rename(columns={'pool_area':'have_pool'}, inplace=True)\n",
    "    \n",
    "    \n",
    "    # CONVERT CATEGORICAL TO NUMERICAL (ORDINAL)---------------------------------------------------------\n",
    "    \n",
    "    # create quality mapping dictionary\n",
    "    qual_dict = {'Ex': 5,\n",
    "                 'Gd': 4,\n",
    "                 'TA': 3,\n",
    "                 'Fa': 2,\n",
    "                 'Po': 1,\n",
    "                 'NA': 0}\n",
    "    \n",
    "    # mapping new values to columns using the predefined dictionary    \n",
    "    copy_df['exter_qual'] = copy_df['exter_qual'].map(qual_dict)\n",
    "    copy_df['heating_qc'] = copy_df['heating_qc'].map(qual_dict)\n",
    "    copy_df['kitchen_qual'] = copy_df['kitchen_qual'].map(qual_dict)\n",
    "    \n",
    "    \n",
    "    \n",
    "    # CHANGE NUMERICAL TO CATEGORICAL---------------------------------------------------------\n",
    "    \n",
    "    # ms subclass\n",
    "    copy_df['ms_subclass'] = copy_df['ms_subclass'].astype(str)\n",
    "    \n",
    "     # month sold\n",
    "    copy_df['mo_sold'] = copy_df['mo_sold'].astype(str)\n",
    "    \n",
    "    \n",
    "    \n",
    "    # RENAME COLUMNS ONLY---------------------------------------------------------\n",
    "    copy_df.rename(columns={'bsmtfin_type_1':'bsmt_finish'}, inplace=True)\n",
    "       \n",
    "        \n",
    "        \n",
    "    # CHANGE NUMERICAL TO CATEGORICAL---------------------------------------------------------\n",
    "    \n",
    "    # ms subclass\n",
    "    copy_df['ms_subclass'] = copy_df['ms_subclass'].astype(str)\n",
    "    \n",
    "    # month sold\n",
    "    copy_df['mo_sold'] = copy_df['mo_sold'].astype(str)\n",
    "    \n",
    "    \n",
    "    \n",
    "    # TO DO FEATURE ENGINEERING AND TRANSFORM---------------------------------------------------------\n",
    "    \n",
    "    # add age feature to find out how old housing is when sold\n",
    "    copy_df['age_sold'] = copy_df['yr_sold'] - copy_df['year_built']\n",
    "    copy_df.drop(['yr_sold', 'year_built'], axis=1, inplace=True)\n",
    "    \n",
    "    # add new column deckporch_area by adding the areas from these 5 columns\n",
    "    # wood_deck_sf, open_porch_sf, enclosed_porch, 3ssn_porch, screen_porch\n",
    "    copy_df['deckporch_area'] = copy_df[['wood_deck_sf','open_porch_sf','enclosed_porch','3ssn_porch','screen_porch']].sum(axis=1)\n",
    "    copy_df.drop(['wood_deck_sf','open_porch_sf','enclosed_porch','3ssn_porch','screen_porch'], axis=1, inplace=True)\n",
    "\n",
    "    # sum up all the non-living areas columns\n",
    "    # total_bsmt_sf, garage_area, deckporch_area\n",
    "    copy_df['gr_nliv_area'] = copy_df[['total_bsmt_sf', 'garage_area', 'deckporch_area']].sum(axis=1)\n",
    "    copy_df.drop(['total_bsmt_sf', 'garage_area', 'deckporch_area'], axis=1, inplace=True)\n",
    "    \n",
    "    # sum up all the baths\n",
    "    # bsmt_full_bath, full_bath, half_bath (consider 0.5 full_bath)\n",
    "    copy_df['no_of_baths'] = copy_df['bsmt_full_bath'] + copy_df['full_bath'] + copy_df['half_bath']*0.5\n",
    "    copy_df.drop(['bsmt_full_bath', 'full_bath', 'half_bath'], axis=1, inplace=True)\n",
    "    \n",
    "    # DROP SELECTED COLUMNS---------------------------------------------------------\n",
    "    \n",
    "    # unnecessary columns to drop\n",
    "    columns_to_drop = ['id', 'pid', 'exterior_2nd']\n",
    "    \n",
    "    # poor predictors from correlation test\n",
    "    poor_predictors = ['lot_frontage', 'lot_area', 'is_lotshape_reg', 'is_lotconfig_inside', 'is_cond_norm',\\\n",
    "                       'is_bldgtype_1fam', 'overall_cond', 'bedroom_abvgr', 'kitchen_abvgr', 'is_functional',\\\n",
    "                       'have_pool', 'have_miscfeat', 'have_remod']\n",
    "    \n",
    "    # possible features with multicollinearity\n",
    "    multicoll_pred = ['bsmt_qual', 'bsmt_exposure', 'heating_qc', 'kitchen_qual',\\\n",
    "                      'totrms_abvgrd', '1st_flr_sf', '2nd_flr_sf', 'exter_qual'] \n",
    "    \n",
    "\n",
    "    \n",
    "    columns_to_drop += (poor_predictors + multicoll_pred)\n",
    "    \n",
    "    copy_df.drop(columns_to_drop, axis=1, inplace=True)\n",
    "    \n",
    "    return copy_df"
   ]
  },
  {
   "cell_type": "markdown",
   "id": "319d45f8",
   "metadata": {},
   "source": [
    "### Checking cleanliness of dataset after preprocessing"
   ]
  },
  {
   "cell_type": "code",
   "execution_count": 17,
   "id": "8bc9230b",
   "metadata": {
    "scrolled": true
   },
   "outputs": [
    {
     "name": "stdout",
     "output_type": "stream",
     "text": [
      "(2051, 16)\n"
     ]
    },
    {
     "data": {
      "text/html": [
       "<div>\n",
       "<style scoped>\n",
       "    .dataframe tbody tr th:only-of-type {\n",
       "        vertical-align: middle;\n",
       "    }\n",
       "\n",
       "    .dataframe tbody tr th {\n",
       "        vertical-align: top;\n",
       "    }\n",
       "\n",
       "    .dataframe thead th {\n",
       "        text-align: right;\n",
       "    }\n",
       "</style>\n",
       "<table border=\"1\" class=\"dataframe\">\n",
       "  <thead>\n",
       "    <tr style=\"text-align: right;\">\n",
       "      <th></th>\n",
       "      <th>ms_subclass</th>\n",
       "      <th>ms_zoning</th>\n",
       "      <th>neighborhood</th>\n",
       "      <th>house_style</th>\n",
       "      <th>overall_qual</th>\n",
       "      <th>exterior</th>\n",
       "      <th>mas_vnr_type</th>\n",
       "      <th>mas_vnr_area</th>\n",
       "      <th>foundation</th>\n",
       "      <th>gr_liv_area</th>\n",
       "      <th>have_fireplace</th>\n",
       "      <th>mo_sold</th>\n",
       "      <th>saleprice</th>\n",
       "      <th>age_sold</th>\n",
       "      <th>gr_nliv_area</th>\n",
       "      <th>no_of_baths</th>\n",
       "    </tr>\n",
       "  </thead>\n",
       "  <tbody>\n",
       "    <tr>\n",
       "      <th>0</th>\n",
       "      <td>60</td>\n",
       "      <td>RL</td>\n",
       "      <td>Sawyer</td>\n",
       "      <td>2Story</td>\n",
       "      <td>6</td>\n",
       "      <td>Hardboard</td>\n",
       "      <td>BrkFace</td>\n",
       "      <td>289.0</td>\n",
       "      <td>CBlock</td>\n",
       "      <td>1479</td>\n",
       "      <td>0</td>\n",
       "      <td>3</td>\n",
       "      <td>130500</td>\n",
       "      <td>34</td>\n",
       "      <td>1244.0</td>\n",
       "      <td>2.5</td>\n",
       "    </tr>\n",
       "    <tr>\n",
       "      <th>1</th>\n",
       "      <td>60</td>\n",
       "      <td>RL</td>\n",
       "      <td>SawyerW</td>\n",
       "      <td>2Story</td>\n",
       "      <td>7</td>\n",
       "      <td>Vinyl</td>\n",
       "      <td>BrkFace</td>\n",
       "      <td>132.0</td>\n",
       "      <td>PConc</td>\n",
       "      <td>2122</td>\n",
       "      <td>1</td>\n",
       "      <td>4</td>\n",
       "      <td>220000</td>\n",
       "      <td>13</td>\n",
       "      <td>1546.0</td>\n",
       "      <td>3.5</td>\n",
       "    </tr>\n",
       "    <tr>\n",
       "      <th>2</th>\n",
       "      <td>20</td>\n",
       "      <td>RL</td>\n",
       "      <td>NAmes</td>\n",
       "      <td>1Story</td>\n",
       "      <td>5</td>\n",
       "      <td>Vinyl</td>\n",
       "      <td>None</td>\n",
       "      <td>0.0</td>\n",
       "      <td>CBlock</td>\n",
       "      <td>1057</td>\n",
       "      <td>0</td>\n",
       "      <td>1</td>\n",
       "      <td>109000</td>\n",
       "      <td>57</td>\n",
       "      <td>1355.0</td>\n",
       "      <td>2.0</td>\n",
       "    </tr>\n",
       "    <tr>\n",
       "      <th>3</th>\n",
       "      <td>60</td>\n",
       "      <td>RL</td>\n",
       "      <td>Timber</td>\n",
       "      <td>2Story</td>\n",
       "      <td>5</td>\n",
       "      <td>Vinyl</td>\n",
       "      <td>None</td>\n",
       "      <td>0.0</td>\n",
       "      <td>PConc</td>\n",
       "      <td>1444</td>\n",
       "      <td>0</td>\n",
       "      <td>4</td>\n",
       "      <td>174000</td>\n",
       "      <td>4</td>\n",
       "      <td>884.0</td>\n",
       "      <td>2.5</td>\n",
       "    </tr>\n",
       "    <tr>\n",
       "      <th>4</th>\n",
       "      <td>50</td>\n",
       "      <td>RL</td>\n",
       "      <td>SawyerW</td>\n",
       "      <td>Others</td>\n",
       "      <td>6</td>\n",
       "      <td>Wood</td>\n",
       "      <td>None</td>\n",
       "      <td>0.0</td>\n",
       "      <td>PConc</td>\n",
       "      <td>1445</td>\n",
       "      <td>0</td>\n",
       "      <td>3</td>\n",
       "      <td>138500</td>\n",
       "      <td>110</td>\n",
       "      <td>1219.0</td>\n",
       "      <td>2.0</td>\n",
       "    </tr>\n",
       "  </tbody>\n",
       "</table>\n",
       "</div>"
      ],
      "text/plain": [
       "  ms_subclass ms_zoning neighborhood house_style  overall_qual   exterior  \\\n",
       "0          60        RL       Sawyer      2Story             6  Hardboard   \n",
       "1          60        RL      SawyerW      2Story             7      Vinyl   \n",
       "2          20        RL        NAmes      1Story             5      Vinyl   \n",
       "3          60        RL       Timber      2Story             5      Vinyl   \n",
       "4          50        RL      SawyerW      Others             6       Wood   \n",
       "\n",
       "  mas_vnr_type  mas_vnr_area foundation  gr_liv_area  have_fireplace mo_sold  \\\n",
       "0      BrkFace         289.0     CBlock         1479               0       3   \n",
       "1      BrkFace         132.0      PConc         2122               1       4   \n",
       "2         None           0.0     CBlock         1057               0       1   \n",
       "3         None           0.0      PConc         1444               0       4   \n",
       "4         None           0.0      PConc         1445               0       3   \n",
       "\n",
       "   saleprice  age_sold  gr_nliv_area  no_of_baths  \n",
       "0     130500        34        1244.0          2.5  \n",
       "1     220000        13        1546.0          3.5  \n",
       "2     109000        57        1355.0          2.0  \n",
       "3     174000         4         884.0          2.5  \n",
       "4     138500       110        1219.0          2.0  "
      ]
     },
     "execution_count": 17,
     "metadata": {},
     "output_type": "execute_result"
    }
   ],
   "source": [
    "train_clean = cleandata(train_nonull)\n",
    "print(train_clean.shape)\n",
    "train_clean.head()"
   ]
  },
  {
   "cell_type": "markdown",
   "id": "b7d6f01c",
   "metadata": {},
   "source": [
    "We are left with only 16 features after cleaning."
   ]
  },
  {
   "cell_type": "markdown",
   "id": "0b0867e6",
   "metadata": {},
   "source": [
    "### Any more columns to be dropped or changed? Multicollinearity?"
   ]
  },
  {
   "cell_type": "code",
   "execution_count": 18,
   "id": "c112912e",
   "metadata": {},
   "outputs": [
    {
     "name": "stdout",
     "output_type": "stream",
     "text": [
      "['overall_qual', 'mas_vnr_area', 'gr_liv_area', 'have_fireplace', 'saleprice', 'age_sold', 'gr_nliv_area', 'no_of_baths'] \n",
      "\n",
      "['ms_subclass', 'ms_zoning', 'neighborhood', 'house_style', 'exterior', 'mas_vnr_type', 'foundation', 'mo_sold'] \n",
      "\n",
      "There are a total of 16 columns, 8 numerical columns and 8 categorical columns.\n"
     ]
    }
   ],
   "source": [
    "# create a numerical and categorical features list\n",
    "\n",
    "num_list = []\n",
    "cat_list = []\n",
    "for col in train_clean.columns:\n",
    "    if train_clean[col].dtype == 'object': cat_list.append(col)\n",
    "    else: num_list.append(col)\n",
    "        \n",
    "print(num_list, '\\n')\n",
    "print(cat_list, '\\n')\n",
    "print(f'There are a total of {len(train_clean.columns)} columns, \\\n",
    "{len(num_list)} numerical columns and {len(cat_list)} categorical columns.')"
   ]
  },
  {
   "cell_type": "code",
   "execution_count": 19,
   "id": "9b846d77",
   "metadata": {},
   "outputs": [
    {
     "data": {
      "text/plain": [
       "['overall_qual',\n",
       " 'mas_vnr_area',\n",
       " 'gr_liv_area',\n",
       " 'have_fireplace',\n",
       " 'no_of_baths',\n",
       " 'age_sold',\n",
       " 'gr_nliv_area',\n",
       " 'saleprice']"
      ]
     },
     "execution_count": 19,
     "metadata": {},
     "output_type": "execute_result"
    }
   ],
   "source": [
    "# change position of saleprice to last position\n",
    "num_list[4], num_list[7] = num_list[7], num_list[4]\n",
    "num_list"
   ]
  },
  {
   "cell_type": "markdown",
   "id": "2d6b6292",
   "metadata": {},
   "source": [
    "### Heatmap of correlation of the numerical features"
   ]
  },
  {
   "cell_type": "code",
   "execution_count": 20,
   "id": "74ff4ad3",
   "metadata": {
    "scrolled": true
   },
   "outputs": [
    {
     "data": {
      "image/png": "[encoded data removed]",
      "text/plain": [
       "<Figure size 1440x1440 with 2 Axes>"
      ]
     },
     "metadata": {
      "needs_background": "light"
     },
     "output_type": "display_data"
    }
   ],
   "source": [
    "mask = np.zeros_like(train_clean[num_list].corr())\n",
    "mask[np.triu_indices_from(mask)]=True\n",
    "\n",
    "plt.figure(figsize=(20,20))\n",
    "sns.heatmap(train_clean[num_list].corr(), annot=True,\\\n",
    "            mask=mask, vmin=-1, vmax=1, cmap='coolwarm');"
   ]
  },
  {
   "cell_type": "markdown",
   "id": "7481479f",
   "metadata": {},
   "source": [
    "We can see at the bottom of the heat map that saleprice has a good correlation with the features selected."
   ]
  },
  {
   "cell_type": "markdown",
   "id": "771009d0",
   "metadata": {},
   "source": [
    "### Using VIF to check for multicollinearity"
   ]
  },
  {
   "cell_type": "code",
   "execution_count": 21,
   "id": "1e9db947",
   "metadata": {},
   "outputs": [],
   "source": [
    "# Check for collinearity between features using VIF (Variance Inflation Factor)\n",
    "# If higher than 10, considered high correlation with other independent variables\n",
    "\n",
    "def vif_cal(df):\n",
    "    vif_data = pd.DataFrame()\n",
    "    features_list = df.select_dtypes(include = ['int64', 'float64']).columns\n",
    "    \n",
    "    # create a feature column in df to show feature name\n",
    "    vif_data['feature'] = features_list\n",
    "    \n",
    "    # create a VIF column in df to show VIF\n",
    "    vif_data['VIF'] = [variance_inflation_factor(df[features_list].values, i)\\\n",
    "                       for i in range(len(features_list))]\n",
    "    \n",
    "    return vif_data[(vif_data['VIF']>10) & (vif_data['feature']!='saleprice')]"
   ]
  },
  {
   "cell_type": "code",
   "execution_count": 22,
   "id": "60c7ea4f",
   "metadata": {
    "scrolled": true
   },
   "outputs": [
    {
     "data": {
      "text/html": [
       "<div>\n",
       "<style scoped>\n",
       "    .dataframe tbody tr th:only-of-type {\n",
       "        vertical-align: middle;\n",
       "    }\n",
       "\n",
       "    .dataframe tbody tr th {\n",
       "        vertical-align: top;\n",
       "    }\n",
       "\n",
       "    .dataframe thead th {\n",
       "        text-align: right;\n",
       "    }\n",
       "</style>\n",
       "<table border=\"1\" class=\"dataframe\">\n",
       "  <thead>\n",
       "    <tr style=\"text-align: right;\">\n",
       "      <th></th>\n",
       "      <th>feature</th>\n",
       "      <th>VIF</th>\n",
       "    </tr>\n",
       "  </thead>\n",
       "  <tbody>\n",
       "    <tr>\n",
       "      <th>0</th>\n",
       "      <td>overall_qual</td>\n",
       "      <td>29.077088</td>\n",
       "    </tr>\n",
       "    <tr>\n",
       "      <th>2</th>\n",
       "      <td>gr_liv_area</td>\n",
       "      <td>24.796464</td>\n",
       "    </tr>\n",
       "    <tr>\n",
       "      <th>6</th>\n",
       "      <td>gr_nliv_area</td>\n",
       "      <td>17.682035</td>\n",
       "    </tr>\n",
       "    <tr>\n",
       "      <th>7</th>\n",
       "      <td>no_of_baths</td>\n",
       "      <td>15.238044</td>\n",
       "    </tr>\n",
       "  </tbody>\n",
       "</table>\n",
       "</div>"
      ],
      "text/plain": [
       "        feature        VIF\n",
       "0  overall_qual  29.077088\n",
       "2   gr_liv_area  24.796464\n",
       "6  gr_nliv_area  17.682035\n",
       "7   no_of_baths  15.238044"
      ]
     },
     "execution_count": 22,
     "metadata": {},
     "output_type": "execute_result"
    }
   ],
   "source": [
    "vif_cal(train_clean).sort_values(by='VIF', ascending=False)"
   ]
  },
  {
   "cell_type": "markdown",
   "id": "1d3ba32e",
   "metadata": {},
   "source": [
    "The VIF for the above features has already been reduced greatly with the elimination of many features. It is unlikely that we can get rid of multicollinearity completely. "
   ]
  },
  {
   "cell_type": "code",
   "execution_count": 23,
   "id": "524ba851",
   "metadata": {
    "scrolled": false
   },
   "outputs": [
    {
     "data": {
      "text/html": [
       "<div>\n",
       "<style scoped>\n",
       "    .dataframe tbody tr th:only-of-type {\n",
       "        vertical-align: middle;\n",
       "    }\n",
       "\n",
       "    .dataframe tbody tr th {\n",
       "        vertical-align: top;\n",
       "    }\n",
       "\n",
       "    .dataframe thead th {\n",
       "        text-align: right;\n",
       "    }\n",
       "</style>\n",
       "<table border=\"1\" class=\"dataframe\">\n",
       "  <thead>\n",
       "    <tr style=\"text-align: right;\">\n",
       "      <th></th>\n",
       "      <th>count</th>\n",
       "      <th>mean</th>\n",
       "      <th>std</th>\n",
       "      <th>min</th>\n",
       "      <th>25%</th>\n",
       "      <th>50%</th>\n",
       "      <th>75%</th>\n",
       "      <th>max</th>\n",
       "    </tr>\n",
       "  </thead>\n",
       "  <tbody>\n",
       "    <tr>\n",
       "      <th>overall_qual</th>\n",
       "      <td>2051.0</td>\n",
       "      <td>6.112140</td>\n",
       "      <td>1.426271</td>\n",
       "      <td>1.0</td>\n",
       "      <td>5.0</td>\n",
       "      <td>6.0</td>\n",
       "      <td>7.0</td>\n",
       "      <td>10.0</td>\n",
       "    </tr>\n",
       "    <tr>\n",
       "      <th>mas_vnr_area</th>\n",
       "      <td>2051.0</td>\n",
       "      <td>98.626524</td>\n",
       "      <td>174.324690</td>\n",
       "      <td>0.0</td>\n",
       "      <td>0.0</td>\n",
       "      <td>0.0</td>\n",
       "      <td>159.0</td>\n",
       "      <td>1600.0</td>\n",
       "    </tr>\n",
       "    <tr>\n",
       "      <th>gr_liv_area</th>\n",
       "      <td>2051.0</td>\n",
       "      <td>1499.330083</td>\n",
       "      <td>500.447829</td>\n",
       "      <td>334.0</td>\n",
       "      <td>1129.0</td>\n",
       "      <td>1444.0</td>\n",
       "      <td>1728.5</td>\n",
       "      <td>5642.0</td>\n",
       "    </tr>\n",
       "    <tr>\n",
       "      <th>have_fireplace</th>\n",
       "      <td>2051.0</td>\n",
       "      <td>0.512433</td>\n",
       "      <td>0.499967</td>\n",
       "      <td>0.0</td>\n",
       "      <td>0.0</td>\n",
       "      <td>1.0</td>\n",
       "      <td>1.0</td>\n",
       "      <td>1.0</td>\n",
       "    </tr>\n",
       "    <tr>\n",
       "      <th>saleprice</th>\n",
       "      <td>2051.0</td>\n",
       "      <td>181469.701609</td>\n",
       "      <td>79258.659352</td>\n",
       "      <td>12789.0</td>\n",
       "      <td>129825.0</td>\n",
       "      <td>162500.0</td>\n",
       "      <td>214000.0</td>\n",
       "      <td>611657.0</td>\n",
       "    </tr>\n",
       "    <tr>\n",
       "      <th>age_sold</th>\n",
       "      <td>2051.0</td>\n",
       "      <td>36.066797</td>\n",
       "      <td>30.211061</td>\n",
       "      <td>-1.0</td>\n",
       "      <td>7.0</td>\n",
       "      <td>34.0</td>\n",
       "      <td>54.0</td>\n",
       "      <td>136.0</td>\n",
       "    </tr>\n",
       "    <tr>\n",
       "      <th>gr_nliv_area</th>\n",
       "      <td>2051.0</td>\n",
       "      <td>1713.978059</td>\n",
       "      <td>657.248876</td>\n",
       "      <td>0.0</td>\n",
       "      <td>1278.5</td>\n",
       "      <td>1619.0</td>\n",
       "      <td>2099.5</td>\n",
       "      <td>8034.0</td>\n",
       "    </tr>\n",
       "    <tr>\n",
       "      <th>no_of_baths</th>\n",
       "      <td>2051.0</td>\n",
       "      <td>2.189907</td>\n",
       "      <td>0.816381</td>\n",
       "      <td>1.0</td>\n",
       "      <td>1.5</td>\n",
       "      <td>2.0</td>\n",
       "      <td>2.5</td>\n",
       "      <td>7.0</td>\n",
       "    </tr>\n",
       "  </tbody>\n",
       "</table>\n",
       "</div>"
      ],
      "text/plain": [
       "                 count           mean           std      min       25%  \\\n",
       "overall_qual    2051.0       6.112140      1.426271      1.0       5.0   \n",
       "mas_vnr_area    2051.0      98.626524    174.324690      0.0       0.0   \n",
       "gr_liv_area     2051.0    1499.330083    500.447829    334.0    1129.0   \n",
       "have_fireplace  2051.0       0.512433      0.499967      0.0       0.0   \n",
       "saleprice       2051.0  181469.701609  79258.659352  12789.0  129825.0   \n",
       "age_sold        2051.0      36.066797     30.211061     -1.0       7.0   \n",
       "gr_nliv_area    2051.0    1713.978059    657.248876      0.0    1278.5   \n",
       "no_of_baths     2051.0       2.189907      0.816381      1.0       1.5   \n",
       "\n",
       "                     50%       75%       max  \n",
       "overall_qual         6.0       7.0      10.0  \n",
       "mas_vnr_area         0.0     159.0    1600.0  \n",
       "gr_liv_area       1444.0    1728.5    5642.0  \n",
       "have_fireplace       1.0       1.0       1.0  \n",
       "saleprice       162500.0  214000.0  611657.0  \n",
       "age_sold            34.0      54.0     136.0  \n",
       "gr_nliv_area      1619.0    2099.5    8034.0  \n",
       "no_of_baths          2.0       2.5       7.0  "
      ]
     },
     "execution_count": 23,
     "metadata": {},
     "output_type": "execute_result"
    }
   ],
   "source": [
    "# recheck to see if there are any funny data\n",
    "train_clean.describe().T"
   ]
  },
  {
   "cell_type": "markdown",
   "id": "e6538a06",
   "metadata": {},
   "source": [
    "### Step 5. Check for outliers"
   ]
  },
  {
   "cell_type": "code",
   "execution_count": 24,
   "id": "20e64c15",
   "metadata": {},
   "outputs": [],
   "source": [
    "# plot scatterplots to see correlations between sale price and numerical features\n",
    "def subplot_scatter(df, col_list):\n",
    "    \n",
    "    # number of rows determined by length of list, 4 columns in plot\n",
    "    ncols = 4\n",
    "    nrows =  int(np.ceil(len(col_list)/ncols))\n",
    "    \n",
    "    #create subplot\n",
    "    fig, ax = plt.subplots(nrows=nrows, ncols=ncols, figsize=(15, nrows*3.5))\n",
    "    ax = ax.ravel()\n",
    "    \n",
    "    #dist plot settings\n",
    "    for i, col in enumerate(col_list):\n",
    "        sns.regplot(y=df.saleprice, x=df[col], ax=ax[i],\\\n",
    "                    scatter_kws={'facecolors':'skyblue','edgecolor':'skyblue'},\\\n",
    "                    line_kws = {'color':'grey'})                       #create dist\n",
    "        ax[i].set_title(f'{col} vs saleprice', fontsize=14)            #set title\n",
    "        ax[i].tick_params(labelsize=12)                                #set label size\n",
    "        ax[i].set_xlabel(col, fontsize=14)                             #set x-label name\n",
    "        ax[i].set_ylabel('saleprice', fontsize=14)                     #set y-label name\n",
    "    plt.tight_layout()"
   ]
  },
  {
   "cell_type": "code",
   "execution_count": 25,
   "id": "3d97a9a9",
   "metadata": {
    "scrolled": false
   },
   "outputs": [
    {
     "data": {
      "image/png": "[encoded data removed]",
      "text/plain": [
       "<Figure size 1080x504 with 8 Axes>"
      ]
     },
     "metadata": {
      "needs_background": "light"
     },
     "output_type": "display_data"
    }
   ],
   "source": [
    "subplot_scatter(train_clean, num_list)"
   ]
  },
  {
   "cell_type": "code",
   "execution_count": 26,
   "id": "786da1f4",
   "metadata": {},
   "outputs": [],
   "source": [
    "# plot boxplots to see pattern between sale price and categorical feature\n",
    "def subplot_boxplot(df, col_list):\n",
    "    \n",
    "    # number of rows determined by length of list, 4 columns in plot\n",
    "    ncols = 4\n",
    "    nrows =  int(np.ceil(len(col_list)/ncols))\n",
    "    \n",
    "    #create subplot\n",
    "    fig, ax = plt.subplots(nrows=nrows, ncols=ncols, figsize=(15, nrows*3.5))\n",
    "    ax = ax.ravel()\n",
    "    \n",
    "    #dist plot settings\n",
    "    for i, col in enumerate(col_list):\n",
    "        sns.boxplot(y=df.saleprice, x=df[col], ax=ax[i], width=0.3,\\\n",
    "                    color='skyblue')                                   #create dist\n",
    "        ax[i].set_title(f'{col} vs saleprice', fontsize=14)            #set title\n",
    "        ax[i].tick_params(labelsize=12)                                #set label size\n",
    "        ax[i].set_xlabel(col, fontsize=14)                             #set x-label name\n",
    "        ax[i].set_ylabel('saleprice', fontsize=14)                     #set y-label name\n",
    "    plt.tight_layout()"
   ]
  },
  {
   "cell_type": "code",
   "execution_count": 27,
   "id": "4cd46aaa",
   "metadata": {},
   "outputs": [
    {
     "data": {
      "image/png": "[encoded data removed]",
      "text/plain": [
       "<Figure size 1080x504 with 8 Axes>"
      ]
     },
     "metadata": {
      "needs_background": "light"
     },
     "output_type": "display_data"
    }
   ],
   "source": [
    "subplot_boxplot(train_clean, cat_list)"
   ]
  },
  {
   "cell_type": "markdown",
   "id": "1ef9d5fc",
   "metadata": {},
   "source": [
    "### Filter out outliers and improbable data"
   ]
  },
  {
   "cell_type": "code",
   "execution_count": 28,
   "id": "ad014fb4",
   "metadata": {},
   "outputs": [],
   "source": [
    "# mas_vnr_area filter\n",
    "filter1 = train_clean['mas_vnr_area']<1500\n",
    "\n",
    "# gr_liv_area filter\n",
    "filter2 = train_clean['gr_liv_area']<4000\n",
    "\n",
    "# gr_nliv_area filter\n",
    "filter3 = train_clean['gr_nliv_area']<5000\n",
    "\n",
    "# no_of_baths filter\n",
    "filter4 = train_clean['no_of_baths']<6\n",
    "\n",
    "#age_sold\n",
    "filter5 = train_clean['age_sold']>=0\n",
    "\n",
    "train_clean = train_clean[filter1 & filter2 & filter3 & filter4 & filter5]"
   ]
  },
  {
   "cell_type": "markdown",
   "id": "e85995dd",
   "metadata": {},
   "source": [
    "## Get Dummies\n",
    "*Back to [Contents](#Contents:)*"
   ]
  },
  {
   "cell_type": "code",
   "execution_count": 29,
   "id": "61adf37f",
   "metadata": {},
   "outputs": [
    {
     "data": {
      "text/plain": [
       "['ms_subclass',\n",
       " 'ms_zoning',\n",
       " 'neighborhood',\n",
       " 'house_style',\n",
       " 'exterior',\n",
       " 'mas_vnr_type',\n",
       " 'foundation',\n",
       " 'mo_sold']"
      ]
     },
     "execution_count": 29,
     "metadata": {},
     "output_type": "execute_result"
    }
   ],
   "source": [
    "# check on the categorical list we created previously\n",
    "cat_list"
   ]
  },
  {
   "cell_type": "code",
   "execution_count": 30,
   "id": "2335bf28",
   "metadata": {},
   "outputs": [],
   "source": [
    "# dummify the categorical columns\n",
    "train_final = pd.get_dummies(train_clean, columns=cat_list, drop_first=True)"
   ]
  },
  {
   "cell_type": "code",
   "execution_count": 31,
   "id": "47756d8f",
   "metadata": {},
   "outputs": [
    {
     "data": {
      "text/html": [
       "<div>\n",
       "<style scoped>\n",
       "    .dataframe tbody tr th:only-of-type {\n",
       "        vertical-align: middle;\n",
       "    }\n",
       "\n",
       "    .dataframe tbody tr th {\n",
       "        vertical-align: top;\n",
       "    }\n",
       "\n",
       "    .dataframe thead th {\n",
       "        text-align: right;\n",
       "    }\n",
       "</style>\n",
       "<table border=\"1\" class=\"dataframe\">\n",
       "  <thead>\n",
       "    <tr style=\"text-align: right;\">\n",
       "      <th></th>\n",
       "      <th>count</th>\n",
       "      <th>mean</th>\n",
       "      <th>std</th>\n",
       "      <th>min</th>\n",
       "      <th>25%</th>\n",
       "      <th>50%</th>\n",
       "      <th>75%</th>\n",
       "      <th>max</th>\n",
       "    </tr>\n",
       "  </thead>\n",
       "  <tbody>\n",
       "    <tr>\n",
       "      <th>overall_qual</th>\n",
       "      <td>2044.0</td>\n",
       "      <td>6.108121</td>\n",
       "      <td>1.422686</td>\n",
       "      <td>1.0</td>\n",
       "      <td>5.0</td>\n",
       "      <td>6.0</td>\n",
       "      <td>7.0</td>\n",
       "      <td>10.0</td>\n",
       "    </tr>\n",
       "    <tr>\n",
       "      <th>mas_vnr_area</th>\n",
       "      <td>2044.0</td>\n",
       "      <td>97.170744</td>\n",
       "      <td>168.862926</td>\n",
       "      <td>0.0</td>\n",
       "      <td>0.0</td>\n",
       "      <td>0.0</td>\n",
       "      <td>158.0</td>\n",
       "      <td>1129.0</td>\n",
       "    </tr>\n",
       "    <tr>\n",
       "      <th>gr_liv_area</th>\n",
       "      <td>2044.0</td>\n",
       "      <td>1494.356654</td>\n",
       "      <td>484.502287</td>\n",
       "      <td>334.0</td>\n",
       "      <td>1128.0</td>\n",
       "      <td>1443.0</td>\n",
       "      <td>1728.0</td>\n",
       "      <td>3820.0</td>\n",
       "    </tr>\n",
       "    <tr>\n",
       "      <th>have_fireplace</th>\n",
       "      <td>2044.0</td>\n",
       "      <td>0.511742</td>\n",
       "      <td>0.499984</td>\n",
       "      <td>0.0</td>\n",
       "      <td>0.0</td>\n",
       "      <td>1.0</td>\n",
       "      <td>1.0</td>\n",
       "      <td>1.0</td>\n",
       "    </tr>\n",
       "    <tr>\n",
       "      <th>saleprice</th>\n",
       "      <td>2044.0</td>\n",
       "      <td>181367.176125</td>\n",
       "      <td>79334.783913</td>\n",
       "      <td>12789.0</td>\n",
       "      <td>129500.0</td>\n",
       "      <td>162000.0</td>\n",
       "      <td>214000.0</td>\n",
       "      <td>611657.0</td>\n",
       "    </tr>\n",
       "    <tr>\n",
       "      <th>...</th>\n",
       "      <td>...</td>\n",
       "      <td>...</td>\n",
       "      <td>...</td>\n",
       "      <td>...</td>\n",
       "      <td>...</td>\n",
       "      <td>...</td>\n",
       "      <td>...</td>\n",
       "      <td>...</td>\n",
       "    </tr>\n",
       "    <tr>\n",
       "      <th>mo_sold_5</th>\n",
       "      <td>2044.0</td>\n",
       "      <td>0.125734</td>\n",
       "      <td>0.331630</td>\n",
       "      <td>0.0</td>\n",
       "      <td>0.0</td>\n",
       "      <td>0.0</td>\n",
       "      <td>0.0</td>\n",
       "      <td>1.0</td>\n",
       "    </tr>\n",
       "    <tr>\n",
       "      <th>mo_sold_6</th>\n",
       "      <td>2044.0</td>\n",
       "      <td>0.171722</td>\n",
       "      <td>0.377231</td>\n",
       "      <td>0.0</td>\n",
       "      <td>0.0</td>\n",
       "      <td>0.0</td>\n",
       "      <td>0.0</td>\n",
       "      <td>1.0</td>\n",
       "    </tr>\n",
       "    <tr>\n",
       "      <th>mo_sold_7</th>\n",
       "      <td>2044.0</td>\n",
       "      <td>0.148239</td>\n",
       "      <td>0.355423</td>\n",
       "      <td>0.0</td>\n",
       "      <td>0.0</td>\n",
       "      <td>0.0</td>\n",
       "      <td>0.0</td>\n",
       "      <td>1.0</td>\n",
       "    </tr>\n",
       "    <tr>\n",
       "      <th>mo_sold_8</th>\n",
       "      <td>2044.0</td>\n",
       "      <td>0.081703</td>\n",
       "      <td>0.273978</td>\n",
       "      <td>0.0</td>\n",
       "      <td>0.0</td>\n",
       "      <td>0.0</td>\n",
       "      <td>0.0</td>\n",
       "      <td>1.0</td>\n",
       "    </tr>\n",
       "    <tr>\n",
       "      <th>mo_sold_9</th>\n",
       "      <td>2044.0</td>\n",
       "      <td>0.053327</td>\n",
       "      <td>0.224739</td>\n",
       "      <td>0.0</td>\n",
       "      <td>0.0</td>\n",
       "      <td>0.0</td>\n",
       "      <td>0.0</td>\n",
       "      <td>1.0</td>\n",
       "    </tr>\n",
       "  </tbody>\n",
       "</table>\n",
       "<p>78 rows × 8 columns</p>\n",
       "</div>"
      ],
      "text/plain": [
       "                 count           mean           std      min       25%  \\\n",
       "overall_qual    2044.0       6.108121      1.422686      1.0       5.0   \n",
       "mas_vnr_area    2044.0      97.170744    168.862926      0.0       0.0   \n",
       "gr_liv_area     2044.0    1494.356654    484.502287    334.0    1128.0   \n",
       "have_fireplace  2044.0       0.511742      0.499984      0.0       0.0   \n",
       "saleprice       2044.0  181367.176125  79334.783913  12789.0  129500.0   \n",
       "...                ...            ...           ...      ...       ...   \n",
       "mo_sold_5       2044.0       0.125734      0.331630      0.0       0.0   \n",
       "mo_sold_6       2044.0       0.171722      0.377231      0.0       0.0   \n",
       "mo_sold_7       2044.0       0.148239      0.355423      0.0       0.0   \n",
       "mo_sold_8       2044.0       0.081703      0.273978      0.0       0.0   \n",
       "mo_sold_9       2044.0       0.053327      0.224739      0.0       0.0   \n",
       "\n",
       "                     50%       75%       max  \n",
       "overall_qual         6.0       7.0      10.0  \n",
       "mas_vnr_area         0.0     158.0    1129.0  \n",
       "gr_liv_area       1443.0    1728.0    3820.0  \n",
       "have_fireplace       1.0       1.0       1.0  \n",
       "saleprice       162000.0  214000.0  611657.0  \n",
       "...                  ...       ...       ...  \n",
       "mo_sold_5            0.0       0.0       1.0  \n",
       "mo_sold_6            0.0       0.0       1.0  \n",
       "mo_sold_7            0.0       0.0       1.0  \n",
       "mo_sold_8            0.0       0.0       1.0  \n",
       "mo_sold_9            0.0       0.0       1.0  \n",
       "\n",
       "[78 rows x 8 columns]"
      ]
     },
     "execution_count": 31,
     "metadata": {},
     "output_type": "execute_result"
    }
   ],
   "source": [
    "train_final.describe().T"
   ]
  },
  {
   "cell_type": "markdown",
   "id": "ed3ab495",
   "metadata": {},
   "source": [
    "## Model Preparation\n",
    "*Back to [Contents](#Contents:)*"
   ]
  },
  {
   "cell_type": "markdown",
   "id": "58d3bb7e",
   "metadata": {},
   "source": [
    "### Get features matrix X and target vector y"
   ]
  },
  {
   "cell_type": "code",
   "execution_count": 32,
   "id": "da7c6bd8",
   "metadata": {},
   "outputs": [
    {
     "name": "stdout",
     "output_type": "stream",
     "text": [
      "(2044, 77)\n",
      "(2044, 1)\n"
     ]
    }
   ],
   "source": [
    "features = train_final.columns.drop(['saleprice'])\n",
    "X = train_final[features]\n",
    "y = train_final[['saleprice']]\n",
    "print(X.shape)\n",
    "print(y.shape)"
   ]
  },
  {
   "cell_type": "markdown",
   "id": "46be38a9",
   "metadata": {},
   "source": [
    "### Train test split 70/30"
   ]
  },
  {
   "cell_type": "code",
   "execution_count": 33,
   "id": "d0dff12d",
   "metadata": {
    "scrolled": true
   },
   "outputs": [
    {
     "name": "stdout",
     "output_type": "stream",
     "text": [
      "(1533, 77) (1533, 1)\n"
     ]
    }
   ],
   "source": [
    "X_train, X_test, y_train, y_test = train_test_split(X, y, random_state=42)\n",
    "print(X_train.shape, y_train.shape)"
   ]
  },
  {
   "cell_type": "markdown",
   "id": "db2fcfb2",
   "metadata": {},
   "source": [
    "### StandardScaler"
   ]
  },
  {
   "cell_type": "code",
   "execution_count": 34,
   "id": "01de5621",
   "metadata": {},
   "outputs": [],
   "source": [
    "# apply standard scaler to scale variables\n",
    "ss = StandardScaler()\n",
    "\n",
    "X_train_sc = ss.fit_transform(X_train)\n",
    "X_test_sc = ss.transform(X_test)"
   ]
  },
  {
   "cell_type": "markdown",
   "id": "77f515b5",
   "metadata": {},
   "source": [
    "### Checking skewness of target"
   ]
  },
  {
   "cell_type": "code",
   "execution_count": 35,
   "id": "050350b5",
   "metadata": {},
   "outputs": [],
   "source": [
    "## to check whether the output is normally distributed - balance data\n",
    "## skew >0.8 consider as moderately skew\n",
    "\n",
    "def skew_plot(y):\n",
    "  (mu,sigma) = norm.fit(y)\n",
    "  print(f'mu = {round(mu,2)}, sigma = {round(sigma,2)}, skew = {y.skew()[0]}')\n",
    "  f, ax = plt.subplots(figsize=(10,5))\n",
    "  ax = sns.distplot(y, fit=norm)\n",
    "  plt.xlabel('Sale Price', fontsize=15)\n",
    "  plt.ylabel('Frequency', fontsize=15)\n",
    "  plt.title('Distribution of Housing Sale Price', fontsize=15)\n",
    "  plt.show()"
   ]
  },
  {
   "cell_type": "code",
   "execution_count": 36,
   "id": "8fb56056",
   "metadata": {
    "scrolled": false
   },
   "outputs": [
    {
     "name": "stdout",
     "output_type": "stream",
     "text": [
      "mu = 181367.18, sigma = 79315.37, skew = 1.5607636209921676\n"
     ]
    },
    {
     "data": {
      "image/png": "[encoded data removed]",
      "text/plain": [
       "<Figure size 720x360 with 1 Axes>"
      ]
     },
     "metadata": {
      "needs_background": "light"
     },
     "output_type": "display_data"
    }
   ],
   "source": [
    "skew_plot(y)"
   ]
  },
  {
   "cell_type": "markdown",
   "id": "6a01f57b",
   "metadata": {},
   "source": [
    "Sale price is skewed positively, as it shows a tail on the right side of the distribution. It is likely a linear model will not work so well on predicting homes with higher sales price."
   ]
  },
  {
   "cell_type": "markdown",
   "id": "e2e3b8f6",
   "metadata": {},
   "source": [
    "## Model Fitting\n",
    "*Back to [Contents](#Contents:)*"
   ]
  },
  {
   "cell_type": "markdown",
   "id": "a22adfd4",
   "metadata": {},
   "source": [
    "### Linear Regression - Base model"
   ]
  },
  {
   "cell_type": "code",
   "execution_count": 37,
   "id": "1e4a9b19",
   "metadata": {},
   "outputs": [
    {
     "data": {
      "text/plain": [
       "LinearRegression()"
      ]
     },
     "execution_count": 37,
     "metadata": {},
     "output_type": "execute_result"
    }
   ],
   "source": [
    "# use linear regression to test\n",
    "lr=LinearRegression()\n",
    "lr.fit(X_train_sc, y_train)"
   ]
  },
  {
   "cell_type": "code",
   "execution_count": 38,
   "id": "d7709885",
   "metadata": {},
   "outputs": [
    {
     "name": "stdout",
     "output_type": "stream",
     "text": [
      "26563.841913232234 26882.46787362843 -1.199%\n"
     ]
    }
   ],
   "source": [
    "y_train_pred = lr.predict(X_train_sc)\n",
    "y_test_pred = lr.predict(X_test_sc)\n",
    "rmse_train = mean_squared_error(y_train, y_train_pred, squared=False)\n",
    "rmse_test = mean_squared_error(y_test, y_test_pred, squared=False)\n",
    "pct_diff = round((1-rmse_test/rmse_train)*100,3)\n",
    "\n",
    "print(rmse_train, rmse_test, f'{pct_diff}%')"
   ]
  },
  {
   "cell_type": "markdown",
   "id": "d2c63651",
   "metadata": {},
   "source": [
    "### Use GridSearchCV to look through LR, Ridge, Lasso and ElasticNet models"
   ]
  },
  {
   "cell_type": "code",
   "execution_count": 39,
   "id": "3808c42d",
   "metadata": {},
   "outputs": [],
   "source": [
    "# Initialze the estimators\n",
    "model1 = LinearRegression()\n",
    "model2 = Ridge()\n",
    "model3 = Lasso()\n",
    "model4 = ElasticNet()\n",
    "\n",
    "# Initialize the hyperparameters for each dictionary\n",
    "param1 = {}\n",
    "param1['classifier'] = [model1]\n",
    "\n",
    "# alphas from 0.001 to 100, logspace\n",
    "param2 = {}\n",
    "param2['classifier__alpha'] = np.logspace(-3,2,50) \n",
    "param2['classifier'] = [model2]\n",
    "\n",
    "# alphas from 0.1 to 100, logspace\n",
    "param3 = {}\n",
    "param3['classifier__alpha'] = np.logspace(-1,2,50)\n",
    "param3['classifier'] = [model3]\n",
    "\n",
    "param4 = {}\n",
    "param4['classifier__alpha'] = np.linspace(0.5,1.0,100)\n",
    "param4['classifier__l1_ratio'] = np.linspace(0,1,10)\n",
    "param4['classifier'] = [model4]\n",
    "\n",
    "# Create pipeline\n",
    "pipeline = Pipeline([('classifier', model1)]) #for starting from model1\n",
    "params = [param1, param2, param3, param4]     #multiple params will do the job of passing thorugh each model here\n",
    "\n",
    "# Run GridsearchCV\n",
    "gs = GridSearchCV(pipeline, params, cv=3, n_jobs=-1, scoring='neg_mean_squared_error')"
   ]
  },
  {
   "cell_type": "code",
   "execution_count": 40,
   "id": "339ac153",
   "metadata": {},
   "outputs": [
    {
     "data": {
      "text/plain": [
       "GridSearchCV(cv=3,\n",
       "             estimator=Pipeline(steps=[('classifier', LinearRegression())]),\n",
       "             n_jobs=-1,\n",
       "             param_grid=[{'classifier': [LinearRegression()]},\n",
       "                         {'classifier': [Ridge(alpha=12.067926406393289)],\n",
       "                          'classifier__alpha': array([1.00000000e-03, 1.26485522e-03, 1.59985872e-03, 2.02358965e-03,\n",
       "       2.55954792e-03, 3.23745754e-03, 4.09491506e-03, 5.17947468e-03,\n",
       "       6.55128557e-03, 8....\n",
       "       0.9040404 , 0.90909091, 0.91414141, 0.91919192, 0.92424242,\n",
       "       0.92929293, 0.93434343, 0.93939394, 0.94444444, 0.94949495,\n",
       "       0.95454545, 0.95959596, 0.96464646, 0.96969697, 0.97474747,\n",
       "       0.97979798, 0.98484848, 0.98989899, 0.99494949, 1.        ]),\n",
       "                          'classifier__l1_ratio': array([0.        , 0.11111111, 0.22222222, 0.33333333, 0.44444444,\n",
       "       0.55555556, 0.66666667, 0.77777778, 0.88888889, 1.        ])}],\n",
       "             scoring='neg_mean_squared_error')"
      ]
     },
     "execution_count": 40,
     "metadata": {},
     "output_type": "execute_result"
    }
   ],
   "source": [
    "gs.fit(X_train_sc, y_train)"
   ]
  },
  {
   "cell_type": "code",
   "execution_count": 41,
   "id": "b04d86d7",
   "metadata": {},
   "outputs": [
    {
     "name": "stdout",
     "output_type": "stream",
     "text": [
      "Best params:  {'classifier': Ridge(alpha=12.067926406393289), 'classifier__alpha': 12.067926406393289}\n",
      "\n",
      "\n",
      "Best estimator:  Pipeline(steps=[('classifier', Ridge(alpha=12.067926406393289))])\n"
     ]
    }
   ],
   "source": [
    "# evaluation of the best model\n",
    "# best param\n",
    "print('Best params: ', gs.best_params_)\n",
    "print('\\n')\n",
    "\n",
    "# best estimator\n",
    "print('Best estimator: ', gs.best_estimator_)\n"
   ]
  },
  {
   "cell_type": "markdown",
   "id": "3f50a8b2",
   "metadata": {},
   "source": [
    "### Evaluating best model"
   ]
  },
  {
   "cell_type": "code",
   "execution_count": 42,
   "id": "0a1de733",
   "metadata": {
    "scrolled": true
   },
   "outputs": [
    {
     "name": "stdout",
     "output_type": "stream",
     "text": [
      "RMSE for train set:  26607.298697357186\n",
      "RMSE for test set:  26933.38796634249\n",
      "% difference must be less than 2.24%: -1.23 %\n"
     ]
    }
   ],
   "source": [
    "# Instantiate model\n",
    "ridge = Ridge(alpha=12)\n",
    "\n",
    "# Fit model using optimal alpha\n",
    "ridge.fit(X_train_sc, y_train)\n",
    "\n",
    "# Generate predictions\n",
    "y_train_pred = ridge.predict(X_train_sc)\n",
    "y_test_pred = ridge.predict(X_test_sc)\n",
    "\n",
    "# Evaluate model using RMSE\n",
    "rmse_train = mean_squared_error(y_train, y_train_pred, squared=False)\n",
    "rmse_test = mean_squared_error(y_test, y_test_pred, squared=False)\n",
    "pct_diff = round((1-rmse_test/rmse_train)*100,2)\n",
    "\n",
    "print('RMSE for train set: ', rmse_train)\n",
    "print('RMSE for test set: ', rmse_test)\n",
    "print('% difference must be less than 2.24%:', pct_diff, '%')"
   ]
  },
  {
   "cell_type": "markdown",
   "id": "15dcb7a6",
   "metadata": {},
   "source": [
    "The Ridge model tested has good generalisation. RMSE score is also very low. The model should work well on a unseen test dataset."
   ]
  },
  {
   "cell_type": "code",
   "execution_count": 43,
   "id": "1d5b82b8",
   "metadata": {
    "scrolled": false
   },
   "outputs": [
    {
     "data": {
      "text/html": [
       "<div>\n",
       "<style scoped>\n",
       "    .dataframe tbody tr th:only-of-type {\n",
       "        vertical-align: middle;\n",
       "    }\n",
       "\n",
       "    .dataframe tbody tr th {\n",
       "        vertical-align: top;\n",
       "    }\n",
       "\n",
       "    .dataframe thead th {\n",
       "        text-align: right;\n",
       "    }\n",
       "</style>\n",
       "<table border=\"1\" class=\"dataframe\">\n",
       "  <thead>\n",
       "    <tr style=\"text-align: right;\">\n",
       "      <th></th>\n",
       "      <th>coef</th>\n",
       "    </tr>\n",
       "    <tr>\n",
       "      <th>category</th>\n",
       "      <th></th>\n",
       "    </tr>\n",
       "  </thead>\n",
       "  <tbody>\n",
       "    <tr>\n",
       "      <th>gr_liv_area</th>\n",
       "      <td>20516.725646</td>\n",
       "    </tr>\n",
       "    <tr>\n",
       "      <th>gr_nliv_area</th>\n",
       "      <td>18836.684134</td>\n",
       "    </tr>\n",
       "    <tr>\n",
       "      <th>overall_qual</th>\n",
       "      <td>18479.857903</td>\n",
       "    </tr>\n",
       "    <tr>\n",
       "      <th>ms_subclass_20</th>\n",
       "      <td>13948.164068</td>\n",
       "    </tr>\n",
       "    <tr>\n",
       "      <th>mas_vnr_area</th>\n",
       "      <td>9771.275104</td>\n",
       "    </tr>\n",
       "    <tr>\n",
       "      <th>...</th>\n",
       "      <td>...</td>\n",
       "    </tr>\n",
       "    <tr>\n",
       "      <th>neighborhood_Gilbert</th>\n",
       "      <td>-5164.202666</td>\n",
       "    </tr>\n",
       "    <tr>\n",
       "      <th>neighborhood_CollgCr</th>\n",
       "      <td>-5552.152252</td>\n",
       "    </tr>\n",
       "    <tr>\n",
       "      <th>neighborhood_NWAmes</th>\n",
       "      <td>-5976.664615</td>\n",
       "    </tr>\n",
       "    <tr>\n",
       "      <th>neighborhood_NAmes</th>\n",
       "      <td>-6729.044122</td>\n",
       "    </tr>\n",
       "    <tr>\n",
       "      <th>age_sold</th>\n",
       "      <td>-8372.949299</td>\n",
       "    </tr>\n",
       "  </tbody>\n",
       "</table>\n",
       "<p>77 rows × 1 columns</p>\n",
       "</div>"
      ],
      "text/plain": [
       "                              coef\n",
       "category                          \n",
       "gr_liv_area           20516.725646\n",
       "gr_nliv_area          18836.684134\n",
       "overall_qual          18479.857903\n",
       "ms_subclass_20        13948.164068\n",
       "mas_vnr_area           9771.275104\n",
       "...                            ...\n",
       "neighborhood_Gilbert  -5164.202666\n",
       "neighborhood_CollgCr  -5552.152252\n",
       "neighborhood_NWAmes   -5976.664615\n",
       "neighborhood_NAmes    -6729.044122\n",
       "age_sold              -8372.949299\n",
       "\n",
       "[77 rows x 1 columns]"
      ]
     },
     "execution_count": 43,
     "metadata": {},
     "output_type": "execute_result"
    }
   ],
   "source": [
    "# coefficients from the model to explain per unit change in feature on the sale price\n",
    "\n",
    "# pd.set_option('display.max_rows',None)\n",
    "\n",
    "pd.DataFrame({'coef':ridge.coef_[0], 'category':X_train.columns}).\\\n",
    "sort_values(by = 'coef', ascending = False).set_index('category')"
   ]
  },
  {
   "cell_type": "code",
   "execution_count": 44,
   "id": "6887b481",
   "metadata": {
    "scrolled": true
   },
   "outputs": [
    {
     "data": {
      "image/png": "[encoded data removed]",
      "text/plain": [
       "<Figure size 1080x2160 with 1 Axes>"
      ]
     },
     "metadata": {
      "needs_background": "light"
     },
     "output_type": "display_data"
    }
   ],
   "source": [
    "# which variable has the greatest coefficient\n",
    "\n",
    "pd.Series(abs(ridge.coef_[0]), index=X.columns).sort_index().\\\n",
    "plot.barh(figsize=(15, 30));"
   ]
  },
  {
   "cell_type": "markdown",
   "id": "6a20f4af",
   "metadata": {},
   "source": [
    "Gross living and non living area, as well as overall quality, seems to have the largest impact on sales price."
   ]
  },
  {
   "cell_type": "markdown",
   "id": "403d08b1",
   "metadata": {},
   "source": [
    "### Visualizations to infer results"
   ]
  },
  {
   "cell_type": "code",
   "execution_count": 45,
   "id": "12e6cc72",
   "metadata": {
    "scrolled": true
   },
   "outputs": [
    {
     "data": {
      "image/png": "[encoded data removed]",
      "text/plain": [
       "<Figure size 576x360 with 1 Axes>"
      ]
     },
     "metadata": {
      "needs_background": "light"
     },
     "output_type": "display_data"
    }
   ],
   "source": [
    "# Are errors normally distributed?\n",
    "\n",
    "fig,ax = plt.subplots(figsize=(8,5))\n",
    "resids = y_test - y_test_pred\n",
    "\n",
    "sns.distplot(resids,bins=50,fit=norm)\n",
    "plt.title('Error Normality Check',size=15);"
   ]
  },
  {
   "cell_type": "markdown",
   "id": "58bf0cb2",
   "metadata": {},
   "source": [
    "Yes, from the chart it looks like the errors are quite normally distributed."
   ]
  },
  {
   "cell_type": "code",
   "execution_count": 46,
   "id": "ac4665eb",
   "metadata": {
    "scrolled": true
   },
   "outputs": [
    {
     "data": {
      "image/png": "[encoded data removed]",
      "text/plain": [
       "<Figure size 576x360 with 1 Axes>"
      ]
     },
     "metadata": {
      "needs_background": "light"
     },
     "output_type": "display_data"
    }
   ],
   "source": [
    "# Do errors have equal variance\n",
    "\n",
    "fig,ax = plt.subplots(figsize=(8,5))\n",
    "\n",
    "plt.scatter(y_test_pred, resids,s=2)\n",
    "plt.axhline(0,color='orange')\n",
    "plt.title('Equal Variance Check', size=15)\n",
    "plt.xlabel('Predicted values', size=12)\n",
    "plt.ylabel('Residuals', size=12);"
   ]
  },
  {
   "cell_type": "markdown",
   "id": "0fd7a898",
   "metadata": {},
   "source": [
    "Errors look to randomly distributed and have equal variance."
   ]
  },
  {
   "cell_type": "code",
   "execution_count": 47,
   "id": "49f98f82",
   "metadata": {
    "scrolled": true
   },
   "outputs": [
    {
     "data": {
      "image/png": "[encoded data removed]",
      "text/plain": [
       "<Figure size 576x360 with 1 Axes>"
      ]
     },
     "metadata": {
      "needs_background": "light"
     },
     "output_type": "display_data"
    }
   ],
   "source": [
    "# Linearity check\n",
    "\n",
    "fig,ax = plt.subplots(figsize=(8,5))\n",
    "plt.scatter(y_test_pred, y_test)\n",
    "\n",
    "plt.plot([0, 5e5], [0, 5e5], ls=\"--\", c=\"black\")\n",
    "plt.title('Sale Price Prediction',size=15)\n",
    "plt.xlabel('Actual sale prices', size=12)\n",
    "plt.ylabel('Predicted sale prices', size=12);"
   ]
  },
  {
   "cell_type": "markdown",
   "id": "0d0a879f",
   "metadata": {},
   "source": [
    "The model seems to be following a nice linear pattern."
   ]
  },
  {
   "cell_type": "markdown",
   "id": "4813bdcb",
   "metadata": {},
   "source": [
    "## Kaggle Submission\n",
    "*Back to [Contents](#Contents:)*"
   ]
  },
  {
   "cell_type": "code",
   "execution_count": 48,
   "id": "cd182682",
   "metadata": {},
   "outputs": [],
   "source": [
    "# PREPROCESSING FUNCTION PUT TOGETHER\n",
    "\n",
    "def preprocessing(input_df):\n",
    "    \n",
    "    # make copy of the input df\n",
    "    copy_df = input_df.copy()\n",
    "    \n",
    "    # clean up column names\n",
    "    copy_df.columns = copy_df.columns.str.lower()\n",
    "    copy_df.columns = copy_df.columns.str.replace(' ','_')\n",
    "    \n",
    "    # drop skewed columns\n",
    "    copy_df.drop(skewed_cols_todrop, axis=1, inplace=True)\n",
    "    \n",
    "    # fill nulls\n",
    "    copy_df = fillnull(copy_df)\n",
    "    \n",
    "    # clean data\n",
    "    copy_df = cleandata(copy_df)\n",
    "    \n",
    "    return copy_df"
   ]
  },
  {
   "cell_type": "code",
   "execution_count": 49,
   "id": "97c0ca62",
   "metadata": {
    "scrolled": false
   },
   "outputs": [
    {
     "name": "stdout",
     "output_type": "stream",
     "text": [
      "(878, 15)\n"
     ]
    },
    {
     "data": {
      "text/html": [
       "<div>\n",
       "<style scoped>\n",
       "    .dataframe tbody tr th:only-of-type {\n",
       "        vertical-align: middle;\n",
       "    }\n",
       "\n",
       "    .dataframe tbody tr th {\n",
       "        vertical-align: top;\n",
       "    }\n",
       "\n",
       "    .dataframe thead th {\n",
       "        text-align: right;\n",
       "    }\n",
       "</style>\n",
       "<table border=\"1\" class=\"dataframe\">\n",
       "  <thead>\n",
       "    <tr style=\"text-align: right;\">\n",
       "      <th></th>\n",
       "      <th>ms_subclass</th>\n",
       "      <th>ms_zoning</th>\n",
       "      <th>neighborhood</th>\n",
       "      <th>house_style</th>\n",
       "      <th>overall_qual</th>\n",
       "      <th>exterior</th>\n",
       "      <th>mas_vnr_type</th>\n",
       "      <th>mas_vnr_area</th>\n",
       "      <th>foundation</th>\n",
       "      <th>gr_liv_area</th>\n",
       "      <th>have_fireplace</th>\n",
       "      <th>mo_sold</th>\n",
       "      <th>age_sold</th>\n",
       "      <th>gr_nliv_area</th>\n",
       "      <th>no_of_baths</th>\n",
       "    </tr>\n",
       "  </thead>\n",
       "  <tbody>\n",
       "    <tr>\n",
       "      <th>0</th>\n",
       "      <td>190</td>\n",
       "      <td>RM</td>\n",
       "      <td>OldTown</td>\n",
       "      <td>2Story</td>\n",
       "      <td>6</td>\n",
       "      <td>Others</td>\n",
       "      <td>None</td>\n",
       "      <td>0.0</td>\n",
       "      <td>Others</td>\n",
       "      <td>1928</td>\n",
       "      <td>0</td>\n",
       "      <td>4</td>\n",
       "      <td>96</td>\n",
       "      <td>1632</td>\n",
       "      <td>2.0</td>\n",
       "    </tr>\n",
       "    <tr>\n",
       "      <th>1</th>\n",
       "      <td>90</td>\n",
       "      <td>RL</td>\n",
       "      <td>Sawyer</td>\n",
       "      <td>1Story</td>\n",
       "      <td>5</td>\n",
       "      <td>Wood</td>\n",
       "      <td>None</td>\n",
       "      <td>0.0</td>\n",
       "      <td>CBlock</td>\n",
       "      <td>1967</td>\n",
       "      <td>0</td>\n",
       "      <td>8</td>\n",
       "      <td>29</td>\n",
       "      <td>2717</td>\n",
       "      <td>2.0</td>\n",
       "    </tr>\n",
       "    <tr>\n",
       "      <th>2</th>\n",
       "      <td>60</td>\n",
       "      <td>RL</td>\n",
       "      <td>Gilbert</td>\n",
       "      <td>2Story</td>\n",
       "      <td>7</td>\n",
       "      <td>Vinyl</td>\n",
       "      <td>None</td>\n",
       "      <td>0.0</td>\n",
       "      <td>PConc</td>\n",
       "      <td>1496</td>\n",
       "      <td>1</td>\n",
       "      <td>9</td>\n",
       "      <td>0</td>\n",
       "      <td>1204</td>\n",
       "      <td>3.5</td>\n",
       "    </tr>\n",
       "    <tr>\n",
       "      <th>3</th>\n",
       "      <td>30</td>\n",
       "      <td>RM</td>\n",
       "      <td>OldTown</td>\n",
       "      <td>1Story</td>\n",
       "      <td>5</td>\n",
       "      <td>Wood</td>\n",
       "      <td>None</td>\n",
       "      <td>0.0</td>\n",
       "      <td>CBlock</td>\n",
       "      <td>968</td>\n",
       "      <td>0</td>\n",
       "      <td>7</td>\n",
       "      <td>84</td>\n",
       "      <td>1632</td>\n",
       "      <td>1.0</td>\n",
       "    </tr>\n",
       "    <tr>\n",
       "      <th>4</th>\n",
       "      <td>20</td>\n",
       "      <td>RL</td>\n",
       "      <td>NAmes</td>\n",
       "      <td>1Story</td>\n",
       "      <td>6</td>\n",
       "      <td>Wood</td>\n",
       "      <td>BrkFace</td>\n",
       "      <td>247.0</td>\n",
       "      <td>CBlock</td>\n",
       "      <td>1394</td>\n",
       "      <td>1</td>\n",
       "      <td>7</td>\n",
       "      <td>46</td>\n",
       "      <td>2169</td>\n",
       "      <td>2.5</td>\n",
       "    </tr>\n",
       "  </tbody>\n",
       "</table>\n",
       "</div>"
      ],
      "text/plain": [
       "  ms_subclass ms_zoning neighborhood house_style  overall_qual exterior  \\\n",
       "0         190        RM      OldTown      2Story             6   Others   \n",
       "1          90        RL       Sawyer      1Story             5     Wood   \n",
       "2          60        RL      Gilbert      2Story             7    Vinyl   \n",
       "3          30        RM      OldTown      1Story             5     Wood   \n",
       "4          20        RL        NAmes      1Story             6     Wood   \n",
       "\n",
       "  mas_vnr_type  mas_vnr_area foundation  gr_liv_area  have_fireplace mo_sold  \\\n",
       "0         None           0.0     Others         1928               0       4   \n",
       "1         None           0.0     CBlock         1967               0       8   \n",
       "2         None           0.0      PConc         1496               1       9   \n",
       "3         None           0.0     CBlock          968               0       7   \n",
       "4      BrkFace         247.0     CBlock         1394               1       7   \n",
       "\n",
       "   age_sold  gr_nliv_area  no_of_baths  \n",
       "0        96          1632          2.0  \n",
       "1        29          2717          2.0  \n",
       "2         0          1204          3.5  \n",
       "3        84          1632          1.0  \n",
       "4        46          2169          2.5  "
      ]
     },
     "execution_count": 49,
     "metadata": {},
     "output_type": "execute_result"
    }
   ],
   "source": [
    "# Take note, there is no saleprice column in the test csv dataset\n",
    "test_clean = preprocessing(test)\n",
    "print(test_clean.shape)\n",
    "test_clean.head()"
   ]
  },
  {
   "cell_type": "code",
   "execution_count": 50,
   "id": "b1e7133b",
   "metadata": {},
   "outputs": [],
   "source": [
    "# perform get dummies first\n",
    "test_final = pd.get_dummies(test_clean, columns=cat_list, drop_first=True)"
   ]
  },
  {
   "cell_type": "code",
   "execution_count": 51,
   "id": "7209d8b4",
   "metadata": {
    "scrolled": false
   },
   "outputs": [
    {
     "name": "stdout",
     "output_type": "stream",
     "text": [
      "['saleprice', 'ms_subclass_150', 'neighborhood_GrnHill', 'neighborhood_Landmrk']\n"
     ]
    }
   ],
   "source": [
    "# all the columns after get_dummies that are fitted in the training set\n",
    "# but not in the final test csv set\n",
    "# train_final has saleprice column\n",
    "\n",
    "missing_columns = []\n",
    "for col in train_final.columns:\n",
    "    if col not in list(test_final.columns):\n",
    "        missing_columns.append(col)\n",
    "        \n",
    "print(missing_columns)"
   ]
  },
  {
   "cell_type": "code",
   "execution_count": 52,
   "id": "d25c75e5",
   "metadata": {},
   "outputs": [],
   "source": [
    "# add columns except saleprice that are missing and fill with all zeros\n",
    "for col in missing_columns:\n",
    "    if col != 'saleprice':\n",
    "        test_final[col]=0"
   ]
  },
  {
   "cell_type": "code",
   "execution_count": 53,
   "id": "ae6802cb",
   "metadata": {
    "scrolled": true
   },
   "outputs": [
    {
     "data": {
      "text/plain": [
       "(878, 77)"
      ]
     },
     "execution_count": 53,
     "metadata": {},
     "output_type": "execute_result"
    }
   ],
   "source": [
    "# reorder the columns based on X.columns\n",
    "test_final = test_final[X.columns]\n",
    "\n",
    "# scale all the features using StandardScalar\n",
    "test_final_sc = ss.transform(test_final)\n",
    "\n",
    "# check final shape of test set\n",
    "test_final_sc.shape"
   ]
  },
  {
   "cell_type": "markdown",
   "id": "a62b5588",
   "metadata": {},
   "source": [
    "### Predicting sale price using best model"
   ]
  },
  {
   "cell_type": "code",
   "execution_count": 54,
   "id": "55126bcf",
   "metadata": {
    "scrolled": true
   },
   "outputs": [
    {
     "data": {
      "text/html": [
       "<div>\n",
       "<style scoped>\n",
       "    .dataframe tbody tr th:only-of-type {\n",
       "        vertical-align: middle;\n",
       "    }\n",
       "\n",
       "    .dataframe tbody tr th {\n",
       "        vertical-align: top;\n",
       "    }\n",
       "\n",
       "    .dataframe thead th {\n",
       "        text-align: right;\n",
       "    }\n",
       "</style>\n",
       "<table border=\"1\" class=\"dataframe\">\n",
       "  <thead>\n",
       "    <tr style=\"text-align: right;\">\n",
       "      <th></th>\n",
       "      <th>0</th>\n",
       "    </tr>\n",
       "  </thead>\n",
       "  <tbody>\n",
       "    <tr>\n",
       "      <th>count</th>\n",
       "      <td>878.000000</td>\n",
       "    </tr>\n",
       "    <tr>\n",
       "      <th>mean</th>\n",
       "      <td>180155.584426</td>\n",
       "    </tr>\n",
       "    <tr>\n",
       "      <th>std</th>\n",
       "      <td>73486.486170</td>\n",
       "    </tr>\n",
       "    <tr>\n",
       "      <th>min</th>\n",
       "      <td>26747.856052</td>\n",
       "    </tr>\n",
       "    <tr>\n",
       "      <th>25%</th>\n",
       "      <td>126282.800481</td>\n",
       "    </tr>\n",
       "    <tr>\n",
       "      <th>50%</th>\n",
       "      <td>167226.772181</td>\n",
       "    </tr>\n",
       "    <tr>\n",
       "      <th>75%</th>\n",
       "      <td>222091.309644</td>\n",
       "    </tr>\n",
       "    <tr>\n",
       "      <th>max</th>\n",
       "      <td>500101.694362</td>\n",
       "    </tr>\n",
       "  </tbody>\n",
       "</table>\n",
       "</div>"
      ],
      "text/plain": [
       "                   0\n",
       "count     878.000000\n",
       "mean   180155.584426\n",
       "std     73486.486170\n",
       "min     26747.856052\n",
       "25%    126282.800481\n",
       "50%    167226.772181\n",
       "75%    222091.309644\n",
       "max    500101.694362"
      ]
     },
     "execution_count": 54,
     "metadata": {},
     "output_type": "execute_result"
    }
   ],
   "source": [
    "# extract the values from ridge_pred array\n",
    "ridge_pred = ridge.predict(test_final_sc)\n",
    "ridge_pred_list = []\n",
    "for i in ridge_pred:\n",
    "    ridge_pred_list.append(i[0])\n",
    "pd.DataFrame(ridge_pred_list).describe()"
   ]
  },
  {
   "cell_type": "code",
   "execution_count": 55,
   "id": "31c3e247",
   "metadata": {
    "scrolled": true
   },
   "outputs": [
    {
     "data": {
      "image/png": "[encoded data removed]",
      "text/plain": [
       "<Figure size 432x288 with 1 Axes>"
      ]
     },
     "metadata": {
      "needs_background": "light"
     },
     "output_type": "display_data"
    }
   ],
   "source": [
    "# plotting the distribution of the predicted results\n",
    "plt.hist(ridge_pred_list)\n",
    "plt.tight_layout()"
   ]
  },
  {
   "cell_type": "code",
   "execution_count": 56,
   "id": "92e8d987",
   "metadata": {},
   "outputs": [
    {
     "name": "stdout",
     "output_type": "stream",
     "text": [
      "(878, 2)\n"
     ]
    }
   ],
   "source": [
    "# Export out the csv file for Kaggle submission\n",
    "export = pd.DataFrame({'Id': test['Id'], 'SalePrice': ridge_pred_list})\n",
    "print(export.shape)\n",
    "export.to_csv('./datasets/testsubm_030722.csv', index=False)"
   ]
  },
  {
   "cell_type": "code",
   "execution_count": 57,
   "id": "0e7dbf97",
   "metadata": {
    "scrolled": true
   },
   "outputs": [
    {
     "name": "stdout",
     "output_type": "stream",
     "text": [
      "My public score is 32158.\n",
      "My private score is 23723.\n"
     ]
    }
   ],
   "source": [
    "print(\"My public score is 32158.\")\n",
    "print(\"My private score is 23723.\")"
   ]
  },
  {
   "cell_type": "markdown",
   "id": "1ccd1912",
   "metadata": {},
   "source": [
    "*Back to [Contents](#Contents:)*"
   ]
  },
  {
   "cell_type": "code",
   "execution_count": 58,
   "id": "0d72d61a",
   "metadata": {},
   "outputs": [
    {
     "data": {
      "text/html": [
       "<div>\n",
       "<style scoped>\n",
       "    .dataframe tbody tr th:only-of-type {\n",
       "        vertical-align: middle;\n",
       "    }\n",
       "\n",
       "    .dataframe tbody tr th {\n",
       "        vertical-align: top;\n",
       "    }\n",
       "\n",
       "    .dataframe thead th {\n",
       "        text-align: right;\n",
       "    }\n",
       "</style>\n",
       "<table border=\"1\" class=\"dataframe\">\n",
       "  <thead>\n",
       "    <tr style=\"text-align: right;\">\n",
       "      <th></th>\n",
       "      <th>ms_subclass</th>\n",
       "      <th>ms_zoning</th>\n",
       "      <th>neighborhood</th>\n",
       "      <th>house_style</th>\n",
       "      <th>overall_qual</th>\n",
       "      <th>exterior</th>\n",
       "      <th>mas_vnr_type</th>\n",
       "      <th>foundation</th>\n",
       "      <th>bsmt_qual</th>\n",
       "      <th>gr_liv_area</th>\n",
       "      <th>kitchen_qual</th>\n",
       "      <th>totrms_abvgrd</th>\n",
       "      <th>have_fireplace</th>\n",
       "      <th>garage_cars</th>\n",
       "      <th>mo_sold</th>\n",
       "      <th>age_sold</th>\n",
       "      <th>gr_nliv_area</th>\n",
       "      <th>no_of_baths</th>\n",
       "    </tr>\n",
       "  </thead>\n",
       "  <tbody>\n",
       "    <tr>\n",
       "      <th>0</th>\n",
       "      <td>60</td>\n",
       "      <td>RL</td>\n",
       "      <td>Sawyer</td>\n",
       "      <td>2Story</td>\n",
       "      <td>6</td>\n",
       "      <td>Hardboard</td>\n",
       "      <td>BrkFace</td>\n",
       "      <td>Cblock</td>\n",
       "      <td>3</td>\n",
       "      <td>2000</td>\n",
       "      <td>4</td>\n",
       "      <td>7</td>\n",
       "      <td>0</td>\n",
       "      <td>2</td>\n",
       "      <td>3</td>\n",
       "      <td>34</td>\n",
       "      <td>769</td>\n",
       "      <td>2</td>\n",
       "    </tr>\n",
       "  </tbody>\n",
       "</table>\n",
       "</div>"
      ],
      "text/plain": [
       "   ms_subclass ms_zoning neighborhood house_style  overall_qual   exterior  \\\n",
       "0           60        RL       Sawyer      2Story             6  Hardboard   \n",
       "\n",
       "  mas_vnr_type foundation  bsmt_qual  gr_liv_area  kitchen_qual  \\\n",
       "0      BrkFace     Cblock          3         2000             4   \n",
       "\n",
       "   totrms_abvgrd  have_fireplace  garage_cars  mo_sold  age_sold  \\\n",
       "0              7               0            2        3        34   \n",
       "\n",
       "   gr_nliv_area  no_of_baths  \n",
       "0           769            2  "
      ]
     },
     "execution_count": 58,
     "metadata": {},
     "output_type": "execute_result"
    }
   ],
   "source": [
    "data = pd.read_csv('WEM Response.csv')\n",
    "data.iloc[:,1:]"
   ]
  },
  {
   "cell_type": "code",
   "execution_count": 59,
   "id": "25e62303",
   "metadata": {},
   "outputs": [
    {
     "ename": "NameError",
     "evalue": "name 'form_answers' is not defined",
     "output_type": "error",
     "traceback": [
      "\u001b[1;31m---------------------------------------------------------------------------\u001b[0m",
      "\u001b[1;31mNameError\u001b[0m                                 Traceback (most recent call last)",
      "\u001b[1;32m~\\AppData\\Local\\Temp/ipykernel_18796/748471307.py\u001b[0m in \u001b[0;36m<module>\u001b[1;34m\u001b[0m\n\u001b[0;32m      1\u001b[0m \u001b[1;31m# get dummies on categorical columns\u001b[0m\u001b[1;33m\u001b[0m\u001b[1;33m\u001b[0m\u001b[0m\n\u001b[0;32m      2\u001b[0m \u001b[0mcat_columns\u001b[0m\u001b[1;33m=\u001b[0m\u001b[1;33m[\u001b[0m\u001b[1;33m]\u001b[0m\u001b[1;33m\u001b[0m\u001b[1;33m\u001b[0m\u001b[0m\n\u001b[1;32m----> 3\u001b[1;33m \u001b[1;32mfor\u001b[0m \u001b[0mcol\u001b[0m \u001b[1;32min\u001b[0m \u001b[0mform_answers\u001b[0m\u001b[1;33m.\u001b[0m\u001b[0mcolumns\u001b[0m\u001b[1;33m:\u001b[0m\u001b[1;33m\u001b[0m\u001b[1;33m\u001b[0m\u001b[0m\n\u001b[0m\u001b[0;32m      4\u001b[0m     \u001b[1;32mif\u001b[0m \u001b[0mform_answers\u001b[0m\u001b[1;33m[\u001b[0m\u001b[0mcol\u001b[0m\u001b[1;33m]\u001b[0m\u001b[1;33m.\u001b[0m\u001b[0mdtype\u001b[0m\u001b[1;33m==\u001b[0m\u001b[1;34m'object'\u001b[0m\u001b[1;33m:\u001b[0m\u001b[1;33m\u001b[0m\u001b[1;33m\u001b[0m\u001b[0m\n\u001b[0;32m      5\u001b[0m         \u001b[0mcat_columns\u001b[0m\u001b[1;33m.\u001b[0m\u001b[0mappend\u001b[0m\u001b[1;33m(\u001b[0m\u001b[0mcol\u001b[0m\u001b[1;33m)\u001b[0m\u001b[1;33m\u001b[0m\u001b[1;33m\u001b[0m\u001b[0m\n",
      "\u001b[1;31mNameError\u001b[0m: name 'form_answers' is not defined"
     ]
    }
   ],
   "source": [
    "# get dummies on categorical columns\n",
    "cat_columns=[]\n",
    "for col in form_answers.columns:\n",
    "    if form_answers[col].dtype=='object':\n",
    "        cat_columns.append(col)\n",
    "        \n",
    "form_dummies = pd.get_dummies(form_answers, columns=cat_columns, drop_first=False)\n",
    "\n",
    "# reindex based on X_train columns (total 80)\n",
    "form_dummies = form_dummies.reindex(columns = X_train.columns, fill_value=0)\n",
    "\n",
    "# standard scaler on all X features\n",
    "form_sc = ss.transform(form_dummies)\n",
    "\n",
    "ypred = ridge.predict(form_sc)\n",
    "\n",
    "print(f\"The estimated valuation of your house is ${round(ypred[0][0])}.\")"
   ]
  },
  {
   "cell_type": "code",
   "execution_count": null,
   "id": "2d6d7e92",
   "metadata": {},
   "outputs": [],
   "source": []
  }
 ],
 "metadata": {
  "kernelspec": {
   "display_name": "Python 3 (ipykernel)",
   "language": "python",
   "name": "python3"
  },
  "language_info": {
   "codemirror_mode": {
    "name": "ipython",
    "version": 3
   },
   "file_extension": ".py",
   "mimetype": "text/x-python",
   "name": "python",
   "nbconvert_exporter": "python",
   "pygments_lexer": "ipython3",
   "version": "3.9.7"
  }
 },
 "nbformat": 4,
 "nbformat_minor": 5
}
