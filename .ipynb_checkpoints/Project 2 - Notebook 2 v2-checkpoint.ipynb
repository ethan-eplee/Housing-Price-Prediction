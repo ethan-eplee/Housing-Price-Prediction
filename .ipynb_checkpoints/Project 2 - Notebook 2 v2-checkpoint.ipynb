{
 "cells": [
  {
   "cell_type": "markdown",
   "id": "8707824c",
   "metadata": {},
   "source": [
    "## Import libraries"
   ]
  },
  {
   "cell_type": "code",
   "execution_count": 1,
   "id": "460852bd",
   "metadata": {},
   "outputs": [],
   "source": [
    "import numpy as np\n",
    "import pandas as pd\n",
    "import matplotlib.pyplot as plt\n",
    "import seaborn as sns\n",
    "import missingno as msno\n",
    "import warnings\n",
    "warnings.filterwarnings('ignore')\n",
    "\n",
    "from sklearn.linear_model import LinearRegression, Ridge, Lasso, ElasticNet\n",
    "from sklearn.preprocessing import StandardScaler, PolynomialFeatures\n",
    "from sklearn.model_selection import train_test_split, cross_val_score, GridSearchCV\n",
    "from sklearn.metrics import mean_squared_error\n",
    "from sklearn.pipeline import Pipeline\n",
    "\n",
    "from statsmodels.stats.outliers_influence import variance_inflation_factor\n",
    "from scipy.stats import norm"
   ]
  },
  {
   "cell_type": "markdown",
   "id": "23baf9eb",
   "metadata": {},
   "source": [
    "## Preprocessing file\n",
    "### To clean up train and test datasets based on EDA done in previous notebook"
   ]
  },
  {
   "cell_type": "code",
   "execution_count": 2,
   "id": "918439fd",
   "metadata": {},
   "outputs": [],
   "source": [
    "train = pd.read_csv('./datasets/train.csv')\n",
    "test = pd.read_csv('./datasets/test.csv')"
   ]
  },
  {
   "cell_type": "code",
   "execution_count": 3,
   "id": "027f3e3e",
   "metadata": {},
   "outputs": [
    {
     "name": "stdout",
     "output_type": "stream",
     "text": [
      "(2051, 81)\n",
      "(878, 80)\n"
     ]
    }
   ],
   "source": [
    "print(train.shape)\n",
    "print(test.shape)"
   ]
  },
  {
   "cell_type": "code",
   "execution_count": 4,
   "id": "8cf479b4",
   "metadata": {},
   "outputs": [
    {
     "data": {
      "text/plain": [
       "Index(['1st Flr SF', '2nd Flr SF', '3Ssn Porch', 'Alley', 'Bedroom AbvGr',\n",
       "       'Bldg Type', 'Bsmt Cond', 'Bsmt Exposure', 'Bsmt Full Bath',\n",
       "       'Bsmt Half Bath', 'Bsmt Qual', 'Bsmt Unf SF', 'BsmtFin SF 1',\n",
       "       'BsmtFin SF 2', 'BsmtFin Type 1', 'BsmtFin Type 2', 'Central Air',\n",
       "       'Condition 1', 'Condition 2', 'Electrical', 'Enclosed Porch',\n",
       "       'Exter Cond', 'Exter Qual', 'Exterior 1st', 'Exterior 2nd', 'Fence',\n",
       "       'Fireplace Qu', 'Fireplaces', 'Foundation', 'Full Bath', 'Functional',\n",
       "       'Garage Area', 'Garage Cars', 'Garage Cond', 'Garage Finish',\n",
       "       'Garage Qual', 'Garage Type', 'Garage Yr Blt', 'Gr Liv Area',\n",
       "       'Half Bath', 'Heating', 'Heating QC', 'House Style', 'Id',\n",
       "       'Kitchen AbvGr', 'Kitchen Qual', 'Land Contour', 'Land Slope',\n",
       "       'Lot Area', 'Lot Config', 'Lot Frontage', 'Lot Shape',\n",
       "       'Low Qual Fin SF', 'MS SubClass', 'MS Zoning', 'Mas Vnr Area',\n",
       "       'Mas Vnr Type', 'Misc Feature', 'Misc Val', 'Mo Sold', 'Neighborhood',\n",
       "       'Open Porch SF', 'Overall Cond', 'Overall Qual', 'PID', 'Paved Drive',\n",
       "       'Pool Area', 'Pool QC', 'Roof Matl', 'Roof Style', 'Sale Type',\n",
       "       'SalePrice', 'Screen Porch', 'Street', 'TotRms AbvGrd', 'Total Bsmt SF',\n",
       "       'Utilities', 'Wood Deck SF', 'Year Built', 'Year Remod/Add', 'Yr Sold'],\n",
       "      dtype='object')"
      ]
     },
     "execution_count": 4,
     "metadata": {},
     "output_type": "execute_result"
    }
   ],
   "source": [
    "train.columns.sort_values()"
   ]
  },
  {
   "cell_type": "markdown",
   "id": "8ffc06af",
   "metadata": {},
   "source": [
    "### Check the correlation of some of the stronger predictors"
   ]
  },
  {
   "cell_type": "code",
   "execution_count": 92,
   "id": "44446e48",
   "metadata": {
    "scrolled": false
   },
   "outputs": [
    {
     "data": {
      "text/plain": [
       "SalePrice         1.000000\n",
       "Overall Qual      0.800207\n",
       "Gr Liv Area       0.697038\n",
       "Garage Area       0.650270\n",
       "Garage Cars       0.648220\n",
       "Total Bsmt SF     0.628925\n",
       "1st Flr SF        0.618486\n",
       "Year Built        0.571849\n",
       "Year Remod/Add    0.550370\n",
       "Full Bath         0.537969\n",
       "Garage Yr Blt     0.533922\n",
       "Mas Vnr Area      0.512230\n",
       "TotRms AbvGrd     0.504014\n",
       "Name: SalePrice, dtype: float64"
      ]
     },
     "execution_count": 92,
     "metadata": {},
     "output_type": "execute_result"
    }
   ],
   "source": [
    "corr_table = train.corr()['SalePrice']\n",
    "corr_table[abs(corr_table)>0.5].sort_values(ascending=False)"
   ]
  },
  {
   "cell_type": "markdown",
   "id": "bb5aea04",
   "metadata": {},
   "source": [
    "Out of the 39 numerical columns, only 6 of them have a correlation above 0.6. These columns describe the overall quality, the gross living area (includes the basement and first floor) and the size of the garage. We will try to binarize some of the categorical columns and check the correlation again, at the same time drop selected columns with a high single value."
   ]
  },
  {
   "cell_type": "markdown",
   "id": "ca80a220",
   "metadata": {},
   "source": [
    "## Create preprocessing and feature engineering function here\n",
    "- Fill null values\n",
    "- Add new columns\n",
    "- Binarize columns (1/0)\n",
    "- Change categorical columns to numerical\n",
    "- Reduce categories per feature\n",
    "- Rename any columns\n",
    "- Change numerical to categorical\n",
    "- Drop selected columns and any improbable/impossible rows"
   ]
  },
  {
   "cell_type": "code",
   "execution_count": 6,
   "id": "1fbdcf90",
   "metadata": {},
   "outputs": [],
   "source": [
    "def data_cleaning(input_df):\n",
    "    \n",
    "    # make copy of the input df\n",
    "    copy_df = input_df.copy()\n",
    "    \n",
    "    # rename columns by making it lower case and replace spaces with underscores\n",
    "    copy_df.columns = copy_df.columns.str.lower()\n",
    "    copy_df.columns = copy_df.columns.str.replace(' ','_')\n",
    "    \n",
    "    # make function to drop columns\n",
    "    def drop_column(column_list):\n",
    "        copy_df.drop(column_list, axis=1, inplace=True)\n",
    "        \n",
    "    # FILL NULL VALUES FIRST---------------------------------------------------------\n",
    "    \n",
    "    # lot_frontage\n",
    "    copy_df['lot_frontage'].fillna(0.0, inplace=True)\n",
    "        \n",
    "    # masonry veneer\n",
    "    copy_df['mas_vnr_area'].fillna(0.0, inplace=True)\n",
    "    copy_df['mas_vnr_type'].fillna('None', inplace=True)\n",
    "    \n",
    "    # basement features\n",
    "    basement_col = ['bsmt_qual', 'bsmt_cond', 'bsmt_exposure', 'bsmtfin_type_1',\\\n",
    "                    'bsmtfin_sf_1', 'bsmt_unf_sf', 'total_bsmt_sf', 'bsmt_full_bath']\n",
    "\n",
    "    for col in basement_col:\n",
    "        if copy_df[col].dtype != 'object':\n",
    "            copy_df[col].fillna(0.0, inplace=True)\n",
    "        else:\n",
    "            copy_df[col].fillna('NA', inplace=True)\n",
    "    \n",
    "    # garage features\n",
    "    garage_col = ['garage_type', 'garage_yr_blt', 'garage_finish', 'garage_cars',\\\n",
    "                  'garage_area', 'garage_qual', 'garage_cond']\n",
    "\n",
    "    for col in garage_col:\n",
    "        if copy_df[col].dtype != 'object':\n",
    "            copy_df[col].fillna(0.0, inplace=True)\n",
    "        else:\n",
    "            copy_df[col].fillna('NA', inplace=True)\n",
    "    \n",
    "    # misc features\n",
    "    copy_df['misc_feature'].fillna('NA', inplace=True)\n",
    "    \n",
    "    # fence\n",
    "    copy_df['fence'].fillna('NA', inplace=True)\n",
    "    \n",
    "    # fireplace\n",
    "    copy_df['fireplace_qu'].fillna('NA', inplace=True)\n",
    "    \n",
    "    \n",
    "    # ADD/ BINARIZE (1/0) NEW COLUMNS---------------------------------------------------------\n",
    "    \n",
    "    # add interaction term (cond_qual) as saleprice likely affected by both quality AND condition \n",
    "    copy_df['cond_qual'] = copy_df['overall_qual'] * copy_df['overall_cond']\n",
    "    \n",
    "    # change fence feature to 1/0 (have fence or no fence)\n",
    "    copy_df['have_fence'] = copy_df['fence'].apply(lambda x: 1 if x!='NA' else 0)\n",
    "    \n",
    "    # change misc feature to 1/0 (have misc feature or not)\n",
    "    copy_df['have_miscfeat'] = copy_df['misc_feature'].apply(lambda x: 1 if x!='NA' else 0)\n",
    "    \n",
    "    # add age feature to find out how old housing is when sold\n",
    "    # dont drop yr_sold as these can affect how much the houses can sell for\n",
    "    copy_df['age_sold'] = copy_df['yr_sold'] - copy_df['year_built']\n",
    "        \n",
    "    # change remod/add feature to 1/0 (1 if remod year not equal to built year)\n",
    "    for index, value in enumerate(copy_df['year_remod/add']):\n",
    "        if value == copy_df.loc[index, 'year_built']: \n",
    "            copy_df.loc[index, 'remod'] = 0\n",
    "        else:\n",
    "            copy_df.loc[index, 'remod'] = 1\n",
    "    \n",
    "    #change lot_shape to 1/0 (regular or irregular)\n",
    "    copy_df['lot_shape'] = copy_df['lot_shape'].apply(lambda x: 1 if x=='Reg' else 0)\n",
    "    copy_df.rename(columns={'lot_shape':'is_lotshape_reg'}, inplace=True)\n",
    "    \n",
    "    #change land contour to 1/0 (level/flat or sloped)\n",
    "    copy_df['land_contour'] = copy_df['land_contour'].apply(lambda x: 1 if x=='Lvl' else 0)\n",
    "    copy_df.rename(columns={'land_contour':'is_land_flat'}, inplace=True)\n",
    "    \n",
    "    # change slope feature to 1/0 (slope is gentle or not)\n",
    "    copy_df['land_slope'] = copy_df['land_slope'].apply(lambda x: 1 if x=='Gtl' else 0)\n",
    "    copy_df.rename(columns={'land_slope':'is_slope_gentle'}, inplace=True)\n",
    "    \n",
    "    # change central aircon feature to 1/0 (have air con or not)\n",
    "    copy_df['central_air'] = copy_df['central_air'].apply(lambda x: 1 if x=='Y' else 0)\n",
    "    \n",
    "    # change functional feature to 1/0 (functional or not)\n",
    "    copy_df['functional'] = copy_df['functional'].apply(lambda x: 1 if x=='Typ' else 0)\n",
    "    \n",
    "    # change paved drive to 1/0 (have paved driveway or not)\n",
    "    copy_df['paved_drive'] = copy_df['paved_drive'].apply(lambda x: 1 if x=='Y' else 0)\n",
    "    \n",
    "    # add new column deck_porch by adding the areas from these 5 columns\n",
    "    # 'wood_deck_sf','open_porch_sf','enclosed_porch','3ssn_porch','screen_porch'\n",
    "    copy_df['deck_porch'] = copy_df[['wood_deck_sf','open_porch_sf','enclosed_porch','3ssn_porch','screen_porch']].sum(axis=1)\n",
    "    \n",
    "    # add interaction term (number_baths) by adding full bath and half bath feature\n",
    "    copy_df['number_baths'] = copy_df['full_bath'] + copy_df['half_bath']\n",
    "    \n",
    "    \n",
    "    # CONVERT CATEGORICAL TO NUMERICAL---------------------------------------------------------\n",
    "    \n",
    "    # Make function to map categorical values\n",
    "    def map_cat_to_num(column_name, mapping_dict):\n",
    "        copy_df[column_name] = copy_df[column_name].map(mapping_dict)\n",
    "        \n",
    "    # Create some common dictionaries for mapping\n",
    "    \n",
    "    # create basement exposure dictionary\n",
    "    bsmt_exposure_dict = {'NA': 0,\n",
    "                          'No': 1,\n",
    "                          'Mn': 2,\n",
    "                          'Av': 3,\n",
    "                          'Gd': 4}\n",
    "    \n",
    "    # create quality mapping dictionary\n",
    "    qual_dict = {'Ex': 5,\n",
    "                 'Gd': 4,\n",
    "                 'TA': 3,\n",
    "                 'Fa': 2,\n",
    "                 'Po': 1,\n",
    "                 'NA': 0}\n",
    "    \n",
    "    # mapping new values to columns using the predefined dictionary\n",
    "    map_cat_to_num('bsmt_exposure', bsmt_exposure_dict)\n",
    "    map_cat_to_num('exter_qual', qual_dict)\n",
    "    map_cat_to_num('exter_cond', qual_dict)\n",
    "    map_cat_to_num('bsmt_qual', qual_dict)\n",
    "    map_cat_to_num('bsmt_cond', qual_dict)\n",
    "    map_cat_to_num('heating_qc', qual_dict)\n",
    "    map_cat_to_num('kitchen_qual', qual_dict)\n",
    "    map_cat_to_num('fireplace_qu', qual_dict)\n",
    "    map_cat_to_num('garage_qual', qual_dict)\n",
    "    map_cat_to_num('garage_cond', qual_dict)\n",
    "    \n",
    "    \n",
    "    # REDUCE NUMBER OF CATEGORIES OF FEATURES---------------------------------------------------------\n",
    "    \n",
    "    # roofstyle: 3 types (Gable, Hip and others)\n",
    "    copy_df['roof_style'] = \\\n",
    "    copy_df['roof_style'].apply(lambda x: 'Others' if x not in ['Gable','Hip'] else x)\n",
    "\n",
    "    # exterior: 7 types (Vinyl, Metal, Hardboard, Wood, Cement, Brick, Others)\n",
    "    # create basement exposure dictionary\n",
    "    \n",
    "    exterior_matl = {'VinylSd':'Vinyl',\n",
    "                          'MetalSd':'Metal',\n",
    "                          'HdBoard':'Hardboard',\n",
    "                          'Wd Sdng':'Wood',\n",
    "                          'Plywood':'Wood',\n",
    "                          'CemntBd':'Cement',\n",
    "                          'BrkFace':'Brick',\n",
    "                          'WdShing':'Wood',\n",
    "                          'AsbShng':'Others',\n",
    "                          'Stucco':'Others',\n",
    "                          'BrkComm':'Brick',\n",
    "                          'Stone':'Others',\n",
    "                          'CBlock':'Others',\n",
    "                          'ImStucc':'Others',\n",
    "                          'AsphShn':'Others'}\n",
    "    \n",
    "    copy_df['exterior_1st'] = copy_df['exterior_1st'].map(exterior_matl)\n",
    "    copy_df.rename(columns={'exterior_1st':'exterior'}, inplace=True)\n",
    "    \n",
    "    # foundation: 4 types (PConc, CBlock, BrkTil, Others)\n",
    "    copy_df['foundation'] = \\\n",
    "    copy_df['foundation'].apply(lambda x: 'Others' if x not in ['PConc','CBlock','BrkTil'] else x)                                                \n",
    "    \n",
    "    # garage: 4 types (Attched, Detchd, NA, Others)\n",
    "    copy_df['garage_type'] = \\\n",
    "    copy_df['garage_type'].apply(lambda x: 'Others' if x not in ['Attchd','Detchd','NA'] else x)                                                \n",
    "    \n",
    "    # sale type: 3 types (WD, New, Others)\n",
    "    copy_df['sale_type'] = \\\n",
    "    copy_df['sale_type'].apply(lambda x: 'Others' if x not in ['WD ','New'] else x)\n",
    "    \n",
    "    # masonry veneer type: 4 types(None, BrkFace, Stone, Others)\n",
    "    copy_df['mas_vnr_type'] = \\\n",
    "    copy_df['mas_vnr_type'].apply(lambda x: 'Others' if x not in ['None','BrkFace', 'Stone'] else x)\n",
    "    \n",
    "    # RENAME COLUMNS ONLY---------------------------------------------------------\n",
    "    copy_df.rename(columns={'bsmtfin_type_1':'bsmt_finish'}, inplace=True)\n",
    "       \n",
    "        \n",
    "    # CHANGE NUMERICAL TO CATEGORICAL---------------------------------------------------------\n",
    "    \n",
    "    # ms subclass\n",
    "    copy_df['ms_subclass'] = copy_df['ms_subclass'].astype(str)\n",
    "    \n",
    "     # month sold\n",
    "    copy_df['mo_sold'] = copy_df['mo_sold'].astype(str)\n",
    "    \n",
    "    # DROP SELECTED COLUMNS---------------------------------------------------------\n",
    "    \n",
    "    # these columns have a high % of a single value or high % of zeros\n",
    "    \n",
    "    columns_to_drop = ['id', 'pid', 'street', 'alley', 'utilities',\\\n",
    "                       'roof_matl', 'exterior_2nd',\\\n",
    "                       'heating', 'electrical', 'pool_qc',\\\n",
    "                       'fireplace_qu', 'kitchen_abvgr']\n",
    "    \n",
    "    # drop time features as these have been replaced with an age feature\n",
    "    columns_to_drop.append('year_built')\n",
    "    columns_to_drop.append('yr_sold')\n",
    "    columns_to_drop.append('garage_yr_blt')\n",
    "    \n",
    "    # remove is_land_flat feature as it is correlated to is_slope_gentle\n",
    "    columns_to_drop.append('is_land_flat')\n",
    "    \n",
    "    # drop quality and condition features (leaving only overall condition and quality)\n",
    "    columns_to_drop.append('overall_cond')\n",
    "    columns_to_drop.append('overall_qual')\n",
    "    columns_to_drop.append('garage_cond')\n",
    "    columns_to_drop.append('garage_qual')\n",
    "    columns_to_drop.append('bsmt_cond')\n",
    "    columns_to_drop.append('bsmt_qual')\n",
    "    columns_to_drop.append('exter_qual')\n",
    "    columns_to_drop.append('exter_cond')\n",
    "    columns_to_drop.append('kitchen_qual')\n",
    "    columns_to_drop.append('functional')\n",
    "    columns_to_drop.append('condition_1')\n",
    "    columns_to_drop.append('condition_2')\n",
    "    columns_to_drop.append('heating_qc')\n",
    "    \n",
    "    # drop some bsmt features that are poor predictors of saleprice\n",
    "    columns_to_drop.append('bsmtfin_type_2')\n",
    "    columns_to_drop.append('bsmtfin_sf_1')\n",
    "    columns_to_drop.append('bsmtfin_sf_2')\n",
    "    columns_to_drop.append('bsmt_unf_sf')\n",
    "    columns_to_drop.append('low_qual_fin_sf')\n",
    "    columns_to_drop.append('bsmt_half_bath')\n",
    "    \n",
    "    # drop garage features (garage_cars and garage_area highly correlated)\n",
    "    columns_to_drop.append('garage_cars')\n",
    "    \n",
    "    # drop 1st_flr_sf, 2nd_flr_sf, t since these are highly correlated to gr_liv_area\n",
    "    columns_to_drop.append('1st_flr_sf')\n",
    "    columns_to_drop.append('2nd_flr_sf')\n",
    "    columns_to_drop.append('totrms_abvgrd')\n",
    "    columns_to_drop.append('bedroom_abvgr')\n",
    "    \n",
    "    columns_to_drop_after_changing = ['fence', 'misc_feature', 'year_remod/add',\\\n",
    "                                      'wood_deck_sf','open_porch_sf','enclosed_porch','3ssn_porch','screen_porch',\\\n",
    "                                      'full_bath', 'half_bath']\n",
    "    \n",
    "    drop_column(columns_to_drop)\n",
    "    drop_column(columns_to_drop_after_changing)\n",
    "    \n",
    "    \n",
    "    # DROP IMPROBABLE/ IMPOSSIBLE ROWS---------------------------------------------------------\n",
    "    \n",
    "    # drop rows whose age sold is less than 0\n",
    "    copy_df.drop(copy_df[copy_df['age_sold']<0].index, inplace=True)\n",
    "    \n",
    "\n",
    "    # FINALLY RETURN THE PROCESSED COPY OF THE DF\n",
    "    return copy_df"
   ]
  },
  {
   "cell_type": "markdown",
   "id": "319d45f8",
   "metadata": {},
   "source": [
    "## Check cleanliness of dataset after preprocessing"
   ]
  },
  {
   "cell_type": "code",
   "execution_count": 7,
   "id": "8bc9230b",
   "metadata": {
    "scrolled": false
   },
   "outputs": [
    {
     "name": "stdout",
     "output_type": "stream",
     "text": [
      "(2050, 38)\n"
     ]
    },
    {
     "data": {
      "text/html": [
       "<div>\n",
       "<style scoped>\n",
       "    .dataframe tbody tr th:only-of-type {\n",
       "        vertical-align: middle;\n",
       "    }\n",
       "\n",
       "    .dataframe tbody tr th {\n",
       "        vertical-align: top;\n",
       "    }\n",
       "\n",
       "    .dataframe thead th {\n",
       "        text-align: right;\n",
       "    }\n",
       "</style>\n",
       "<table border=\"1\" class=\"dataframe\">\n",
       "  <thead>\n",
       "    <tr style=\"text-align: right;\">\n",
       "      <th></th>\n",
       "      <th>ms_subclass</th>\n",
       "      <th>ms_zoning</th>\n",
       "      <th>lot_frontage</th>\n",
       "      <th>lot_area</th>\n",
       "      <th>is_lotshape_reg</th>\n",
       "      <th>lot_config</th>\n",
       "      <th>is_slope_gentle</th>\n",
       "      <th>neighborhood</th>\n",
       "      <th>bldg_type</th>\n",
       "      <th>house_style</th>\n",
       "      <th>...</th>\n",
       "      <th>mo_sold</th>\n",
       "      <th>sale_type</th>\n",
       "      <th>saleprice</th>\n",
       "      <th>cond_qual</th>\n",
       "      <th>have_fence</th>\n",
       "      <th>have_miscfeat</th>\n",
       "      <th>age_sold</th>\n",
       "      <th>remod</th>\n",
       "      <th>deck_porch</th>\n",
       "      <th>number_baths</th>\n",
       "    </tr>\n",
       "  </thead>\n",
       "  <tbody>\n",
       "    <tr>\n",
       "      <th>0</th>\n",
       "      <td>60</td>\n",
       "      <td>RL</td>\n",
       "      <td>0.0</td>\n",
       "      <td>13517</td>\n",
       "      <td>0</td>\n",
       "      <td>CulDSac</td>\n",
       "      <td>1</td>\n",
       "      <td>Sawyer</td>\n",
       "      <td>1Fam</td>\n",
       "      <td>2Story</td>\n",
       "      <td>...</td>\n",
       "      <td>3</td>\n",
       "      <td>WD</td>\n",
       "      <td>130500</td>\n",
       "      <td>48</td>\n",
       "      <td>0</td>\n",
       "      <td>0</td>\n",
       "      <td>34</td>\n",
       "      <td>1.0</td>\n",
       "      <td>44</td>\n",
       "      <td>3</td>\n",
       "    </tr>\n",
       "    <tr>\n",
       "      <th>1</th>\n",
       "      <td>60</td>\n",
       "      <td>RL</td>\n",
       "      <td>43.0</td>\n",
       "      <td>11492</td>\n",
       "      <td>0</td>\n",
       "      <td>CulDSac</td>\n",
       "      <td>1</td>\n",
       "      <td>SawyerW</td>\n",
       "      <td>1Fam</td>\n",
       "      <td>2Story</td>\n",
       "      <td>...</td>\n",
       "      <td>4</td>\n",
       "      <td>WD</td>\n",
       "      <td>220000</td>\n",
       "      <td>35</td>\n",
       "      <td>0</td>\n",
       "      <td>0</td>\n",
       "      <td>13</td>\n",
       "      <td>1.0</td>\n",
       "      <td>74</td>\n",
       "      <td>3</td>\n",
       "    </tr>\n",
       "    <tr>\n",
       "      <th>2</th>\n",
       "      <td>20</td>\n",
       "      <td>RL</td>\n",
       "      <td>68.0</td>\n",
       "      <td>7922</td>\n",
       "      <td>1</td>\n",
       "      <td>Inside</td>\n",
       "      <td>1</td>\n",
       "      <td>NAmes</td>\n",
       "      <td>1Fam</td>\n",
       "      <td>1Story</td>\n",
       "      <td>...</td>\n",
       "      <td>1</td>\n",
       "      <td>WD</td>\n",
       "      <td>109000</td>\n",
       "      <td>35</td>\n",
       "      <td>0</td>\n",
       "      <td>0</td>\n",
       "      <td>57</td>\n",
       "      <td>1.0</td>\n",
       "      <td>52</td>\n",
       "      <td>1</td>\n",
       "    </tr>\n",
       "    <tr>\n",
       "      <th>3</th>\n",
       "      <td>60</td>\n",
       "      <td>RL</td>\n",
       "      <td>73.0</td>\n",
       "      <td>9802</td>\n",
       "      <td>1</td>\n",
       "      <td>Inside</td>\n",
       "      <td>1</td>\n",
       "      <td>Timber</td>\n",
       "      <td>1Fam</td>\n",
       "      <td>2Story</td>\n",
       "      <td>...</td>\n",
       "      <td>4</td>\n",
       "      <td>WD</td>\n",
       "      <td>174000</td>\n",
       "      <td>25</td>\n",
       "      <td>0</td>\n",
       "      <td>0</td>\n",
       "      <td>4</td>\n",
       "      <td>1.0</td>\n",
       "      <td>100</td>\n",
       "      <td>3</td>\n",
       "    </tr>\n",
       "    <tr>\n",
       "      <th>4</th>\n",
       "      <td>50</td>\n",
       "      <td>RL</td>\n",
       "      <td>82.0</td>\n",
       "      <td>14235</td>\n",
       "      <td>0</td>\n",
       "      <td>Inside</td>\n",
       "      <td>1</td>\n",
       "      <td>SawyerW</td>\n",
       "      <td>1Fam</td>\n",
       "      <td>1.5Fin</td>\n",
       "      <td>...</td>\n",
       "      <td>3</td>\n",
       "      <td>WD</td>\n",
       "      <td>138500</td>\n",
       "      <td>48</td>\n",
       "      <td>0</td>\n",
       "      <td>0</td>\n",
       "      <td>110</td>\n",
       "      <td>1.0</td>\n",
       "      <td>59</td>\n",
       "      <td>2</td>\n",
       "    </tr>\n",
       "  </tbody>\n",
       "</table>\n",
       "<p>5 rows × 38 columns</p>\n",
       "</div>"
      ],
      "text/plain": [
       "  ms_subclass ms_zoning  lot_frontage  lot_area  is_lotshape_reg lot_config  \\\n",
       "0          60        RL           0.0     13517                0    CulDSac   \n",
       "1          60        RL          43.0     11492                0    CulDSac   \n",
       "2          20        RL          68.0      7922                1     Inside   \n",
       "3          60        RL          73.0      9802                1     Inside   \n",
       "4          50        RL          82.0     14235                0     Inside   \n",
       "\n",
       "   is_slope_gentle neighborhood bldg_type house_style  ... mo_sold sale_type  \\\n",
       "0                1       Sawyer      1Fam      2Story  ...       3       WD    \n",
       "1                1      SawyerW      1Fam      2Story  ...       4       WD    \n",
       "2                1        NAmes      1Fam      1Story  ...       1       WD    \n",
       "3                1       Timber      1Fam      2Story  ...       4       WD    \n",
       "4                1      SawyerW      1Fam      1.5Fin  ...       3       WD    \n",
       "\n",
       "  saleprice  cond_qual have_fence  have_miscfeat age_sold  remod  deck_porch  \\\n",
       "0    130500         48          0              0       34    1.0          44   \n",
       "1    220000         35          0              0       13    1.0          74   \n",
       "2    109000         35          0              0       57    1.0          52   \n",
       "3    174000         25          0              0        4    1.0         100   \n",
       "4    138500         48          0              0      110    1.0          59   \n",
       "\n",
       "   number_baths  \n",
       "0             3  \n",
       "1             3  \n",
       "2             1  \n",
       "3             3  \n",
       "4             2  \n",
       "\n",
       "[5 rows x 38 columns]"
      ]
     },
     "execution_count": 7,
     "metadata": {},
     "output_type": "execute_result"
    }
   ],
   "source": [
    "train_cleaned = data_cleaning(train)\n",
    "print(train_cleaned.shape)\n",
    "train_cleaned.head()"
   ]
  },
  {
   "cell_type": "markdown",
   "id": "0b0867e6",
   "metadata": {},
   "source": [
    "### Any more columns to be dropped or cleaned?"
   ]
  },
  {
   "cell_type": "code",
   "execution_count": 8,
   "id": "ee745435",
   "metadata": {
    "scrolled": false
   },
   "outputs": [
    {
     "data": {
      "text/plain": [
       "Index(['age_sold', 'bldg_type', 'bsmt_exposure', 'bsmt_finish',\n",
       "       'bsmt_full_bath', 'central_air', 'cond_qual', 'deck_porch', 'exterior',\n",
       "       'fireplaces', 'foundation', 'garage_area', 'garage_finish',\n",
       "       'garage_type', 'gr_liv_area', 'have_fence', 'have_miscfeat',\n",
       "       'house_style', 'is_lotshape_reg', 'is_slope_gentle', 'lot_area',\n",
       "       'lot_config', 'lot_frontage', 'mas_vnr_area', 'mas_vnr_type',\n",
       "       'misc_val', 'mo_sold', 'ms_subclass', 'ms_zoning', 'neighborhood',\n",
       "       'number_baths', 'paved_drive', 'pool_area', 'remod', 'roof_style',\n",
       "       'sale_type', 'saleprice', 'total_bsmt_sf'],\n",
       "      dtype='object')"
      ]
     },
     "execution_count": 8,
     "metadata": {},
     "output_type": "execute_result"
    }
   ],
   "source": [
    "train_cleaned.columns.sort_values()"
   ]
  },
  {
   "cell_type": "code",
   "execution_count": 9,
   "id": "c89711f4",
   "metadata": {
    "scrolled": true
   },
   "outputs": [
    {
     "data": {
      "text/plain": [
       "['total_bsmt_sf', 'gr_liv_area', 'garage_area']"
      ]
     },
     "execution_count": 9,
     "metadata": {},
     "output_type": "execute_result"
    }
   ],
   "source": [
    "df_corr = train_cleaned.corr()\n",
    "top_corr_features = list(df_corr[(df_corr['saleprice']>0.6)&(df_corr['saleprice']!=1)].index)\n",
    "top_corr_features"
   ]
  },
  {
   "cell_type": "markdown",
   "id": "771009d0",
   "metadata": {},
   "source": [
    "### Checking collinearity between features"
   ]
  },
  {
   "cell_type": "code",
   "execution_count": 10,
   "id": "1e9db947",
   "metadata": {},
   "outputs": [],
   "source": [
    "# Check for collinearity between features using VIF (Variance Inflation Factor)\n",
    "# If higher than 10, considered high correlation with other independent variables\n",
    "\n",
    "def vif_cal(df):\n",
    "    vif_data = pd.DataFrame()\n",
    "    features_list = df.select_dtypes(include = ['int64', 'float64']).columns\n",
    "    \n",
    "    # create a feature column in df to show feature name\n",
    "    vif_data['feature'] = features_list\n",
    "    \n",
    "    # create a VIF column in df to show VIF\n",
    "    vif_data['VIF'] = [variance_inflation_factor(df[features_list].values, i)\\\n",
    "                       for i in range(len(features_list))]\n",
    "    \n",
    "    return vif_data[(vif_data['VIF']>10) & (vif_data['feature']!='saleprice')]"
   ]
  },
  {
   "cell_type": "code",
   "execution_count": 11,
   "id": "068ad297",
   "metadata": {},
   "outputs": [
    {
     "data": {
      "text/plain": [
       "saleprice        1.000000\n",
       "gr_liv_area      0.705882\n",
       "garage_area      0.651429\n",
       "total_bsmt_sf    0.641913\n",
       "cond_qual        0.565638\n",
       "number_baths     0.547971\n",
       "mas_vnr_area     0.508684\n",
       "age_sold        -0.572074\n",
       "Name: saleprice, dtype: float64"
      ]
     },
     "execution_count": 11,
     "metadata": {},
     "output_type": "execute_result"
    }
   ],
   "source": [
    "corr_table = train_cleaned.corr()['saleprice']\n",
    "corr_table[abs(corr_table)>0.5].sort_values(ascending=False)"
   ]
  },
  {
   "cell_type": "code",
   "execution_count": 12,
   "id": "60c7ea4f",
   "metadata": {
    "scrolled": false
   },
   "outputs": [
    {
     "data": {
      "text/html": [
       "<div>\n",
       "<style scoped>\n",
       "    .dataframe tbody tr th:only-of-type {\n",
       "        vertical-align: middle;\n",
       "    }\n",
       "\n",
       "    .dataframe tbody tr th {\n",
       "        vertical-align: top;\n",
       "    }\n",
       "\n",
       "    .dataframe thead th {\n",
       "        text-align: right;\n",
       "    }\n",
       "</style>\n",
       "<table border=\"1\" class=\"dataframe\">\n",
       "  <thead>\n",
       "    <tr style=\"text-align: right;\">\n",
       "      <th></th>\n",
       "      <th>feature</th>\n",
       "      <th>VIF</th>\n",
       "    </tr>\n",
       "  </thead>\n",
       "  <tbody>\n",
       "    <tr>\n",
       "      <th>8</th>\n",
       "      <td>gr_liv_area</td>\n",
       "      <td>43.288534</td>\n",
       "    </tr>\n",
       "    <tr>\n",
       "      <th>16</th>\n",
       "      <td>cond_qual</td>\n",
       "      <td>24.747423</td>\n",
       "    </tr>\n",
       "    <tr>\n",
       "      <th>22</th>\n",
       "      <td>number_baths</td>\n",
       "      <td>20.057756</td>\n",
       "    </tr>\n",
       "    <tr>\n",
       "      <th>7</th>\n",
       "      <td>central_air</td>\n",
       "      <td>17.557029</td>\n",
       "    </tr>\n",
       "    <tr>\n",
       "      <th>3</th>\n",
       "      <td>is_slope_gentle</td>\n",
       "      <td>17.359318</td>\n",
       "    </tr>\n",
       "    <tr>\n",
       "      <th>6</th>\n",
       "      <td>total_bsmt_sf</td>\n",
       "      <td>13.849302</td>\n",
       "    </tr>\n",
       "    <tr>\n",
       "      <th>12</th>\n",
       "      <td>paved_drive</td>\n",
       "      <td>13.327836</td>\n",
       "    </tr>\n",
       "    <tr>\n",
       "      <th>11</th>\n",
       "      <td>garage_area</td>\n",
       "      <td>11.049214</td>\n",
       "    </tr>\n",
       "  </tbody>\n",
       "</table>\n",
       "</div>"
      ],
      "text/plain": [
       "            feature        VIF\n",
       "8       gr_liv_area  43.288534\n",
       "16        cond_qual  24.747423\n",
       "22     number_baths  20.057756\n",
       "7       central_air  17.557029\n",
       "3   is_slope_gentle  17.359318\n",
       "6     total_bsmt_sf  13.849302\n",
       "12      paved_drive  13.327836\n",
       "11      garage_area  11.049214"
      ]
     },
     "execution_count": 12,
     "metadata": {},
     "output_type": "execute_result"
    }
   ],
   "source": [
    "vif_cal(train_cleaned).sort_values(by='VIF', ascending=False)"
   ]
  },
  {
   "cell_type": "code",
   "execution_count": 13,
   "id": "9141f87f",
   "metadata": {
    "scrolled": true
   },
   "outputs": [
    {
     "name": "stdout",
     "output_type": "stream",
     "text": [
      "(0, 1)\n"
     ]
    },
    {
     "data": {
      "text/html": [
       "<div>\n",
       "<style scoped>\n",
       "    .dataframe tbody tr th:only-of-type {\n",
       "        vertical-align: middle;\n",
       "    }\n",
       "\n",
       "    .dataframe tbody tr th {\n",
       "        vertical-align: top;\n",
       "    }\n",
       "\n",
       "    .dataframe thead th {\n",
       "        text-align: right;\n",
       "    }\n",
       "</style>\n",
       "<table border=\"1\" class=\"dataframe\">\n",
       "  <thead>\n",
       "    <tr style=\"text-align: right;\">\n",
       "      <th></th>\n",
       "      <th>nullcounts</th>\n",
       "    </tr>\n",
       "  </thead>\n",
       "  <tbody>\n",
       "  </tbody>\n",
       "</table>\n",
       "</div>"
      ],
      "text/plain": [
       "Empty DataFrame\n",
       "Columns: [nullcounts]\n",
       "Index: []"
      ]
     },
     "execution_count": 13,
     "metadata": {},
     "output_type": "execute_result"
    }
   ],
   "source": [
    "#create a null values dataframe\n",
    "dfnull = pd.DataFrame(train_cleaned.isnull().sum(), columns=['nullcounts'])\n",
    "dfnull = dfnull[dfnull['nullcounts']!=0]\n",
    "print(dfnull.shape)\n",
    "dfnull.sort_values('nullcounts', ascending=False)"
   ]
  },
  {
   "cell_type": "markdown",
   "id": "900fc219",
   "metadata": {},
   "source": [
    "Good, all the null values are filled!"
   ]
  },
  {
   "cell_type": "code",
   "execution_count": 14,
   "id": "b2f73b73",
   "metadata": {},
   "outputs": [
    {
     "name": "stdout",
     "output_type": "stream",
     "text": [
      "There are a total of 38 columns, 23 numerical columns and 15 categorical columns.\n"
     ]
    }
   ],
   "source": [
    "#create a numerical and a categorical list\n",
    "num_list = []\n",
    "cat_list = []\n",
    "for col in train_cleaned.columns:\n",
    "    if train_cleaned[col].dtype == 'object': cat_list.append(col)\n",
    "    else: num_list.append(col)\n",
    "        \n",
    "print(f'There are a total of {len(train_cleaned.columns)} columns, \\\n",
    "{len(num_list)} numerical columns and {len(cat_list)} categorical columns.')"
   ]
  },
  {
   "cell_type": "code",
   "execution_count": 15,
   "id": "524ba851",
   "metadata": {
    "scrolled": false
   },
   "outputs": [
    {
     "data": {
      "text/html": [
       "<div>\n",
       "<style scoped>\n",
       "    .dataframe tbody tr th:only-of-type {\n",
       "        vertical-align: middle;\n",
       "    }\n",
       "\n",
       "    .dataframe tbody tr th {\n",
       "        vertical-align: top;\n",
       "    }\n",
       "\n",
       "    .dataframe thead th {\n",
       "        text-align: right;\n",
       "    }\n",
       "</style>\n",
       "<table border=\"1\" class=\"dataframe\">\n",
       "  <thead>\n",
       "    <tr style=\"text-align: right;\">\n",
       "      <th></th>\n",
       "      <th>count</th>\n",
       "      <th>mean</th>\n",
       "      <th>std</th>\n",
       "      <th>min</th>\n",
       "      <th>25%</th>\n",
       "      <th>50%</th>\n",
       "      <th>75%</th>\n",
       "      <th>max</th>\n",
       "    </tr>\n",
       "  </thead>\n",
       "  <tbody>\n",
       "    <tr>\n",
       "      <th>lot_frontage</th>\n",
       "      <td>2050.0</td>\n",
       "      <td>57.910244</td>\n",
       "      <td>33.109248</td>\n",
       "      <td>0.0</td>\n",
       "      <td>43.25</td>\n",
       "      <td>63.0</td>\n",
       "      <td>78.00</td>\n",
       "      <td>313.0</td>\n",
       "    </tr>\n",
       "    <tr>\n",
       "      <th>lot_area</th>\n",
       "      <td>2050.0</td>\n",
       "      <td>10050.952195</td>\n",
       "      <td>6713.144458</td>\n",
       "      <td>1300.0</td>\n",
       "      <td>7500.00</td>\n",
       "      <td>9417.5</td>\n",
       "      <td>11509.00</td>\n",
       "      <td>159000.0</td>\n",
       "    </tr>\n",
       "    <tr>\n",
       "      <th>is_lotshape_reg</th>\n",
       "      <td>2050.0</td>\n",
       "      <td>0.631707</td>\n",
       "      <td>0.482459</td>\n",
       "      <td>0.0</td>\n",
       "      <td>0.00</td>\n",
       "      <td>1.0</td>\n",
       "      <td>1.00</td>\n",
       "      <td>1.0</td>\n",
       "    </tr>\n",
       "    <tr>\n",
       "      <th>is_slope_gentle</th>\n",
       "      <td>2050.0</td>\n",
       "      <td>0.952195</td>\n",
       "      <td>0.213405</td>\n",
       "      <td>0.0</td>\n",
       "      <td>1.00</td>\n",
       "      <td>1.0</td>\n",
       "      <td>1.00</td>\n",
       "      <td>1.0</td>\n",
       "    </tr>\n",
       "    <tr>\n",
       "      <th>mas_vnr_area</th>\n",
       "      <td>2050.0</td>\n",
       "      <td>98.077561</td>\n",
       "      <td>172.584871</td>\n",
       "      <td>0.0</td>\n",
       "      <td>0.00</td>\n",
       "      <td>0.0</td>\n",
       "      <td>158.00</td>\n",
       "      <td>1600.0</td>\n",
       "    </tr>\n",
       "    <tr>\n",
       "      <th>bsmt_exposure</th>\n",
       "      <td>2050.0</td>\n",
       "      <td>1.627805</td>\n",
       "      <td>1.078431</td>\n",
       "      <td>0.0</td>\n",
       "      <td>1.00</td>\n",
       "      <td>1.0</td>\n",
       "      <td>2.00</td>\n",
       "      <td>4.0</td>\n",
       "    </tr>\n",
       "    <tr>\n",
       "      <th>total_bsmt_sf</th>\n",
       "      <td>2050.0</td>\n",
       "      <td>1055.502439</td>\n",
       "      <td>441.085277</td>\n",
       "      <td>0.0</td>\n",
       "      <td>793.00</td>\n",
       "      <td>994.0</td>\n",
       "      <td>1317.75</td>\n",
       "      <td>6110.0</td>\n",
       "    </tr>\n",
       "    <tr>\n",
       "      <th>central_air</th>\n",
       "      <td>2050.0</td>\n",
       "      <td>0.931220</td>\n",
       "      <td>0.253142</td>\n",
       "      <td>0.0</td>\n",
       "      <td>1.00</td>\n",
       "      <td>1.0</td>\n",
       "      <td>1.00</td>\n",
       "      <td>1.0</td>\n",
       "    </tr>\n",
       "    <tr>\n",
       "      <th>gr_liv_area</th>\n",
       "      <td>2050.0</td>\n",
       "      <td>1497.576098</td>\n",
       "      <td>494.223989</td>\n",
       "      <td>334.0</td>\n",
       "      <td>1128.50</td>\n",
       "      <td>1444.0</td>\n",
       "      <td>1728.00</td>\n",
       "      <td>5642.0</td>\n",
       "    </tr>\n",
       "    <tr>\n",
       "      <th>bsmt_full_bath</th>\n",
       "      <td>2050.0</td>\n",
       "      <td>0.426829</td>\n",
       "      <td>0.522563</td>\n",
       "      <td>0.0</td>\n",
       "      <td>0.00</td>\n",
       "      <td>0.0</td>\n",
       "      <td>1.00</td>\n",
       "      <td>3.0</td>\n",
       "    </tr>\n",
       "    <tr>\n",
       "      <th>fireplaces</th>\n",
       "      <td>2050.0</td>\n",
       "      <td>0.590244</td>\n",
       "      <td>0.637913</td>\n",
       "      <td>0.0</td>\n",
       "      <td>0.00</td>\n",
       "      <td>1.0</td>\n",
       "      <td>1.00</td>\n",
       "      <td>4.0</td>\n",
       "    </tr>\n",
       "    <tr>\n",
       "      <th>garage_area</th>\n",
       "      <td>2050.0</td>\n",
       "      <td>473.108780</td>\n",
       "      <td>215.664156</td>\n",
       "      <td>0.0</td>\n",
       "      <td>319.00</td>\n",
       "      <td>480.0</td>\n",
       "      <td>576.00</td>\n",
       "      <td>1418.0</td>\n",
       "    </tr>\n",
       "    <tr>\n",
       "      <th>paved_drive</th>\n",
       "      <td>2050.0</td>\n",
       "      <td>0.907317</td>\n",
       "      <td>0.290058</td>\n",
       "      <td>0.0</td>\n",
       "      <td>1.00</td>\n",
       "      <td>1.0</td>\n",
       "      <td>1.00</td>\n",
       "      <td>1.0</td>\n",
       "    </tr>\n",
       "    <tr>\n",
       "      <th>pool_area</th>\n",
       "      <td>2050.0</td>\n",
       "      <td>2.399024</td>\n",
       "      <td>37.791752</td>\n",
       "      <td>0.0</td>\n",
       "      <td>0.00</td>\n",
       "      <td>0.0</td>\n",
       "      <td>0.00</td>\n",
       "      <td>800.0</td>\n",
       "    </tr>\n",
       "    <tr>\n",
       "      <th>misc_val</th>\n",
       "      <td>2050.0</td>\n",
       "      <td>43.306829</td>\n",
       "      <td>434.376361</td>\n",
       "      <td>0.0</td>\n",
       "      <td>0.00</td>\n",
       "      <td>0.0</td>\n",
       "      <td>0.00</td>\n",
       "      <td>12500.0</td>\n",
       "    </tr>\n",
       "    <tr>\n",
       "      <th>saleprice</th>\n",
       "      <td>2050.0</td>\n",
       "      <td>181468.540488</td>\n",
       "      <td>79277.980360</td>\n",
       "      <td>12789.0</td>\n",
       "      <td>129812.50</td>\n",
       "      <td>162500.0</td>\n",
       "      <td>214000.00</td>\n",
       "      <td>611657.0</td>\n",
       "    </tr>\n",
       "    <tr>\n",
       "      <th>cond_qual</th>\n",
       "      <td>2050.0</td>\n",
       "      <td>33.858537</td>\n",
       "      <td>9.251251</td>\n",
       "      <td>1.0</td>\n",
       "      <td>30.00</td>\n",
       "      <td>35.0</td>\n",
       "      <td>40.00</td>\n",
       "      <td>90.0</td>\n",
       "    </tr>\n",
       "    <tr>\n",
       "      <th>have_fence</th>\n",
       "      <td>2050.0</td>\n",
       "      <td>0.195122</td>\n",
       "      <td>0.396391</td>\n",
       "      <td>0.0</td>\n",
       "      <td>0.00</td>\n",
       "      <td>0.0</td>\n",
       "      <td>0.00</td>\n",
       "      <td>1.0</td>\n",
       "    </tr>\n",
       "    <tr>\n",
       "      <th>have_miscfeat</th>\n",
       "      <td>2050.0</td>\n",
       "      <td>0.031220</td>\n",
       "      <td>0.173953</td>\n",
       "      <td>0.0</td>\n",
       "      <td>0.00</td>\n",
       "      <td>0.0</td>\n",
       "      <td>0.00</td>\n",
       "      <td>1.0</td>\n",
       "    </tr>\n",
       "    <tr>\n",
       "      <th>age_sold</th>\n",
       "      <td>2050.0</td>\n",
       "      <td>36.084878</td>\n",
       "      <td>30.207330</td>\n",
       "      <td>0.0</td>\n",
       "      <td>7.00</td>\n",
       "      <td>34.0</td>\n",
       "      <td>54.00</td>\n",
       "      <td>136.0</td>\n",
       "    </tr>\n",
       "    <tr>\n",
       "      <th>remod</th>\n",
       "      <td>2050.0</td>\n",
       "      <td>0.462927</td>\n",
       "      <td>0.498745</td>\n",
       "      <td>0.0</td>\n",
       "      <td>0.00</td>\n",
       "      <td>0.0</td>\n",
       "      <td>1.00</td>\n",
       "      <td>1.0</td>\n",
       "    </tr>\n",
       "    <tr>\n",
       "      <th>deck_porch</th>\n",
       "      <td>2050.0</td>\n",
       "      <td>182.652195</td>\n",
       "      <td>159.058119</td>\n",
       "      <td>0.0</td>\n",
       "      <td>49.00</td>\n",
       "      <td>164.0</td>\n",
       "      <td>267.75</td>\n",
       "      <td>1424.0</td>\n",
       "    </tr>\n",
       "    <tr>\n",
       "      <th>number_baths</th>\n",
       "      <td>2050.0</td>\n",
       "      <td>1.947805</td>\n",
       "      <td>0.798185</td>\n",
       "      <td>0.0</td>\n",
       "      <td>1.00</td>\n",
       "      <td>2.0</td>\n",
       "      <td>3.00</td>\n",
       "      <td>6.0</td>\n",
       "    </tr>\n",
       "  </tbody>\n",
       "</table>\n",
       "</div>"
      ],
      "text/plain": [
       "                  count           mean           std      min        25%  \\\n",
       "lot_frontage     2050.0      57.910244     33.109248      0.0      43.25   \n",
       "lot_area         2050.0   10050.952195   6713.144458   1300.0    7500.00   \n",
       "is_lotshape_reg  2050.0       0.631707      0.482459      0.0       0.00   \n",
       "is_slope_gentle  2050.0       0.952195      0.213405      0.0       1.00   \n",
       "mas_vnr_area     2050.0      98.077561    172.584871      0.0       0.00   \n",
       "bsmt_exposure    2050.0       1.627805      1.078431      0.0       1.00   \n",
       "total_bsmt_sf    2050.0    1055.502439    441.085277      0.0     793.00   \n",
       "central_air      2050.0       0.931220      0.253142      0.0       1.00   \n",
       "gr_liv_area      2050.0    1497.576098    494.223989    334.0    1128.50   \n",
       "bsmt_full_bath   2050.0       0.426829      0.522563      0.0       0.00   \n",
       "fireplaces       2050.0       0.590244      0.637913      0.0       0.00   \n",
       "garage_area      2050.0     473.108780    215.664156      0.0     319.00   \n",
       "paved_drive      2050.0       0.907317      0.290058      0.0       1.00   \n",
       "pool_area        2050.0       2.399024     37.791752      0.0       0.00   \n",
       "misc_val         2050.0      43.306829    434.376361      0.0       0.00   \n",
       "saleprice        2050.0  181468.540488  79277.980360  12789.0  129812.50   \n",
       "cond_qual        2050.0      33.858537      9.251251      1.0      30.00   \n",
       "have_fence       2050.0       0.195122      0.396391      0.0       0.00   \n",
       "have_miscfeat    2050.0       0.031220      0.173953      0.0       0.00   \n",
       "age_sold         2050.0      36.084878     30.207330      0.0       7.00   \n",
       "remod            2050.0       0.462927      0.498745      0.0       0.00   \n",
       "deck_porch       2050.0     182.652195    159.058119      0.0      49.00   \n",
       "number_baths     2050.0       1.947805      0.798185      0.0       1.00   \n",
       "\n",
       "                      50%        75%       max  \n",
       "lot_frontage         63.0      78.00     313.0  \n",
       "lot_area           9417.5   11509.00  159000.0  \n",
       "is_lotshape_reg       1.0       1.00       1.0  \n",
       "is_slope_gentle       1.0       1.00       1.0  \n",
       "mas_vnr_area          0.0     158.00    1600.0  \n",
       "bsmt_exposure         1.0       2.00       4.0  \n",
       "total_bsmt_sf       994.0    1317.75    6110.0  \n",
       "central_air           1.0       1.00       1.0  \n",
       "gr_liv_area        1444.0    1728.00    5642.0  \n",
       "bsmt_full_bath        0.0       1.00       3.0  \n",
       "fireplaces            1.0       1.00       4.0  \n",
       "garage_area         480.0     576.00    1418.0  \n",
       "paved_drive           1.0       1.00       1.0  \n",
       "pool_area             0.0       0.00     800.0  \n",
       "misc_val              0.0       0.00   12500.0  \n",
       "saleprice        162500.0  214000.00  611657.0  \n",
       "cond_qual            35.0      40.00      90.0  \n",
       "have_fence            0.0       0.00       1.0  \n",
       "have_miscfeat         0.0       0.00       1.0  \n",
       "age_sold             34.0      54.00     136.0  \n",
       "remod                 0.0       1.00       1.0  \n",
       "deck_porch          164.0     267.75    1424.0  \n",
       "number_baths          2.0       3.00       6.0  "
      ]
     },
     "execution_count": 15,
     "metadata": {},
     "output_type": "execute_result"
    }
   ],
   "source": [
    "# recheck to see if there are any funny data\n",
    "train_cleaned.describe().T"
   ]
  },
  {
   "cell_type": "code",
   "execution_count": 16,
   "id": "bc664a6a",
   "metadata": {
    "scrolled": true
   },
   "outputs": [
    {
     "data": {
      "text/plain": [
       "saleprice        1.000000\n",
       "gr_liv_area      0.705882\n",
       "garage_area      0.651429\n",
       "total_bsmt_sf    0.641913\n",
       "cond_qual        0.565638\n",
       "number_baths     0.547971\n",
       "mas_vnr_area     0.508684\n",
       "age_sold        -0.572074\n",
       "Name: saleprice, dtype: float64"
      ]
     },
     "execution_count": 16,
     "metadata": {},
     "output_type": "execute_result"
    }
   ],
   "source": [
    "corr_table = train_cleaned.corr()['saleprice']\n",
    "corr_table[abs(corr_table)>0.5].sort_values(ascending=False)"
   ]
  },
  {
   "cell_type": "markdown",
   "id": "c2756fc9",
   "metadata": {},
   "source": [
    "It would seem like the quality and space in the house are important predictors of the sale price."
   ]
  },
  {
   "cell_type": "markdown",
   "id": "3b4d332c",
   "metadata": {},
   "source": [
    "### Heatmap of the correlations of different features"
   ]
  },
  {
   "cell_type": "code",
   "execution_count": 17,
   "id": "a447bf32",
   "metadata": {
    "scrolled": true
   },
   "outputs": [],
   "source": [
    "# plt.figure(figsize=(16,16))\n",
    "# sns.heatmap(train_cleaned.corr(), annot=True, vmin=-1, vmax=1, cmap='coolwarm');"
   ]
  },
  {
   "cell_type": "markdown",
   "id": "e6538a06",
   "metadata": {},
   "source": [
    "### Plot graphs to check for outliers"
   ]
  },
  {
   "cell_type": "code",
   "execution_count": 18,
   "id": "20e64c15",
   "metadata": {},
   "outputs": [],
   "source": [
    "# plot scatterplots to see correlations between sale price and numerical features\n",
    "def subplot_scatter(df, col_list):\n",
    "    \n",
    "    # number of rows determined by length of list, 4 columns in plot\n",
    "    ncols = 4\n",
    "    nrows =  int(np.ceil(len(col_list)/ncols))\n",
    "    \n",
    "    #create subplot\n",
    "    fig, ax = plt.subplots(nrows=nrows, ncols=ncols, figsize=(15, nrows*3.5))\n",
    "    ax = ax.ravel()\n",
    "    \n",
    "    #dist plot settings\n",
    "    for i, col in enumerate(col_list):\n",
    "        sns.regplot(y=df.saleprice, x=df[col], ax=ax[i],\\\n",
    "                    scatter_kws={'facecolors':'skyblue','edgecolor':'skyblue'},\\\n",
    "                    line_kws = {'color':'grey'})                       #create dist\n",
    "        ax[i].set_title(f'{col} vs saleprice', fontsize=14)            #set title\n",
    "        ax[i].tick_params(labelsize=12)                                #set label size\n",
    "        ax[i].set_xlabel(col, fontsize=14)                             #set x-label name\n",
    "        ax[i].set_ylabel('saleprice', fontsize=14)                     #set y-label name\n",
    "    plt.tight_layout()"
   ]
  },
  {
   "cell_type": "code",
   "execution_count": 19,
   "id": "3d97a9a9",
   "metadata": {
    "scrolled": false
   },
   "outputs": [],
   "source": [
    "# subplot_scatter(train_cleaned, num_list)"
   ]
  },
  {
   "cell_type": "code",
   "execution_count": 20,
   "id": "786da1f4",
   "metadata": {},
   "outputs": [],
   "source": [
    "# plot boxplots to see pattern between sale price and categorical feature\n",
    "def subplot_boxplot(df, col_list):\n",
    "    \n",
    "    # number of rows determined by length of list, 4 columns in plot\n",
    "    ncols = 4\n",
    "    nrows =  int(np.ceil(len(col_list)/ncols))\n",
    "    \n",
    "    #create subplot\n",
    "    fig, ax = plt.subplots(nrows=nrows, ncols=ncols, figsize=(15, nrows*3.5))\n",
    "    ax = ax.ravel()\n",
    "    \n",
    "    #dist plot settings\n",
    "    for i, col in enumerate(col_list):\n",
    "        sns.boxplot(y=df.saleprice, x=df[col], ax=ax[i], width=0.3,\\\n",
    "                    color='skyblue')                                   #create dist\n",
    "        ax[i].set_title(f'{col} vs saleprice', fontsize=14)            #set title\n",
    "        ax[i].tick_params(labelsize=12)                                #set label size\n",
    "        ax[i].set_xlabel(col, fontsize=14)                             #set x-label name\n",
    "        ax[i].set_ylabel('saleprice', fontsize=14)                     #set y-label name\n",
    "    plt.tight_layout()"
   ]
  },
  {
   "cell_type": "code",
   "execution_count": 21,
   "id": "4cd46aaa",
   "metadata": {},
   "outputs": [],
   "source": [
    "#subplot_boxplot(train_cleaned, cat_list)"
   ]
  },
  {
   "cell_type": "markdown",
   "id": "e85995dd",
   "metadata": {},
   "source": [
    "### Get dummies on categorical columns"
   ]
  },
  {
   "cell_type": "code",
   "execution_count": 22,
   "id": "61adf37f",
   "metadata": {},
   "outputs": [
    {
     "data": {
      "text/plain": [
       "['ms_subclass',\n",
       " 'ms_zoning',\n",
       " 'lot_config',\n",
       " 'neighborhood',\n",
       " 'bldg_type',\n",
       " 'house_style',\n",
       " 'roof_style',\n",
       " 'exterior',\n",
       " 'mas_vnr_type',\n",
       " 'foundation',\n",
       " 'bsmt_finish',\n",
       " 'garage_type',\n",
       " 'garage_finish',\n",
       " 'mo_sold',\n",
       " 'sale_type']"
      ]
     },
     "execution_count": 22,
     "metadata": {},
     "output_type": "execute_result"
    }
   ],
   "source": [
    "cat_columns=[]\n",
    "for col in train_cleaned.columns:\n",
    "    if train_cleaned[col].dtype=='object':\n",
    "        cat_columns.append(col)\n",
    "cat_columns"
   ]
  },
  {
   "cell_type": "code",
   "execution_count": 23,
   "id": "2335bf28",
   "metadata": {},
   "outputs": [],
   "source": [
    "train_final = pd.get_dummies(train_cleaned, columns=cat_columns, drop_first=True)"
   ]
  },
  {
   "cell_type": "code",
   "execution_count": 24,
   "id": "47756d8f",
   "metadata": {},
   "outputs": [
    {
     "data": {
      "text/html": [
       "<div>\n",
       "<style scoped>\n",
       "    .dataframe tbody tr th:only-of-type {\n",
       "        vertical-align: middle;\n",
       "    }\n",
       "\n",
       "    .dataframe tbody tr th {\n",
       "        vertical-align: top;\n",
       "    }\n",
       "\n",
       "    .dataframe thead th {\n",
       "        text-align: right;\n",
       "    }\n",
       "</style>\n",
       "<table border=\"1\" class=\"dataframe\">\n",
       "  <thead>\n",
       "    <tr style=\"text-align: right;\">\n",
       "      <th></th>\n",
       "      <th>count</th>\n",
       "      <th>mean</th>\n",
       "      <th>std</th>\n",
       "      <th>min</th>\n",
       "      <th>25%</th>\n",
       "      <th>50%</th>\n",
       "      <th>75%</th>\n",
       "      <th>max</th>\n",
       "    </tr>\n",
       "  </thead>\n",
       "  <tbody>\n",
       "    <tr>\n",
       "      <th>lot_frontage</th>\n",
       "      <td>2050.0</td>\n",
       "      <td>57.910244</td>\n",
       "      <td>33.109248</td>\n",
       "      <td>0.0</td>\n",
       "      <td>43.25</td>\n",
       "      <td>63.0</td>\n",
       "      <td>78.0</td>\n",
       "      <td>313.0</td>\n",
       "    </tr>\n",
       "    <tr>\n",
       "      <th>lot_area</th>\n",
       "      <td>2050.0</td>\n",
       "      <td>10050.952195</td>\n",
       "      <td>6713.144458</td>\n",
       "      <td>1300.0</td>\n",
       "      <td>7500.00</td>\n",
       "      <td>9417.5</td>\n",
       "      <td>11509.0</td>\n",
       "      <td>159000.0</td>\n",
       "    </tr>\n",
       "    <tr>\n",
       "      <th>is_lotshape_reg</th>\n",
       "      <td>2050.0</td>\n",
       "      <td>0.631707</td>\n",
       "      <td>0.482459</td>\n",
       "      <td>0.0</td>\n",
       "      <td>0.00</td>\n",
       "      <td>1.0</td>\n",
       "      <td>1.0</td>\n",
       "      <td>1.0</td>\n",
       "    </tr>\n",
       "    <tr>\n",
       "      <th>is_slope_gentle</th>\n",
       "      <td>2050.0</td>\n",
       "      <td>0.952195</td>\n",
       "      <td>0.213405</td>\n",
       "      <td>0.0</td>\n",
       "      <td>1.00</td>\n",
       "      <td>1.0</td>\n",
       "      <td>1.0</td>\n",
       "      <td>1.0</td>\n",
       "    </tr>\n",
       "    <tr>\n",
       "      <th>mas_vnr_area</th>\n",
       "      <td>2050.0</td>\n",
       "      <td>98.077561</td>\n",
       "      <td>172.584871</td>\n",
       "      <td>0.0</td>\n",
       "      <td>0.00</td>\n",
       "      <td>0.0</td>\n",
       "      <td>158.0</td>\n",
       "      <td>1600.0</td>\n",
       "    </tr>\n",
       "    <tr>\n",
       "      <th>...</th>\n",
       "      <td>...</td>\n",
       "      <td>...</td>\n",
       "      <td>...</td>\n",
       "      <td>...</td>\n",
       "      <td>...</td>\n",
       "      <td>...</td>\n",
       "      <td>...</td>\n",
       "      <td>...</td>\n",
       "    </tr>\n",
       "    <tr>\n",
       "      <th>mo_sold_7</th>\n",
       "      <td>2050.0</td>\n",
       "      <td>0.147805</td>\n",
       "      <td>0.354993</td>\n",
       "      <td>0.0</td>\n",
       "      <td>0.00</td>\n",
       "      <td>0.0</td>\n",
       "      <td>0.0</td>\n",
       "      <td>1.0</td>\n",
       "    </tr>\n",
       "    <tr>\n",
       "      <th>mo_sold_8</th>\n",
       "      <td>2050.0</td>\n",
       "      <td>0.081463</td>\n",
       "      <td>0.273612</td>\n",
       "      <td>0.0</td>\n",
       "      <td>0.00</td>\n",
       "      <td>0.0</td>\n",
       "      <td>0.0</td>\n",
       "      <td>1.0</td>\n",
       "    </tr>\n",
       "    <tr>\n",
       "      <th>mo_sold_9</th>\n",
       "      <td>2050.0</td>\n",
       "      <td>0.053171</td>\n",
       "      <td>0.224429</td>\n",
       "      <td>0.0</td>\n",
       "      <td>0.00</td>\n",
       "      <td>0.0</td>\n",
       "      <td>0.0</td>\n",
       "      <td>1.0</td>\n",
       "    </tr>\n",
       "    <tr>\n",
       "      <th>sale_type_Others</th>\n",
       "      <td>2050.0</td>\n",
       "      <td>0.053659</td>\n",
       "      <td>0.225398</td>\n",
       "      <td>0.0</td>\n",
       "      <td>0.00</td>\n",
       "      <td>0.0</td>\n",
       "      <td>0.0</td>\n",
       "      <td>1.0</td>\n",
       "    </tr>\n",
       "    <tr>\n",
       "      <th>sale_type_WD</th>\n",
       "      <td>2050.0</td>\n",
       "      <td>0.868780</td>\n",
       "      <td>0.337723</td>\n",
       "      <td>0.0</td>\n",
       "      <td>1.00</td>\n",
       "      <td>1.0</td>\n",
       "      <td>1.0</td>\n",
       "      <td>1.0</td>\n",
       "    </tr>\n",
       "  </tbody>\n",
       "</table>\n",
       "<p>125 rows × 8 columns</p>\n",
       "</div>"
      ],
      "text/plain": [
       "                   count          mean          std     min      25%     50%  \\\n",
       "lot_frontage      2050.0     57.910244    33.109248     0.0    43.25    63.0   \n",
       "lot_area          2050.0  10050.952195  6713.144458  1300.0  7500.00  9417.5   \n",
       "is_lotshape_reg   2050.0      0.631707     0.482459     0.0     0.00     1.0   \n",
       "is_slope_gentle   2050.0      0.952195     0.213405     0.0     1.00     1.0   \n",
       "mas_vnr_area      2050.0     98.077561   172.584871     0.0     0.00     0.0   \n",
       "...                  ...           ...          ...     ...      ...     ...   \n",
       "mo_sold_7         2050.0      0.147805     0.354993     0.0     0.00     0.0   \n",
       "mo_sold_8         2050.0      0.081463     0.273612     0.0     0.00     0.0   \n",
       "mo_sold_9         2050.0      0.053171     0.224429     0.0     0.00     0.0   \n",
       "sale_type_Others  2050.0      0.053659     0.225398     0.0     0.00     0.0   \n",
       "sale_type_WD      2050.0      0.868780     0.337723     0.0     1.00     1.0   \n",
       "\n",
       "                      75%       max  \n",
       "lot_frontage         78.0     313.0  \n",
       "lot_area          11509.0  159000.0  \n",
       "is_lotshape_reg       1.0       1.0  \n",
       "is_slope_gentle       1.0       1.0  \n",
       "mas_vnr_area        158.0    1600.0  \n",
       "...                   ...       ...  \n",
       "mo_sold_7             0.0       1.0  \n",
       "mo_sold_8             0.0       1.0  \n",
       "mo_sold_9             0.0       1.0  \n",
       "sale_type_Others      0.0       1.0  \n",
       "sale_type_WD          1.0       1.0  \n",
       "\n",
       "[125 rows x 8 columns]"
      ]
     },
     "execution_count": 24,
     "metadata": {},
     "output_type": "execute_result"
    }
   ],
   "source": [
    "train_final.describe().T"
   ]
  },
  {
   "cell_type": "code",
   "execution_count": 68,
   "id": "da7c6bd8",
   "metadata": {},
   "outputs": [],
   "source": [
    "features = train_final.columns.drop(['saleprice'])\n",
    "X = train_final[features]\n",
    "y = np.log1p(train_final[['saleprice']])"
   ]
  },
  {
   "cell_type": "code",
   "execution_count": 69,
   "id": "ba38c8cf",
   "metadata": {
    "scrolled": true
   },
   "outputs": [
    {
     "name": "stdout",
     "output_type": "stream",
     "text": [
      "(2050, 124)\n",
      "(2050, 1)\n"
     ]
    }
   ],
   "source": [
    "print(X.shape)\n",
    "print(y.shape)"
   ]
  },
  {
   "cell_type": "code",
   "execution_count": 70,
   "id": "d0dff12d",
   "metadata": {},
   "outputs": [
    {
     "name": "stdout",
     "output_type": "stream",
     "text": [
      "(1537, 124) (1537, 1)\n"
     ]
    }
   ],
   "source": [
    "# train test split\n",
    "X_train, X_test, y_train, y_test = train_test_split(X, y, random_state=42)\n",
    "print(X_train.shape, y_train.shape)"
   ]
  },
  {
   "cell_type": "code",
   "execution_count": 71,
   "id": "01de5621",
   "metadata": {},
   "outputs": [],
   "source": [
    "# apply standard scaler to scale variables\n",
    "ss=StandardScaler()\n",
    "\n",
    "X_train_sc = ss.fit_transform(X_train)\n",
    "X_test_sc = ss.transform(X_test)\n",
    "\n",
    "# y_train_sc = ss.fit_transform(y_train)\n",
    "# y_test_sc = ss.transform(y_test)"
   ]
  },
  {
   "cell_type": "code",
   "execution_count": 72,
   "id": "050350b5",
   "metadata": {},
   "outputs": [],
   "source": [
    "##to check whether the output is normally distributed - balance data\n",
    "##skew >0.8 consider as moderately skew\n",
    "def skew_plot(y):\n",
    "  (mu,sigma) = norm.fit(y)\n",
    "  print(f'mu = {round(mu,2)}, sigma = {round(sigma,2)}, skew = {y.skew()}')\n",
    "  f, ax = plt.subplots(figsize=(10,5))\n",
    "  ax = sns.distplot(y, fit=norm)\n",
    "  plt.xlabel('SalePrice', fontsize=15)\n",
    "  plt.ylabel('Frequency', fontsize=15)\n",
    "  plt.title('Distribution of Housing Sale Price', fontsize=15)\n",
    "  plt.show()"
   ]
  },
  {
   "cell_type": "code",
   "execution_count": 73,
   "id": "8fb56056",
   "metadata": {},
   "outputs": [
    {
     "name": "stdout",
     "output_type": "stream",
     "text": [
      "mu = 12.02, sigma = 0.41, skew = saleprice   -0.14642\n",
      "dtype: float64\n"
     ]
    },
    {
     "data": {
      "image/png": "[encoded data removed]",
      "text/plain": [
       "<Figure size 720x360 with 1 Axes>"
      ]
     },
     "metadata": {
      "needs_background": "light"
     },
     "output_type": "display_data"
    }
   ],
   "source": [
    "skew_plot(y)"
   ]
  },
  {
   "cell_type": "markdown",
   "id": "e2e3b8f6",
   "metadata": {},
   "source": [
    "## Linear regression - Base Model"
   ]
  },
  {
   "cell_type": "code",
   "execution_count": 74,
   "id": "1e4a9b19",
   "metadata": {},
   "outputs": [
    {
     "data": {
      "text/plain": [
       "LinearRegression()"
      ]
     },
     "execution_count": 74,
     "metadata": {},
     "output_type": "execute_result"
    }
   ],
   "source": [
    "# use linear regression to test\n",
    "lr=LinearRegression()\n",
    "lr.fit(X_train_sc, y_train)"
   ]
  },
  {
   "cell_type": "code",
   "execution_count": 75,
   "id": "d7709885",
   "metadata": {},
   "outputs": [
    {
     "name": "stdout",
     "output_type": "stream",
     "text": [
      "0.014862747094872005 2.173425166150767e+20 1.4623307200730406e+24%\n"
     ]
    }
   ],
   "source": [
    "y_train_pred = lr.predict(X_train_sc)\n",
    "y_test_pred = lr.predict(X_test_sc)\n",
    "mse_train = mean_squared_error(y_train, y_train_pred)\n",
    "mse_test = mean_squared_error(y_test, y_test_pred)\n",
    "pct_diff = round((mse_test/mse_train - 1)*100,2)\n",
    "\n",
    "print(mse_train, mse_test, f'{pct_diff}%')"
   ]
  },
  {
   "cell_type": "markdown",
   "id": "d2c63651",
   "metadata": {},
   "source": [
    "### Use GridSearchCV"
   ]
  },
  {
   "cell_type": "code",
   "execution_count": 76,
   "id": "3808c42d",
   "metadata": {},
   "outputs": [],
   "source": [
    "# Initialze the estimators\n",
    "model1 = LinearRegression()\n",
    "model2 = Ridge()\n",
    "model3 = Lasso()\n",
    "model4 = ElasticNet()\n",
    "\n",
    "# Initialize the hyperparameters for each dictionary\n",
    "param1 = {}\n",
    "param1['classifier'] = [model1]\n",
    "\n",
    "param2 = {}\n",
    "param2['classifier__alpha'] = np.logspace(-3,0,100)\n",
    "param2['classifier'] = [model2]\n",
    "\n",
    "param3 = {}\n",
    "param3['classifier__alpha'] = np.logspace(-1,0,100)\n",
    "param3['classifier'] = [model3]\n",
    "\n",
    "param4 = {}\n",
    "param4['classifier__alpha'] = np.linspace(0.5,1.0,100)\n",
    "param4['classifier__l1_ratio'] = np.linspace(0,1,10)\n",
    "param4['classifier'] = [model4]\n",
    "\n",
    "pipeline = Pipeline([('classifier', model1)]) #for starting from model1\n",
    "params = [param1, param2, param3, param4]     #multiple params will do the job of passing thorugh each model here\n",
    "\n",
    "# run GridsearchCV\n",
    "gs = GridSearchCV(pipeline, params, cv=3, n_jobs=-1, scoring='neg_mean_squared_error')"
   ]
  },
  {
   "cell_type": "code",
   "execution_count": 77,
   "id": "339ac153",
   "metadata": {},
   "outputs": [
    {
     "data": {
      "text/plain": [
       "GridSearchCV(cv=3,\n",
       "             estimator=Pipeline(steps=[('classifier', LinearRegression())]),\n",
       "             n_jobs=-1,\n",
       "             param_grid=[{'classifier': [LinearRegression()]},\n",
       "                         {'classifier': [Ridge()],\n",
       "                          'classifier__alpha': array([0.001     , 0.00107227, 0.00114976, 0.00123285, 0.00132194,\n",
       "       0.00141747, 0.00151991, 0.00162975, 0.00174753, 0.00187382,\n",
       "       0.00200923, 0.00215443, 0.00231013, 0.00247708, 0.00265609,\n",
       "       0...\n",
       "       0.9040404 , 0.90909091, 0.91414141, 0.91919192, 0.92424242,\n",
       "       0.92929293, 0.93434343, 0.93939394, 0.94444444, 0.94949495,\n",
       "       0.95454545, 0.95959596, 0.96464646, 0.96969697, 0.97474747,\n",
       "       0.97979798, 0.98484848, 0.98989899, 0.99494949, 1.        ]),\n",
       "                          'classifier__l1_ratio': array([0.        , 0.11111111, 0.22222222, 0.33333333, 0.44444444,\n",
       "       0.55555556, 0.66666667, 0.77777778, 0.88888889, 1.        ])}],\n",
       "             scoring='neg_mean_squared_error')"
      ]
     },
     "execution_count": 77,
     "metadata": {},
     "output_type": "execute_result"
    }
   ],
   "source": [
    "gs.fit(X_train_sc, y_train)"
   ]
  },
  {
   "cell_type": "code",
   "execution_count": 78,
   "id": "b04d86d7",
   "metadata": {},
   "outputs": [
    {
     "name": "stdout",
     "output_type": "stream",
     "text": [
      "Best params:  {'classifier': Ridge(), 'classifier__alpha': 1.0}\n",
      "\n",
      "\n",
      "Best estimator:  Pipeline(steps=[('classifier', Ridge())])\n"
     ]
    }
   ],
   "source": [
    "# evaluation of the best model\n",
    "# best param\n",
    "print('Best params: ', gs.best_params_)\n",
    "print('\\n')\n",
    "\n",
    "# best estimator\n",
    "print('Best estimator: ', gs.best_estimator_)\n"
   ]
  },
  {
   "cell_type": "code",
   "execution_count": null,
   "id": "d0fbf8f7",
   "metadata": {},
   "outputs": [],
   "source": []
  },
  {
   "cell_type": "markdown",
   "id": "03290f3b",
   "metadata": {},
   "source": [
    "## Lasso"
   ]
  },
  {
   "cell_type": "code",
   "execution_count": 79,
   "id": "3bcc8ad7",
   "metadata": {},
   "outputs": [
    {
     "data": {
      "text/plain": [
       "Lasso()"
      ]
     },
     "execution_count": 79,
     "metadata": {},
     "output_type": "execute_result"
    }
   ],
   "source": [
    "#use lasso\n",
    "lasso = Lasso()\n",
    "lasso.fit(X_train_sc, y_train)"
   ]
  },
  {
   "cell_type": "code",
   "execution_count": 80,
   "id": "af98ec25",
   "metadata": {},
   "outputs": [
    {
     "name": "stdout",
     "output_type": "stream",
     "text": [
      "0.16780812911592108 0.17326699094932388 3.25%\n"
     ]
    }
   ],
   "source": [
    "y_train_pred = lasso.predict(X_train_sc)\n",
    "y_test_pred = lasso.predict(X_test_sc)\n",
    "mse_train = mean_squared_error(y_train, y_train_pred)\n",
    "mse_test = mean_squared_error(y_test, y_test_pred)\n",
    "pct_diff = round((mse_test/mse_train - 1)*100,2)\n",
    "\n",
    "print(mse_train, mse_test, f'{pct_diff}%')"
   ]
  },
  {
   "cell_type": "code",
   "execution_count": 81,
   "id": "349fcd21",
   "metadata": {
    "scrolled": false
   },
   "outputs": [
    {
     "data": {
      "text/plain": [
       "array([ 0.,  0., -0., -0.,  0.,  0.,  0.,  0.,  0.,  0.,  0.,  0.,  0.,\n",
       "        0., -0.,  0., -0., -0., -0., -0.,  0.,  0., -0., -0., -0., -0.,\n",
       "        0., -0., -0., -0., -0.,  0., -0.,  0.,  0., -0., -0., -0.,  0.,\n",
       "        0., -0.,  0., -0.,  0.,  0.,  0., -0., -0., -0., -0.,  0.,  0.,\n",
       "        0., -0.,  0.,  0.,  0., -0., -0., -0., -0., -0., -0.,  0.,  0.,\n",
       "        0., -0., -0., -0.,  0.,  0.,  0.,  0.,  0., -0., -0., -0.,  0.,\n",
       "       -0., -0.,  0.,  0.,  0., -0., -0.,  0., -0.,  0., -0., -0., -0.,\n",
       "        0., -0., -0., -0.,  0., -0., -0.,  0., -0.,  0., -0., -0., -0.,\n",
       "       -0., -0., -0.,  0., -0.,  0., -0., -0.,  0.,  0., -0., -0., -0.,\n",
       "       -0.,  0.,  0.,  0.,  0., -0., -0.])"
      ]
     },
     "execution_count": 81,
     "metadata": {},
     "output_type": "execute_result"
    }
   ],
   "source": [
    "lasso.coef_"
   ]
  },
  {
   "cell_type": "markdown",
   "id": "3f50a8b2",
   "metadata": {},
   "source": [
    "## Ridge"
   ]
  },
  {
   "cell_type": "code",
   "execution_count": 82,
   "id": "81f6ce16",
   "metadata": {},
   "outputs": [
    {
     "data": {
      "text/plain": [
       "Ridge()"
      ]
     },
     "execution_count": 82,
     "metadata": {},
     "output_type": "execute_result"
    }
   ],
   "source": [
    "#use ridge\n",
    "ridge = Ridge()\n",
    "ridge.fit(X_train_sc, y_train)"
   ]
  },
  {
   "cell_type": "code",
   "execution_count": 83,
   "id": "0a1de733",
   "metadata": {},
   "outputs": [
    {
     "name": "stdout",
     "output_type": "stream",
     "text": [
      "0.014888890604567492 0.020616196999687204 38.47%\n"
     ]
    }
   ],
   "source": [
    "y_train_pred = ridge.predict(X_train_sc)\n",
    "y_test_pred = ridge.predict(X_test_sc)\n",
    "mse_train = mean_squared_error(y_train, y_train_pred)\n",
    "mse_test = mean_squared_error(y_test, y_test_pred)\n",
    "pct_diff = round((mse_test/mse_train - 1)*100,2)\n",
    "\n",
    "print(mse_train, mse_test, f'{pct_diff}%')"
   ]
  },
  {
   "cell_type": "code",
   "execution_count": 84,
   "id": "1d5b82b8",
   "metadata": {
    "scrolled": false
   },
   "outputs": [
    {
     "data": {
      "text/plain": [
       "array([[-3.23121854e-03,  5.52204081e-03,  3.92681329e-03,\n",
       "         7.63469095e-04,  2.63990390e-03,  2.69015595e-02,\n",
       "        -4.85798121e-03,  1.99191046e-02,  1.30827094e-01,\n",
       "         1.81577372e-02,  2.63854669e-02,  2.41464250e-02,\n",
       "         1.39208897e-02, -9.45898012e-03,  4.20948365e-03,\n",
       "         8.58558855e-02, -2.15739727e-03, -4.46472346e-03,\n",
       "        -6.98685141e-02,  1.71851552e-03,  1.62990411e-02,\n",
       "         3.84780996e-02, -5.28291584e-03, -1.15477133e-02,\n",
       "        -1.16790083e-03, -7.36685737e-03,  3.99980685e-02,\n",
       "         5.05558337e-03,  1.91920214e-03,  1.78712304e-02,\n",
       "         4.57252918e-02,  9.95320318e-03,  2.70401386e-02,\n",
       "         1.46583389e-02,  9.14961636e-03,  7.04645428e-03,\n",
       "         3.51338544e-03,  4.48014026e-02,  1.72625512e-01,\n",
       "         0.00000000e+00,  7.01961104e-02,  3.06008375e-01,\n",
       "         2.55544752e-01,  8.56981666e-03, -3.67535162e-03,\n",
       "        -7.07091035e-03,  3.46336890e-03,  8.19721549e-04,\n",
       "        -1.85394220e-03, -6.97011826e-03,  9.08797844e-03,\n",
       "         1.21034303e-03,  1.32360025e-02, -2.29789530e-02,\n",
       "        -1.06309596e-04,  1.81235336e-03,  2.05062176e-02,\n",
       "        -1.50424373e-02, -7.17200922e-04, -1.72144173e-02,\n",
       "         3.91379671e-03, -1.04553896e-02,  3.81177888e-03,\n",
       "        -6.32103371e-03,  1.15949626e-02,  4.05440476e-02,\n",
       "        -2.47347676e-02, -1.06377823e-02, -8.99899300e-03,\n",
       "        -6.84875414e-04,  1.52795206e-02,  2.63515767e-02,\n",
       "         8.35848003e-03, -1.44427069e-03,  2.12263114e-02,\n",
       "         3.51338544e-03, -1.30197286e-02, -3.76110083e-03,\n",
       "        -3.18674978e-03,  5.40473650e-02, -3.85444959e-03,\n",
       "         3.91051043e-03,  1.99445628e-02,  1.36746018e-02,\n",
       "         1.61440921e-02,  1.00239279e-02, -2.43447495e-03,\n",
       "        -3.97141371e-03, -3.04887561e-02, -2.10608504e-02,\n",
       "        -2.18070183e-02, -2.66770969e-02, -3.38353326e-02,\n",
       "        -4.76367002e-03, -1.01029681e-02,  2.04245455e-03,\n",
       "        -9.89122757e-03, -1.14804901e-02,  8.90168818e-03,\n",
       "        -2.50906087e-03,  6.31969430e-03, -3.53787628e-03,\n",
       "        -1.47973026e-02, -2.23646150e-03, -2.02355185e-02,\n",
       "        -3.48071686e-03, -5.58937344e-03, -7.80420210e-03,\n",
       "        -5.58937344e-03, -1.02887026e-02, -1.15333559e-02,\n",
       "         6.05922037e-03,  3.76356067e-03,  4.04287672e-03,\n",
       "        -3.20846676e-03, -4.21633246e-04,  2.48527343e-03,\n",
       "         1.34678831e-02,  5.25120722e-03,  1.54739871e-02,\n",
       "         2.93931093e-03,  3.29810351e-03, -1.39789518e-02,\n",
       "        -1.43467377e-02]])"
      ]
     },
     "execution_count": 84,
     "metadata": {},
     "output_type": "execute_result"
    }
   ],
   "source": [
    "ridge.coef_"
   ]
  },
  {
   "cell_type": "markdown",
   "id": "72dad1dc",
   "metadata": {},
   "source": [
    "## How to improve the model"
   ]
  },
  {
   "cell_type": "code",
   "execution_count": null,
   "id": "cc26ab36",
   "metadata": {},
   "outputs": [],
   "source": []
  },
  {
   "cell_type": "code",
   "execution_count": null,
   "id": "d555b3cf",
   "metadata": {},
   "outputs": [],
   "source": []
  },
  {
   "cell_type": "code",
   "execution_count": null,
   "id": "8cb604d6",
   "metadata": {},
   "outputs": [],
   "source": []
  },
  {
   "cell_type": "code",
   "execution_count": null,
   "id": "934b4217",
   "metadata": {},
   "outputs": [],
   "source": []
  },
  {
   "cell_type": "code",
   "execution_count": null,
   "id": "6d5a4e0b",
   "metadata": {},
   "outputs": [],
   "source": []
  },
  {
   "cell_type": "code",
   "execution_count": null,
   "id": "0a1ec39b",
   "metadata": {},
   "outputs": [],
   "source": []
  },
  {
   "cell_type": "code",
   "execution_count": null,
   "id": "981c3fdd",
   "metadata": {},
   "outputs": [],
   "source": []
  },
  {
   "cell_type": "markdown",
   "id": "4813bdcb",
   "metadata": {},
   "source": [
    "## Doing test on the separate test set"
   ]
  },
  {
   "cell_type": "code",
   "execution_count": 42,
   "id": "97c0ca62",
   "metadata": {
    "scrolled": true
   },
   "outputs": [
    {
     "name": "stdout",
     "output_type": "stream",
     "text": [
      "(878, 37)\n"
     ]
    },
    {
     "data": {
      "text/html": [
       "<div>\n",
       "<style scoped>\n",
       "    .dataframe tbody tr th:only-of-type {\n",
       "        vertical-align: middle;\n",
       "    }\n",
       "\n",
       "    .dataframe tbody tr th {\n",
       "        vertical-align: top;\n",
       "    }\n",
       "\n",
       "    .dataframe thead th {\n",
       "        text-align: right;\n",
       "    }\n",
       "</style>\n",
       "<table border=\"1\" class=\"dataframe\">\n",
       "  <thead>\n",
       "    <tr style=\"text-align: right;\">\n",
       "      <th></th>\n",
       "      <th>ms_subclass</th>\n",
       "      <th>ms_zoning</th>\n",
       "      <th>lot_frontage</th>\n",
       "      <th>lot_area</th>\n",
       "      <th>is_lotshape_reg</th>\n",
       "      <th>lot_config</th>\n",
       "      <th>is_slope_gentle</th>\n",
       "      <th>neighborhood</th>\n",
       "      <th>bldg_type</th>\n",
       "      <th>house_style</th>\n",
       "      <th>...</th>\n",
       "      <th>misc_val</th>\n",
       "      <th>mo_sold</th>\n",
       "      <th>sale_type</th>\n",
       "      <th>cond_qual</th>\n",
       "      <th>have_fence</th>\n",
       "      <th>have_miscfeat</th>\n",
       "      <th>age_sold</th>\n",
       "      <th>remod</th>\n",
       "      <th>deck_porch</th>\n",
       "      <th>number_baths</th>\n",
       "    </tr>\n",
       "  </thead>\n",
       "  <tbody>\n",
       "    <tr>\n",
       "      <th>0</th>\n",
       "      <td>190</td>\n",
       "      <td>RM</td>\n",
       "      <td>69.0</td>\n",
       "      <td>9142</td>\n",
       "      <td>1</td>\n",
       "      <td>Inside</td>\n",
       "      <td>1</td>\n",
       "      <td>OldTown</td>\n",
       "      <td>2fmCon</td>\n",
       "      <td>2Story</td>\n",
       "      <td>...</td>\n",
       "      <td>0</td>\n",
       "      <td>4</td>\n",
       "      <td>WD</td>\n",
       "      <td>48</td>\n",
       "      <td>0</td>\n",
       "      <td>0</td>\n",
       "      <td>96</td>\n",
       "      <td>1.0</td>\n",
       "      <td>172</td>\n",
       "      <td>2</td>\n",
       "    </tr>\n",
       "    <tr>\n",
       "      <th>1</th>\n",
       "      <td>90</td>\n",
       "      <td>RL</td>\n",
       "      <td>0.0</td>\n",
       "      <td>9662</td>\n",
       "      <td>0</td>\n",
       "      <td>Inside</td>\n",
       "      <td>1</td>\n",
       "      <td>Sawyer</td>\n",
       "      <td>Duplex</td>\n",
       "      <td>1Story</td>\n",
       "      <td>...</td>\n",
       "      <td>0</td>\n",
       "      <td>8</td>\n",
       "      <td>WD</td>\n",
       "      <td>20</td>\n",
       "      <td>0</td>\n",
       "      <td>0</td>\n",
       "      <td>29</td>\n",
       "      <td>0.0</td>\n",
       "      <td>170</td>\n",
       "      <td>2</td>\n",
       "    </tr>\n",
       "    <tr>\n",
       "      <th>2</th>\n",
       "      <td>60</td>\n",
       "      <td>RL</td>\n",
       "      <td>58.0</td>\n",
       "      <td>17104</td>\n",
       "      <td>0</td>\n",
       "      <td>Inside</td>\n",
       "      <td>1</td>\n",
       "      <td>Gilbert</td>\n",
       "      <td>1Fam</td>\n",
       "      <td>2Story</td>\n",
       "      <td>...</td>\n",
       "      <td>0</td>\n",
       "      <td>9</td>\n",
       "      <td>New</td>\n",
       "      <td>35</td>\n",
       "      <td>0</td>\n",
       "      <td>0</td>\n",
       "      <td>0</td>\n",
       "      <td>0.0</td>\n",
       "      <td>124</td>\n",
       "      <td>3</td>\n",
       "    </tr>\n",
       "    <tr>\n",
       "      <th>3</th>\n",
       "      <td>30</td>\n",
       "      <td>RM</td>\n",
       "      <td>60.0</td>\n",
       "      <td>8520</td>\n",
       "      <td>1</td>\n",
       "      <td>Inside</td>\n",
       "      <td>1</td>\n",
       "      <td>OldTown</td>\n",
       "      <td>1Fam</td>\n",
       "      <td>1Story</td>\n",
       "      <td>...</td>\n",
       "      <td>0</td>\n",
       "      <td>7</td>\n",
       "      <td>WD</td>\n",
       "      <td>30</td>\n",
       "      <td>0</td>\n",
       "      <td>0</td>\n",
       "      <td>84</td>\n",
       "      <td>1.0</td>\n",
       "      <td>184</td>\n",
       "      <td>1</td>\n",
       "    </tr>\n",
       "    <tr>\n",
       "      <th>4</th>\n",
       "      <td>20</td>\n",
       "      <td>RL</td>\n",
       "      <td>0.0</td>\n",
       "      <td>9500</td>\n",
       "      <td>0</td>\n",
       "      <td>Inside</td>\n",
       "      <td>1</td>\n",
       "      <td>NAmes</td>\n",
       "      <td>1Fam</td>\n",
       "      <td>1Story</td>\n",
       "      <td>...</td>\n",
       "      <td>0</td>\n",
       "      <td>7</td>\n",
       "      <td>WD</td>\n",
       "      <td>30</td>\n",
       "      <td>0</td>\n",
       "      <td>0</td>\n",
       "      <td>46</td>\n",
       "      <td>0.0</td>\n",
       "      <td>261</td>\n",
       "      <td>2</td>\n",
       "    </tr>\n",
       "  </tbody>\n",
       "</table>\n",
       "<p>5 rows × 37 columns</p>\n",
       "</div>"
      ],
      "text/plain": [
       "  ms_subclass ms_zoning  lot_frontage  lot_area  is_lotshape_reg lot_config  \\\n",
       "0         190        RM          69.0      9142                1     Inside   \n",
       "1          90        RL           0.0      9662                0     Inside   \n",
       "2          60        RL          58.0     17104                0     Inside   \n",
       "3          30        RM          60.0      8520                1     Inside   \n",
       "4          20        RL           0.0      9500                0     Inside   \n",
       "\n",
       "   is_slope_gentle neighborhood bldg_type house_style  ... misc_val mo_sold  \\\n",
       "0                1      OldTown    2fmCon      2Story  ...        0       4   \n",
       "1                1       Sawyer    Duplex      1Story  ...        0       8   \n",
       "2                1      Gilbert      1Fam      2Story  ...        0       9   \n",
       "3                1      OldTown      1Fam      1Story  ...        0       7   \n",
       "4                1        NAmes      1Fam      1Story  ...        0       7   \n",
       "\n",
       "  sale_type  cond_qual have_fence  have_miscfeat age_sold  remod  deck_porch  \\\n",
       "0       WD          48          0              0       96    1.0         172   \n",
       "1       WD          20          0              0       29    0.0         170   \n",
       "2       New         35          0              0        0    0.0         124   \n",
       "3       WD          30          0              0       84    1.0         184   \n",
       "4       WD          30          0              0       46    0.0         261   \n",
       "\n",
       "   number_baths  \n",
       "0             2  \n",
       "1             2  \n",
       "2             3  \n",
       "3             1  \n",
       "4             2  \n",
       "\n",
       "[5 rows x 37 columns]"
      ]
     },
     "execution_count": 42,
     "metadata": {},
     "output_type": "execute_result"
    }
   ],
   "source": [
    "# There is no saleprice column in the test dataset\n",
    "test_cleaned = data_cleaning(test)\n",
    "print(test_cleaned.shape)\n",
    "test_cleaned.head()"
   ]
  },
  {
   "cell_type": "code",
   "execution_count": 43,
   "id": "b1e7133b",
   "metadata": {},
   "outputs": [],
   "source": [
    "test_final = pd.get_dummies(test_cleaned, columns=cat_columns, drop_first=True)"
   ]
  },
  {
   "cell_type": "code",
   "execution_count": 44,
   "id": "e3f24a63",
   "metadata": {},
   "outputs": [
    {
     "name": "stdout",
     "output_type": "stream",
     "text": [
      "(878, 120)\n"
     ]
    }
   ],
   "source": [
    "print(test_final.shape)"
   ]
  },
  {
   "cell_type": "code",
   "execution_count": 45,
   "id": "c84dd1c4",
   "metadata": {},
   "outputs": [
    {
     "data": {
      "text/html": [
       "<div>\n",
       "<style scoped>\n",
       "    .dataframe tbody tr th:only-of-type {\n",
       "        vertical-align: middle;\n",
       "    }\n",
       "\n",
       "    .dataframe tbody tr th {\n",
       "        vertical-align: top;\n",
       "    }\n",
       "\n",
       "    .dataframe thead th {\n",
       "        text-align: right;\n",
       "    }\n",
       "</style>\n",
       "<table border=\"1\" class=\"dataframe\">\n",
       "  <thead>\n",
       "    <tr style=\"text-align: right;\">\n",
       "      <th></th>\n",
       "      <th>count</th>\n",
       "      <th>mean</th>\n",
       "      <th>std</th>\n",
       "      <th>min</th>\n",
       "      <th>25%</th>\n",
       "      <th>50%</th>\n",
       "      <th>75%</th>\n",
       "      <th>max</th>\n",
       "    </tr>\n",
       "  </thead>\n",
       "  <tbody>\n",
       "    <tr>\n",
       "      <th>lot_frontage</th>\n",
       "      <td>878.0</td>\n",
       "      <td>56.872437</td>\n",
       "      <td>34.269502</td>\n",
       "      <td>0.0</td>\n",
       "      <td>40.00</td>\n",
       "      <td>60.0</td>\n",
       "      <td>78.00</td>\n",
       "      <td>182.0</td>\n",
       "    </tr>\n",
       "    <tr>\n",
       "      <th>lot_area</th>\n",
       "      <td>878.0</td>\n",
       "      <td>10307.033030</td>\n",
       "      <td>10002.674602</td>\n",
       "      <td>1477.0</td>\n",
       "      <td>7297.25</td>\n",
       "      <td>9446.0</td>\n",
       "      <td>11589.00</td>\n",
       "      <td>215245.0</td>\n",
       "    </tr>\n",
       "    <tr>\n",
       "      <th>is_lotshape_reg</th>\n",
       "      <td>878.0</td>\n",
       "      <td>0.642369</td>\n",
       "      <td>0.479576</td>\n",
       "      <td>0.0</td>\n",
       "      <td>0.00</td>\n",
       "      <td>1.0</td>\n",
       "      <td>1.00</td>\n",
       "      <td>1.0</td>\n",
       "    </tr>\n",
       "    <tr>\n",
       "      <th>is_slope_gentle</th>\n",
       "      <td>878.0</td>\n",
       "      <td>0.951025</td>\n",
       "      <td>0.215939</td>\n",
       "      <td>0.0</td>\n",
       "      <td>1.00</td>\n",
       "      <td>1.0</td>\n",
       "      <td>1.00</td>\n",
       "      <td>1.0</td>\n",
       "    </tr>\n",
       "    <tr>\n",
       "      <th>mas_vnr_area</th>\n",
       "      <td>878.0</td>\n",
       "      <td>106.115034</td>\n",
       "      <td>187.086530</td>\n",
       "      <td>0.0</td>\n",
       "      <td>0.00</td>\n",
       "      <td>0.0</td>\n",
       "      <td>171.75</td>\n",
       "      <td>1378.0</td>\n",
       "    </tr>\n",
       "    <tr>\n",
       "      <th>...</th>\n",
       "      <td>...</td>\n",
       "      <td>...</td>\n",
       "      <td>...</td>\n",
       "      <td>...</td>\n",
       "      <td>...</td>\n",
       "      <td>...</td>\n",
       "      <td>...</td>\n",
       "      <td>...</td>\n",
       "    </tr>\n",
       "    <tr>\n",
       "      <th>mo_sold_7</th>\n",
       "      <td>878.0</td>\n",
       "      <td>0.166287</td>\n",
       "      <td>0.372550</td>\n",
       "      <td>0.0</td>\n",
       "      <td>0.00</td>\n",
       "      <td>0.0</td>\n",
       "      <td>0.00</td>\n",
       "      <td>1.0</td>\n",
       "    </tr>\n",
       "    <tr>\n",
       "      <th>mo_sold_8</th>\n",
       "      <td>878.0</td>\n",
       "      <td>0.075171</td>\n",
       "      <td>0.263817</td>\n",
       "      <td>0.0</td>\n",
       "      <td>0.00</td>\n",
       "      <td>0.0</td>\n",
       "      <td>0.00</td>\n",
       "      <td>1.0</td>\n",
       "    </tr>\n",
       "    <tr>\n",
       "      <th>mo_sold_9</th>\n",
       "      <td>878.0</td>\n",
       "      <td>0.059226</td>\n",
       "      <td>0.236181</td>\n",
       "      <td>0.0</td>\n",
       "      <td>0.00</td>\n",
       "      <td>0.0</td>\n",
       "      <td>0.00</td>\n",
       "      <td>1.0</td>\n",
       "    </tr>\n",
       "    <tr>\n",
       "      <th>sale_type_Others</th>\n",
       "      <td>878.0</td>\n",
       "      <td>0.051253</td>\n",
       "      <td>0.220639</td>\n",
       "      <td>0.0</td>\n",
       "      <td>0.00</td>\n",
       "      <td>0.0</td>\n",
       "      <td>0.00</td>\n",
       "      <td>1.0</td>\n",
       "    </tr>\n",
       "    <tr>\n",
       "      <th>sale_type_WD</th>\n",
       "      <td>878.0</td>\n",
       "      <td>0.859909</td>\n",
       "      <td>0.347279</td>\n",
       "      <td>0.0</td>\n",
       "      <td>1.00</td>\n",
       "      <td>1.0</td>\n",
       "      <td>1.00</td>\n",
       "      <td>1.0</td>\n",
       "    </tr>\n",
       "  </tbody>\n",
       "</table>\n",
       "<p>120 rows × 8 columns</p>\n",
       "</div>"
      ],
      "text/plain": [
       "                  count          mean           std     min      25%     50%  \\\n",
       "lot_frontage      878.0     56.872437     34.269502     0.0    40.00    60.0   \n",
       "lot_area          878.0  10307.033030  10002.674602  1477.0  7297.25  9446.0   \n",
       "is_lotshape_reg   878.0      0.642369      0.479576     0.0     0.00     1.0   \n",
       "is_slope_gentle   878.0      0.951025      0.215939     0.0     1.00     1.0   \n",
       "mas_vnr_area      878.0    106.115034    187.086530     0.0     0.00     0.0   \n",
       "...                 ...           ...           ...     ...      ...     ...   \n",
       "mo_sold_7         878.0      0.166287      0.372550     0.0     0.00     0.0   \n",
       "mo_sold_8         878.0      0.075171      0.263817     0.0     0.00     0.0   \n",
       "mo_sold_9         878.0      0.059226      0.236181     0.0     0.00     0.0   \n",
       "sale_type_Others  878.0      0.051253      0.220639     0.0     0.00     0.0   \n",
       "sale_type_WD      878.0      0.859909      0.347279     0.0     1.00     1.0   \n",
       "\n",
       "                       75%       max  \n",
       "lot_frontage         78.00     182.0  \n",
       "lot_area          11589.00  215245.0  \n",
       "is_lotshape_reg       1.00       1.0  \n",
       "is_slope_gentle       1.00       1.0  \n",
       "mas_vnr_area        171.75    1378.0  \n",
       "...                    ...       ...  \n",
       "mo_sold_7             0.00       1.0  \n",
       "mo_sold_8             0.00       1.0  \n",
       "mo_sold_9             0.00       1.0  \n",
       "sale_type_Others      0.00       1.0  \n",
       "sale_type_WD          1.00       1.0  \n",
       "\n",
       "[120 rows x 8 columns]"
      ]
     },
     "execution_count": 45,
     "metadata": {},
     "output_type": "execute_result"
    }
   ],
   "source": [
    "test_final.describe().T"
   ]
  },
  {
   "cell_type": "code",
   "execution_count": 46,
   "id": "7b04cb48",
   "metadata": {},
   "outputs": [
    {
     "data": {
      "text/plain": [
       "(2050, 125)"
      ]
     },
     "execution_count": 46,
     "metadata": {},
     "output_type": "execute_result"
    }
   ],
   "source": [
    "train_final.shape"
   ]
  },
  {
   "cell_type": "code",
   "execution_count": 47,
   "id": "29887adf",
   "metadata": {},
   "outputs": [
    {
     "data": {
      "text/plain": [
       "125"
      ]
     },
     "execution_count": 47,
     "metadata": {},
     "output_type": "execute_result"
    }
   ],
   "source": [
    "len(train_final.columns)"
   ]
  },
  {
   "cell_type": "code",
   "execution_count": 48,
   "id": "46dd1ecc",
   "metadata": {
    "scrolled": true
   },
   "outputs": [
    {
     "data": {
      "text/plain": [
       "120"
      ]
     },
     "execution_count": 48,
     "metadata": {},
     "output_type": "execute_result"
    }
   ],
   "source": [
    "len(test_final.columns)"
   ]
  },
  {
   "cell_type": "code",
   "execution_count": 49,
   "id": "7209d8b4",
   "metadata": {
    "scrolled": false
   },
   "outputs": [
    {
     "data": {
      "text/plain": [
       "['saleprice',\n",
       " 'ms_subclass_150',\n",
       " 'ms_zoning_C (all)',\n",
       " 'neighborhood_GrnHill',\n",
       " 'neighborhood_Landmrk']"
      ]
     },
     "execution_count": 49,
     "metadata": {},
     "output_type": "execute_result"
    }
   ],
   "source": [
    "# all the columns that are fitted in the training set but not in the final test set\n",
    "#train_final has id column\n",
    "\n",
    "checklist=[]\n",
    "for col in train_final.columns:\n",
    "    if col not in list(test_final.columns):\n",
    "        checklist.append(col)\n",
    "checklist"
   ]
  },
  {
   "cell_type": "code",
   "execution_count": 50,
   "id": "d25c75e5",
   "metadata": {},
   "outputs": [],
   "source": [
    "# add columns except saleprice that are missing and fill with all zeros\n",
    "test_final[['ms_subclass_150',\n",
    " 'ms_zoning_C (all)',\n",
    " 'neighborhood_GrnHill',\n",
    " 'neighborhood_Landmrk']] = 0"
   ]
  },
  {
   "cell_type": "code",
   "execution_count": 51,
   "id": "4fcce6ef",
   "metadata": {},
   "outputs": [
    {
     "data": {
      "text/plain": [
       "Index(['lot_frontage', 'lot_area', 'is_lotshape_reg', 'is_slope_gentle',\n",
       "       'mas_vnr_area', 'bsmt_exposure', 'total_bsmt_sf', 'central_air',\n",
       "       'gr_liv_area', 'bsmt_full_bath',\n",
       "       ...\n",
       "       'mo_sold_2', 'mo_sold_3', 'mo_sold_4', 'mo_sold_5', 'mo_sold_6',\n",
       "       'mo_sold_7', 'mo_sold_8', 'mo_sold_9', 'sale_type_Others',\n",
       "       'sale_type_WD '],\n",
       "      dtype='object', length=124)"
      ]
     },
     "execution_count": 51,
     "metadata": {},
     "output_type": "execute_result"
    }
   ],
   "source": [
    "X.columns"
   ]
  },
  {
   "cell_type": "code",
   "execution_count": 52,
   "id": "ae6802cb",
   "metadata": {
    "scrolled": true
   },
   "outputs": [],
   "source": [
    "# reorder the columns based on\n",
    "test_final = test_final[X.columns]"
   ]
  },
  {
   "cell_type": "code",
   "execution_count": 53,
   "id": "46a1ce4e",
   "metadata": {},
   "outputs": [
    {
     "data": {
      "text/plain": [
       "878"
      ]
     },
     "execution_count": 53,
     "metadata": {},
     "output_type": "execute_result"
    }
   ],
   "source": [
    "len(test_final)"
   ]
  },
  {
   "cell_type": "markdown",
   "id": "a62b5588",
   "metadata": {},
   "source": [
    "## Submission to Kaggle"
   ]
  },
  {
   "cell_type": "code",
   "execution_count": 86,
   "id": "55126bcf",
   "metadata": {
    "scrolled": true
   },
   "outputs": [
    {
     "name": "stdout",
     "output_type": "stream",
     "text": [
      "(878, 1) (878,) (878, 1)\n"
     ]
    }
   ],
   "source": [
    "lr_pred = lr.predict(test_final)\n",
    "lasso_pred = np.expm1(lasso.predict(test_final))\n",
    "ridge_pred = ridge.predict(test_final)\n",
    "print(lr_pred.shape, lasso_pred.shape, ridge_pred.shape)"
   ]
  },
  {
   "cell_type": "code",
   "execution_count": 87,
   "id": "ed4f2fdb",
   "metadata": {
    "scrolled": true
   },
   "outputs": [
    {
     "data": {
      "text/html": [
       "<div>\n",
       "<style scoped>\n",
       "    .dataframe tbody tr th:only-of-type {\n",
       "        vertical-align: middle;\n",
       "    }\n",
       "\n",
       "    .dataframe tbody tr th {\n",
       "        vertical-align: top;\n",
       "    }\n",
       "\n",
       "    .dataframe thead th {\n",
       "        text-align: right;\n",
       "    }\n",
       "</style>\n",
       "<table border=\"1\" class=\"dataframe\">\n",
       "  <thead>\n",
       "    <tr style=\"text-align: right;\">\n",
       "      <th></th>\n",
       "      <th>0</th>\n",
       "    </tr>\n",
       "  </thead>\n",
       "  <tbody>\n",
       "    <tr>\n",
       "      <th>count</th>\n",
       "      <td>8.780000e+02</td>\n",
       "    </tr>\n",
       "    <tr>\n",
       "      <th>mean</th>\n",
       "      <td>4.033776e+07</td>\n",
       "    </tr>\n",
       "    <tr>\n",
       "      <th>std</th>\n",
       "      <td>4.395307e+09</td>\n",
       "    </tr>\n",
       "    <tr>\n",
       "      <th>min</th>\n",
       "      <td>-7.261569e+10</td>\n",
       "    </tr>\n",
       "    <tr>\n",
       "      <th>25%</th>\n",
       "      <td>2.116775e+02</td>\n",
       "    </tr>\n",
       "    <tr>\n",
       "      <th>50%</th>\n",
       "      <td>2.655695e+02</td>\n",
       "    </tr>\n",
       "    <tr>\n",
       "      <th>75%</th>\n",
       "      <td>3.250168e+02</td>\n",
       "    </tr>\n",
       "    <tr>\n",
       "      <th>max</th>\n",
       "      <td>1.080320e+11</td>\n",
       "    </tr>\n",
       "  </tbody>\n",
       "</table>\n",
       "</div>"
      ],
      "text/plain": [
       "                  0\n",
       "count  8.780000e+02\n",
       "mean   4.033776e+07\n",
       "std    4.395307e+09\n",
       "min   -7.261569e+10\n",
       "25%    2.116775e+02\n",
       "50%    2.655695e+02\n",
       "75%    3.250168e+02\n",
       "max    1.080320e+11"
      ]
     },
     "execution_count": 87,
     "metadata": {},
     "output_type": "execute_result"
    }
   ],
   "source": [
    "# check lr predicted values - not expected to be good\n",
    "lr_pred_list = []\n",
    "for i in lr_pred:\n",
    "    lr_pred_list.append(i[0])\n",
    "pd.DataFrame(lr_pred_list).describe()"
   ]
  },
  {
   "cell_type": "code",
   "execution_count": 88,
   "id": "46e39604",
   "metadata": {
    "scrolled": true
   },
   "outputs": [
    {
     "data": {
      "text/html": [
       "<div>\n",
       "<style scoped>\n",
       "    .dataframe tbody tr th:only-of-type {\n",
       "        vertical-align: middle;\n",
       "    }\n",
       "\n",
       "    .dataframe tbody tr th {\n",
       "        vertical-align: top;\n",
       "    }\n",
       "\n",
       "    .dataframe thead th {\n",
       "        text-align: right;\n",
       "    }\n",
       "</style>\n",
       "<table border=\"1\" class=\"dataframe\">\n",
       "  <thead>\n",
       "    <tr style=\"text-align: right;\">\n",
       "      <th></th>\n",
       "      <th>0</th>\n",
       "    </tr>\n",
       "  </thead>\n",
       "  <tbody>\n",
       "    <tr>\n",
       "      <th>count</th>\n",
       "      <td>8.780000e+02</td>\n",
       "    </tr>\n",
       "    <tr>\n",
       "      <th>mean</th>\n",
       "      <td>1.668199e+05</td>\n",
       "    </tr>\n",
       "    <tr>\n",
       "      <th>std</th>\n",
       "      <td>2.504356e-09</td>\n",
       "    </tr>\n",
       "    <tr>\n",
       "      <th>min</th>\n",
       "      <td>1.668199e+05</td>\n",
       "    </tr>\n",
       "    <tr>\n",
       "      <th>25%</th>\n",
       "      <td>1.668199e+05</td>\n",
       "    </tr>\n",
       "    <tr>\n",
       "      <th>50%</th>\n",
       "      <td>1.668199e+05</td>\n",
       "    </tr>\n",
       "    <tr>\n",
       "      <th>75%</th>\n",
       "      <td>1.668199e+05</td>\n",
       "    </tr>\n",
       "    <tr>\n",
       "      <th>max</th>\n",
       "      <td>1.668199e+05</td>\n",
       "    </tr>\n",
       "  </tbody>\n",
       "</table>\n",
       "</div>"
      ],
      "text/plain": [
       "                  0\n",
       "count  8.780000e+02\n",
       "mean   1.668199e+05\n",
       "std    2.504356e-09\n",
       "min    1.668199e+05\n",
       "25%    1.668199e+05\n",
       "50%    1.668199e+05\n",
       "75%    1.668199e+05\n",
       "max    1.668199e+05"
      ]
     },
     "execution_count": 88,
     "metadata": {},
     "output_type": "execute_result"
    }
   ],
   "source": [
    "lasso_pred_list = list(lasso_pred)\n",
    "pd.DataFrame(lasso_pred_list).describe()"
   ]
  },
  {
   "cell_type": "code",
   "execution_count": 89,
   "id": "900192d6",
   "metadata": {},
   "outputs": [
    {
     "data": {
      "text/html": [
       "<div>\n",
       "<style scoped>\n",
       "    .dataframe tbody tr th:only-of-type {\n",
       "        vertical-align: middle;\n",
       "    }\n",
       "\n",
       "    .dataframe tbody tr th {\n",
       "        vertical-align: top;\n",
       "    }\n",
       "\n",
       "    .dataframe thead th {\n",
       "        text-align: right;\n",
       "    }\n",
       "</style>\n",
       "<table border=\"1\" class=\"dataframe\">\n",
       "  <thead>\n",
       "    <tr style=\"text-align: right;\">\n",
       "      <th></th>\n",
       "      <th>0</th>\n",
       "    </tr>\n",
       "  </thead>\n",
       "  <tbody>\n",
       "    <tr>\n",
       "      <th>count</th>\n",
       "      <td>878.000000</td>\n",
       "    </tr>\n",
       "    <tr>\n",
       "      <th>mean</th>\n",
       "      <td>275.095473</td>\n",
       "    </tr>\n",
       "    <tr>\n",
       "      <th>std</th>\n",
       "      <td>98.044974</td>\n",
       "    </tr>\n",
       "    <tr>\n",
       "      <th>min</th>\n",
       "      <td>100.654598</td>\n",
       "    </tr>\n",
       "    <tr>\n",
       "      <th>25%</th>\n",
       "      <td>208.583720</td>\n",
       "    </tr>\n",
       "    <tr>\n",
       "      <th>50%</th>\n",
       "      <td>261.536763</td>\n",
       "    </tr>\n",
       "    <tr>\n",
       "      <th>75%</th>\n",
       "      <td>320.636721</td>\n",
       "    </tr>\n",
       "    <tr>\n",
       "      <th>max</th>\n",
       "      <td>1469.132189</td>\n",
       "    </tr>\n",
       "  </tbody>\n",
       "</table>\n",
       "</div>"
      ],
      "text/plain": [
       "                 0\n",
       "count   878.000000\n",
       "mean    275.095473\n",
       "std      98.044974\n",
       "min     100.654598\n",
       "25%     208.583720\n",
       "50%     261.536763\n",
       "75%     320.636721\n",
       "max    1469.132189"
      ]
     },
     "execution_count": 89,
     "metadata": {},
     "output_type": "execute_result"
    }
   ],
   "source": [
    "ridge_pred_list = list(ridge_pred)\n",
    "pd.DataFrame(ridge_pred_list).describe()"
   ]
  },
  {
   "cell_type": "code",
   "execution_count": 90,
   "id": "31c3e247",
   "metadata": {
    "scrolled": true
   },
   "outputs": [
    {
     "data": {
      "image/png": "[encoded data removed]",
      "text/plain": [
       "<Figure size 432x288 with 1 Axes>"
      ]
     },
     "metadata": {
      "needs_background": "light"
     },
     "output_type": "display_data"
    }
   ],
   "source": [
    "plt.hist(lasso_pred_list)\n",
    "plt.tight_layout()"
   ]
  },
  {
   "cell_type": "code",
   "execution_count": 91,
   "id": "92e8d987",
   "metadata": {},
   "outputs": [
    {
     "name": "stdout",
     "output_type": "stream",
     "text": [
      "(878, 2)\n"
     ]
    }
   ],
   "source": [
    "export = pd.DataFrame({'Id': test['Id'], 'SalePrice': lasso_pred_list})\n",
    "print(export.shape)\n",
    "export.to_csv('./datasets/testsubm_020722.csv', index=False)"
   ]
  },
  {
   "cell_type": "code",
   "execution_count": null,
   "id": "ce9e646f",
   "metadata": {},
   "outputs": [],
   "source": []
  },
  {
   "cell_type": "code",
   "execution_count": null,
   "id": "fe852ec3",
   "metadata": {},
   "outputs": [],
   "source": []
  }
 ],
 "metadata": {
  "kernelspec": {
   "display_name": "Python 3 (ipykernel)",
   "language": "python",
   "name": "python3"
  },
  "language_info": {
   "codemirror_mode": {
    "name": "ipython",
    "version": 3
   },
   "file_extension": ".py",
   "mimetype": "text/x-python",
   "name": "python",
   "nbconvert_exporter": "python",
   "pygments_lexer": "ipython3",
   "version": "3.9.7"
  }
 },
 "nbformat": 4,
 "nbformat_minor": 5
}
